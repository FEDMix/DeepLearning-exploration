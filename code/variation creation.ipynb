{
 "cells": [
  {
   "cell_type": "code",
   "execution_count": 69,
   "metadata": {},
   "outputs": [],
   "source": [
    "import skimage.io as io\n",
    "import os\n",
    "import numpy as np\n",
    "from skimage import exposure\n",
    "from scipy.stats import norm\n",
    "import matplotlib.pyplot as plt\n",
    "%matplotlib inline\n",
    "plt.rcParams[\"figure.figsize\"] = [10,10]"
   ]
  },
  {
   "cell_type": "code",
   "execution_count": 167,
   "metadata": {
    "scrolled": true
   },
   "outputs": [
    {
     "name": "stdout",
     "output_type": "stream",
     "text": [
      "Case00.mhd (47, 512, 512)\n",
      "Case00_segmentation.mhd (47, 512, 512)\n",
      "0.0 0.0\n",
      "0.0 0.0\n"
     ]
    },
    {
     "name": "stderr",
     "output_type": "stream",
     "text": [
      "/export/scratch1/home/arkadiy/.local/lib/python2.7/site-packages/skimage/io/_io.py:140: UserWarning: ../data/segmentations_with_erosion_try2/Case00_segmentation_0.jpg is a low contrast image\n",
      "  warn('%s is a low contrast image' % fname)\n",
      "/export/scratch1/home/arkadiy/.local/lib/python2.7/site-packages/skimage/io/_io.py:140: UserWarning: ../data/segmentations_with_erosion_try2/Case00_segmentation_1.jpg is a low contrast image\n",
      "  warn('%s is a low contrast image' % fname)\n"
     ]
    },
    {
     "name": "stdout",
     "output_type": "stream",
     "text": [
      "0.0 0.0\n",
      "0.0 0.0\n",
      "0.0 0.0\n"
     ]
    },
    {
     "name": "stderr",
     "output_type": "stream",
     "text": [
      "/export/scratch1/home/arkadiy/.local/lib/python2.7/site-packages/skimage/io/_io.py:140: UserWarning: ../data/segmentations_with_erosion_try2/Case00_segmentation_2.jpg is a low contrast image\n",
      "  warn('%s is a low contrast image' % fname)\n",
      "/export/scratch1/home/arkadiy/.local/lib/python2.7/site-packages/skimage/io/_io.py:140: UserWarning: ../data/segmentations_with_erosion_try2/Case00_segmentation_3.jpg is a low contrast image\n",
      "  warn('%s is a low contrast image' % fname)\n",
      "/export/scratch1/home/arkadiy/.local/lib/python2.7/site-packages/skimage/io/_io.py:140: UserWarning: ../data/segmentations_with_erosion_try2/Case00_segmentation_4.jpg is a low contrast image\n",
      "  warn('%s is a low contrast image' % fname)\n"
     ]
    },
    {
     "name": "stdout",
     "output_type": "stream",
     "text": [
      "0.0 0.0\n",
      "0.0 0.0\n",
      "0.0 0.0\n"
     ]
    },
    {
     "name": "stderr",
     "output_type": "stream",
     "text": [
      "/export/scratch1/home/arkadiy/.local/lib/python2.7/site-packages/skimage/io/_io.py:140: UserWarning: ../data/segmentations_with_erosion_try2/Case00_segmentation_5.jpg is a low contrast image\n",
      "  warn('%s is a low contrast image' % fname)\n",
      "/export/scratch1/home/arkadiy/.local/lib/python2.7/site-packages/skimage/io/_io.py:140: UserWarning: ../data/segmentations_with_erosion_try2/Case00_segmentation_6.jpg is a low contrast image\n",
      "  warn('%s is a low contrast image' % fname)\n",
      "/export/scratch1/home/arkadiy/.local/lib/python2.7/site-packages/skimage/io/_io.py:140: UserWarning: ../data/segmentations_with_erosion_try2/Case00_segmentation_7.jpg is a low contrast image\n",
      "  warn('%s is a low contrast image' % fname)\n"
     ]
    },
    {
     "name": "stdout",
     "output_type": "stream",
     "text": [
      "0.0 0.0\n",
      "0.0 0.0\n",
      "0.0 0.0\n"
     ]
    },
    {
     "name": "stderr",
     "output_type": "stream",
     "text": [
      "/export/scratch1/home/arkadiy/.local/lib/python2.7/site-packages/skimage/io/_io.py:140: UserWarning: ../data/segmentations_with_erosion_try2/Case00_segmentation_8.jpg is a low contrast image\n",
      "  warn('%s is a low contrast image' % fname)\n",
      "/export/scratch1/home/arkadiy/.local/lib/python2.7/site-packages/skimage/io/_io.py:140: UserWarning: ../data/segmentations_with_erosion_try2/Case00_segmentation_9.jpg is a low contrast image\n",
      "  warn('%s is a low contrast image' % fname)\n",
      "/export/scratch1/home/arkadiy/.local/lib/python2.7/site-packages/skimage/io/_io.py:140: UserWarning: ../data/segmentations_with_erosion_try2/Case00_segmentation_10.jpg is a low contrast image\n",
      "  warn('%s is a low contrast image' % fname)\n"
     ]
    },
    {
     "name": "stdout",
     "output_type": "stream",
     "text": [
      "0.0 0.0\n",
      "3988.0 2921.0\n",
      "5845.0 3842.0\n"
     ]
    },
    {
     "name": "stderr",
     "output_type": "stream",
     "text": [
      "/export/scratch1/home/arkadiy/.local/lib/python2.7/site-packages/skimage/io/_io.py:140: UserWarning: ../data/segmentations_with_erosion_try2/Case00_segmentation_11.jpg is a low contrast image\n",
      "  warn('%s is a low contrast image' % fname)\n"
     ]
    },
    {
     "name": "stdout",
     "output_type": "stream",
     "text": [
      "7108.0 4635.0\n",
      "9883.0 7713.0\n",
      "10302.0 8440.0\n",
      "11860.0 8337.0\n",
      "13797.0 11246.0\n",
      "15079.0 13326.0\n",
      "16515.0 11855.0\n",
      "17298.0 12600.0\n",
      "17740.0 14866.0\n",
      "17497.0 15098.0\n",
      "18504.0 15163.0\n",
      "17062.0 13462.0\n",
      "17460.0 13832.0\n",
      "17125.0 13091.0\n",
      "13469.0 11090.0\n",
      "12741.0 10056.0\n",
      "11106.0 8611.0\n",
      "8751.0 7499.0\n",
      "5451.0 4035.0\n",
      "3509.0 1866.0\n"
     ]
    },
    {
     "name": "stderr",
     "output_type": "stream",
     "text": [
      "/export/scratch1/home/arkadiy/.local/lib/python2.7/site-packages/skimage/io/_io.py:140: UserWarning: ../data/segmentations_with_erosion_try2/Case00_segmentation_33.jpg is a low contrast image\n",
      "  warn('%s is a low contrast image' % fname)\n",
      "/export/scratch1/home/arkadiy/.local/lib/python2.7/site-packages/skimage/io/_io.py:140: UserWarning: ../data/segmentations_with_erosion_try2/Case00_segmentation_34.jpg is a low contrast image\n",
      "  warn('%s is a low contrast image' % fname)\n",
      "/export/scratch1/home/arkadiy/.local/lib/python2.7/site-packages/skimage/io/_io.py:140: UserWarning: ../data/segmentations_with_erosion_try2/Case00_segmentation_35.jpg is a low contrast image\n",
      "  warn('%s is a low contrast image' % fname)\n"
     ]
    },
    {
     "name": "stdout",
     "output_type": "stream",
     "text": [
      "3168.0 1659.0\n",
      "1221.0 566.0\n",
      "286.0 0.0\n",
      "0.0 0.0\n",
      "0.0 0.0\n",
      "0.0 0.0\n",
      "0.0 0.0\n"
     ]
    },
    {
     "name": "stderr",
     "output_type": "stream",
     "text": [
      "/export/scratch1/home/arkadiy/.local/lib/python2.7/site-packages/skimage/io/_io.py:140: UserWarning: ../data/segmentations_with_erosion_try2/Case00_segmentation_36.jpg is a low contrast image\n",
      "  warn('%s is a low contrast image' % fname)\n",
      "/export/scratch1/home/arkadiy/.local/lib/python2.7/site-packages/skimage/io/_io.py:140: UserWarning: ../data/segmentations_with_erosion_try2/Case00_segmentation_37.jpg is a low contrast image\n",
      "  warn('%s is a low contrast image' % fname)\n",
      "/export/scratch1/home/arkadiy/.local/lib/python2.7/site-packages/skimage/io/_io.py:140: UserWarning: ../data/segmentations_with_erosion_try2/Case00_segmentation_38.jpg is a low contrast image\n",
      "  warn('%s is a low contrast image' % fname)\n",
      "/export/scratch1/home/arkadiy/.local/lib/python2.7/site-packages/skimage/io/_io.py:140: UserWarning: ../data/segmentations_with_erosion_try2/Case00_segmentation_39.jpg is a low contrast image\n",
      "  warn('%s is a low contrast image' % fname)\n",
      "/export/scratch1/home/arkadiy/.local/lib/python2.7/site-packages/skimage/io/_io.py:140: UserWarning: ../data/segmentations_with_erosion_try2/Case00_segmentation_40.jpg is a low contrast image\n",
      "  warn('%s is a low contrast image' % fname)\n"
     ]
    },
    {
     "name": "stdout",
     "output_type": "stream",
     "text": [
      "0.0 0.0\n",
      "0.0 0.0\n",
      "0.0 0.0\n"
     ]
    },
    {
     "name": "stderr",
     "output_type": "stream",
     "text": [
      "/export/scratch1/home/arkadiy/.local/lib/python2.7/site-packages/skimage/io/_io.py:140: UserWarning: ../data/segmentations_with_erosion_try2/Case00_segmentation_41.jpg is a low contrast image\n",
      "  warn('%s is a low contrast image' % fname)\n",
      "/export/scratch1/home/arkadiy/.local/lib/python2.7/site-packages/skimage/io/_io.py:140: UserWarning: ../data/segmentations_with_erosion_try2/Case00_segmentation_42.jpg is a low contrast image\n",
      "  warn('%s is a low contrast image' % fname)\n",
      "/export/scratch1/home/arkadiy/.local/lib/python2.7/site-packages/skimage/io/_io.py:140: UserWarning: ../data/segmentations_with_erosion_try2/Case00_segmentation_43.jpg is a low contrast image\n",
      "  warn('%s is a low contrast image' % fname)\n"
     ]
    },
    {
     "name": "stdout",
     "output_type": "stream",
     "text": [
      "0.0 0.0\n",
      "0.0 0.0\n",
      "0.0 0.0\n",
      "Case01.mhd (29, 512, 512)\n"
     ]
    },
    {
     "name": "stderr",
     "output_type": "stream",
     "text": [
      "/export/scratch1/home/arkadiy/.local/lib/python2.7/site-packages/skimage/io/_io.py:140: UserWarning: ../data/segmentations_with_erosion_try2/Case00_segmentation_44.jpg is a low contrast image\n",
      "  warn('%s is a low contrast image' % fname)\n",
      "/export/scratch1/home/arkadiy/.local/lib/python2.7/site-packages/skimage/io/_io.py:140: UserWarning: ../data/segmentations_with_erosion_try2/Case00_segmentation_45.jpg is a low contrast image\n",
      "  warn('%s is a low contrast image' % fname)\n",
      "/export/scratch1/home/arkadiy/.local/lib/python2.7/site-packages/skimage/io/_io.py:140: UserWarning: ../data/segmentations_with_erosion_try2/Case00_segmentation_46.jpg is a low contrast image\n",
      "  warn('%s is a low contrast image' % fname)\n"
     ]
    },
    {
     "name": "stdout",
     "output_type": "stream",
     "text": [
      "Case01_segmentation.mhd (29, 512, 512)\n",
      "0.0 0.0\n",
      "0.0 0.0\n"
     ]
    },
    {
     "name": "stderr",
     "output_type": "stream",
     "text": [
      "/export/scratch1/home/arkadiy/.local/lib/python2.7/site-packages/skimage/io/_io.py:140: UserWarning: ../data/segmentations_with_erosion_try2/Case01_segmentation_0.jpg is a low contrast image\n",
      "  warn('%s is a low contrast image' % fname)\n",
      "/export/scratch1/home/arkadiy/.local/lib/python2.7/site-packages/skimage/io/_io.py:140: UserWarning: ../data/segmentations_with_erosion_try2/Case01_segmentation_1.jpg is a low contrast image\n",
      "  warn('%s is a low contrast image' % fname)\n",
      "/export/scratch1/home/arkadiy/.local/lib/python2.7/site-packages/skimage/io/_io.py:140: UserWarning: ../data/segmentations_with_erosion_try2/Case01_segmentation_2.jpg is a low contrast image\n",
      "  warn('%s is a low contrast image' % fname)\n"
     ]
    },
    {
     "name": "stdout",
     "output_type": "stream",
     "text": [
      "0.0 0.0\n",
      "0.0 0.0\n",
      "0.0 0.0\n",
      "0.0 0.0\n",
      "0.0 0.0\n"
     ]
    },
    {
     "name": "stderr",
     "output_type": "stream",
     "text": [
      "/export/scratch1/home/arkadiy/.local/lib/python2.7/site-packages/skimage/io/_io.py:140: UserWarning: ../data/segmentations_with_erosion_try2/Case01_segmentation_3.jpg is a low contrast image\n",
      "  warn('%s is a low contrast image' % fname)\n",
      "/export/scratch1/home/arkadiy/.local/lib/python2.7/site-packages/skimage/io/_io.py:140: UserWarning: ../data/segmentations_with_erosion_try2/Case01_segmentation_4.jpg is a low contrast image\n",
      "  warn('%s is a low contrast image' % fname)\n",
      "/export/scratch1/home/arkadiy/.local/lib/python2.7/site-packages/skimage/io/_io.py:140: UserWarning: ../data/segmentations_with_erosion_try2/Case01_segmentation_5.jpg is a low contrast image\n",
      "  warn('%s is a low contrast image' % fname)\n",
      "/export/scratch1/home/arkadiy/.local/lib/python2.7/site-packages/skimage/io/_io.py:140: UserWarning: ../data/segmentations_with_erosion_try2/Case01_segmentation_6.jpg is a low contrast image\n",
      "  warn('%s is a low contrast image' % fname)\n"
     ]
    },
    {
     "name": "stdout",
     "output_type": "stream",
     "text": [
      "2182.0 864.0\n",
      "4860.0 2821.0\n",
      "7935.0 6333.0\n"
     ]
    },
    {
     "name": "stderr",
     "output_type": "stream",
     "text": [
      "/export/scratch1/home/arkadiy/.local/lib/python2.7/site-packages/skimage/io/_io.py:140: UserWarning: ../data/segmentations_with_erosion_try2/Case01_segmentation_7.jpg is a low contrast image\n",
      "  warn('%s is a low contrast image' % fname)\n"
     ]
    },
    {
     "name": "stdout",
     "output_type": "stream",
     "text": [
      "10746.0 7582.0\n",
      "11892.0 9619.0\n",
      "12832.0 10855.0\n",
      "12938.0 10947.0\n",
      "13112.0 10424.0\n",
      "8757.0 6563.0\n",
      "8537.0 6382.0\n",
      "7517.0 6648.0\n",
      "7073.0 5993.0\n",
      "6181.0 4134.0\n",
      "0.0 0.0\n",
      "0.0 0.0\n",
      "0.0 0.0\n"
     ]
    },
    {
     "name": "stderr",
     "output_type": "stream",
     "text": [
      "/export/scratch1/home/arkadiy/.local/lib/python2.7/site-packages/skimage/io/_io.py:140: UserWarning: ../data/segmentations_with_erosion_try2/Case01_segmentation_20.jpg is a low contrast image\n",
      "  warn('%s is a low contrast image' % fname)\n",
      "/export/scratch1/home/arkadiy/.local/lib/python2.7/site-packages/skimage/io/_io.py:140: UserWarning: ../data/segmentations_with_erosion_try2/Case01_segmentation_21.jpg is a low contrast image\n",
      "  warn('%s is a low contrast image' % fname)\n",
      "/export/scratch1/home/arkadiy/.local/lib/python2.7/site-packages/skimage/io/_io.py:140: UserWarning: ../data/segmentations_with_erosion_try2/Case01_segmentation_22.jpg is a low contrast image\n",
      "  warn('%s is a low contrast image' % fname)\n"
     ]
    },
    {
     "name": "stdout",
     "output_type": "stream",
     "text": [
      "0.0 0.0\n",
      "0.0 0.0\n",
      "0.0 0.0\n"
     ]
    },
    {
     "name": "stderr",
     "output_type": "stream",
     "text": [
      "/export/scratch1/home/arkadiy/.local/lib/python2.7/site-packages/skimage/io/_io.py:140: UserWarning: ../data/segmentations_with_erosion_try2/Case01_segmentation_23.jpg is a low contrast image\n",
      "  warn('%s is a low contrast image' % fname)\n",
      "/export/scratch1/home/arkadiy/.local/lib/python2.7/site-packages/skimage/io/_io.py:140: UserWarning: ../data/segmentations_with_erosion_try2/Case01_segmentation_24.jpg is a low contrast image\n",
      "  warn('%s is a low contrast image' % fname)\n",
      "/export/scratch1/home/arkadiy/.local/lib/python2.7/site-packages/skimage/io/_io.py:140: UserWarning: ../data/segmentations_with_erosion_try2/Case01_segmentation_25.jpg is a low contrast image\n",
      "  warn('%s is a low contrast image' % fname)\n"
     ]
    },
    {
     "name": "stdout",
     "output_type": "stream",
     "text": [
      "0.0 0.0\n"
     ]
    },
    {
     "name": "stderr",
     "output_type": "stream",
     "text": [
      "/export/scratch1/home/arkadiy/.local/lib/python2.7/site-packages/skimage/io/_io.py:140: UserWarning: ../data/segmentations_with_erosion_try2/Case01_segmentation_26.jpg is a low contrast image\n",
      "  warn('%s is a low contrast image' % fname)\n"
     ]
    },
    {
     "name": "stdout",
     "output_type": "stream",
     "text": [
      "0.0 0.0\n",
      "0.0 0.0\n",
      "Case02.mhd (54, 512, 512)\n"
     ]
    },
    {
     "name": "stderr",
     "output_type": "stream",
     "text": [
      "/export/scratch1/home/arkadiy/.local/lib/python2.7/site-packages/skimage/io/_io.py:140: UserWarning: ../data/segmentations_with_erosion_try2/Case01_segmentation_27.jpg is a low contrast image\n",
      "  warn('%s is a low contrast image' % fname)\n",
      "/export/scratch1/home/arkadiy/.local/lib/python2.7/site-packages/skimage/io/_io.py:140: UserWarning: ../data/segmentations_with_erosion_try2/Case01_segmentation_28.jpg is a low contrast image\n",
      "  warn('%s is a low contrast image' % fname)\n"
     ]
    },
    {
     "name": "stdout",
     "output_type": "stream",
     "text": [
      "Case02_segmentation.mhd (54, 512, 512)\n",
      "0.0 0.0\n",
      "0.0 0.0\n"
     ]
    },
    {
     "name": "stderr",
     "output_type": "stream",
     "text": [
      "/export/scratch1/home/arkadiy/.local/lib/python2.7/site-packages/skimage/io/_io.py:140: UserWarning: ../data/segmentations_with_erosion_try2/Case02_segmentation_0.jpg is a low contrast image\n",
      "  warn('%s is a low contrast image' % fname)\n",
      "/export/scratch1/home/arkadiy/.local/lib/python2.7/site-packages/skimage/io/_io.py:140: UserWarning: ../data/segmentations_with_erosion_try2/Case02_segmentation_1.jpg is a low contrast image\n",
      "  warn('%s is a low contrast image' % fname)\n",
      "/export/scratch1/home/arkadiy/.local/lib/python2.7/site-packages/skimage/io/_io.py:140: UserWarning: ../data/segmentations_with_erosion_try2/Case02_segmentation_2.jpg is a low contrast image\n",
      "  warn('%s is a low contrast image' % fname)\n"
     ]
    },
    {
     "name": "stdout",
     "output_type": "stream",
     "text": [
      "0.0 0.0\n",
      "0.0 0.0\n",
      "0.0 0.0\n"
     ]
    },
    {
     "name": "stderr",
     "output_type": "stream",
     "text": [
      "/export/scratch1/home/arkadiy/.local/lib/python2.7/site-packages/skimage/io/_io.py:140: UserWarning: ../data/segmentations_with_erosion_try2/Case02_segmentation_3.jpg is a low contrast image\n",
      "  warn('%s is a low contrast image' % fname)\n",
      "/export/scratch1/home/arkadiy/.local/lib/python2.7/site-packages/skimage/io/_io.py:140: UserWarning: ../data/segmentations_with_erosion_try2/Case02_segmentation_4.jpg is a low contrast image\n",
      "  warn('%s is a low contrast image' % fname)\n"
     ]
    },
    {
     "name": "stdout",
     "output_type": "stream",
     "text": [
      "0.0 0.0\n",
      "0.0 0.0\n",
      "0.0 0.0\n"
     ]
    },
    {
     "name": "stderr",
     "output_type": "stream",
     "text": [
      "/export/scratch1/home/arkadiy/.local/lib/python2.7/site-packages/skimage/io/_io.py:140: UserWarning: ../data/segmentations_with_erosion_try2/Case02_segmentation_5.jpg is a low contrast image\n",
      "  warn('%s is a low contrast image' % fname)\n",
      "/export/scratch1/home/arkadiy/.local/lib/python2.7/site-packages/skimage/io/_io.py:140: UserWarning: ../data/segmentations_with_erosion_try2/Case02_segmentation_6.jpg is a low contrast image\n",
      "  warn('%s is a low contrast image' % fname)\n",
      "/export/scratch1/home/arkadiy/.local/lib/python2.7/site-packages/skimage/io/_io.py:140: UserWarning: ../data/segmentations_with_erosion_try2/Case02_segmentation_7.jpg is a low contrast image\n",
      "  warn('%s is a low contrast image' % fname)\n"
     ]
    },
    {
     "name": "stdout",
     "output_type": "stream",
     "text": [
      "0.0 0.0\n",
      "0.0 0.0\n"
     ]
    },
    {
     "name": "stderr",
     "output_type": "stream",
     "text": [
      "/export/scratch1/home/arkadiy/.local/lib/python2.7/site-packages/skimage/io/_io.py:140: UserWarning: ../data/segmentations_with_erosion_try2/Case02_segmentation_8.jpg is a low contrast image\n",
      "  warn('%s is a low contrast image' % fname)\n",
      "/export/scratch1/home/arkadiy/.local/lib/python2.7/site-packages/skimage/io/_io.py:140: UserWarning: ../data/segmentations_with_erosion_try2/Case02_segmentation_9.jpg is a low contrast image\n",
      "  warn('%s is a low contrast image' % fname)\n"
     ]
    },
    {
     "name": "stdout",
     "output_type": "stream",
     "text": [
      "0.0 0.0\n",
      "0.0 0.0\n",
      "0.0 0.0\n",
      "0.0 0.0\n"
     ]
    },
    {
     "name": "stderr",
     "output_type": "stream",
     "text": [
      "/export/scratch1/home/arkadiy/.local/lib/python2.7/site-packages/skimage/io/_io.py:140: UserWarning: ../data/segmentations_with_erosion_try2/Case02_segmentation_10.jpg is a low contrast image\n",
      "  warn('%s is a low contrast image' % fname)\n",
      "/export/scratch1/home/arkadiy/.local/lib/python2.7/site-packages/skimage/io/_io.py:140: UserWarning: ../data/segmentations_with_erosion_try2/Case02_segmentation_11.jpg is a low contrast image\n",
      "  warn('%s is a low contrast image' % fname)\n",
      "/export/scratch1/home/arkadiy/.local/lib/python2.7/site-packages/skimage/io/_io.py:140: UserWarning: ../data/segmentations_with_erosion_try2/Case02_segmentation_12.jpg is a low contrast image\n",
      "  warn('%s is a low contrast image' % fname)\n",
      "/export/scratch1/home/arkadiy/.local/lib/python2.7/site-packages/skimage/io/_io.py:140: UserWarning: ../data/segmentations_with_erosion_try2/Case02_segmentation_13.jpg is a low contrast image\n",
      "  warn('%s is a low contrast image' % fname)\n"
     ]
    },
    {
     "name": "stdout",
     "output_type": "stream",
     "text": [
      "0.0 0.0\n",
      "0.0 0.0\n"
     ]
    },
    {
     "name": "stderr",
     "output_type": "stream",
     "text": [
      "/export/scratch1/home/arkadiy/.local/lib/python2.7/site-packages/skimage/io/_io.py:140: UserWarning: ../data/segmentations_with_erosion_try2/Case02_segmentation_14.jpg is a low contrast image\n",
      "  warn('%s is a low contrast image' % fname)\n",
      "/export/scratch1/home/arkadiy/.local/lib/python2.7/site-packages/skimage/io/_io.py:140: UserWarning: ../data/segmentations_with_erosion_try2/Case02_segmentation_15.jpg is a low contrast image\n",
      "  warn('%s is a low contrast image' % fname)\n"
     ]
    },
    {
     "name": "stdout",
     "output_type": "stream",
     "text": [
      "0.0 0.0\n",
      "1913.0 1081.0\n"
     ]
    },
    {
     "name": "stderr",
     "output_type": "stream",
     "text": [
      "/export/scratch1/home/arkadiy/.local/lib/python2.7/site-packages/skimage/io/_io.py:140: UserWarning: ../data/segmentations_with_erosion_try2/Case02_segmentation_16.jpg is a low contrast image\n",
      "  warn('%s is a low contrast image' % fname)\n",
      "/export/scratch1/home/arkadiy/.local/lib/python2.7/site-packages/skimage/io/_io.py:140: UserWarning: ../data/segmentations_with_erosion_try2/Case02_segmentation_17.jpg is a low contrast image\n",
      "  warn('%s is a low contrast image' % fname)\n"
     ]
    },
    {
     "name": "stdout",
     "output_type": "stream",
     "text": [
      "2408.0 915.0\n",
      "3425.0 2112.0\n",
      "5483.0 4016.0\n"
     ]
    },
    {
     "name": "stderr",
     "output_type": "stream",
     "text": [
      "/export/scratch1/home/arkadiy/.local/lib/python2.7/site-packages/skimage/io/_io.py:140: UserWarning: ../data/segmentations_with_erosion_try2/Case02_segmentation_18.jpg is a low contrast image\n",
      "  warn('%s is a low contrast image' % fname)\n",
      "/export/scratch1/home/arkadiy/.local/lib/python2.7/site-packages/skimage/io/_io.py:140: UserWarning: ../data/segmentations_with_erosion_try2/Case02_segmentation_19.jpg is a low contrast image\n",
      "  warn('%s is a low contrast image' % fname)\n"
     ]
    },
    {
     "name": "stdout",
     "output_type": "stream",
     "text": [
      "7669.0 5612.0\n",
      "8890.0 6945.0\n",
      "10121.0 9450.0\n",
      "11255.0 10155.0\n",
      "11661.0 10200.0\n",
      "12328.0 11953.0\n",
      "12422.0 9768.0\n",
      "12228.0 9936.0\n",
      "12463.0 10162.0\n",
      "11949.0 9344.0\n",
      "12884.0 10177.0\n",
      "12483.0 9835.0\n",
      "10570.0 8767.0\n",
      "7324.0 6202.0\n",
      "5869.0 4142.0\n",
      "1838.0 948.0\n",
      "0.0 0.0\n",
      "0.0 0.0\n",
      "0.0 0.0\n"
     ]
    },
    {
     "name": "stderr",
     "output_type": "stream",
     "text": [
      "/export/scratch1/home/arkadiy/.local/lib/python2.7/site-packages/skimage/io/_io.py:140: UserWarning: ../data/segmentations_with_erosion_try2/Case02_segmentation_36.jpg is a low contrast image\n",
      "  warn('%s is a low contrast image' % fname)\n",
      "/export/scratch1/home/arkadiy/.local/lib/python2.7/site-packages/skimage/io/_io.py:140: UserWarning: ../data/segmentations_with_erosion_try2/Case02_segmentation_37.jpg is a low contrast image\n",
      "  warn('%s is a low contrast image' % fname)\n",
      "/export/scratch1/home/arkadiy/.local/lib/python2.7/site-packages/skimage/io/_io.py:140: UserWarning: ../data/segmentations_with_erosion_try2/Case02_segmentation_38.jpg is a low contrast image\n",
      "  warn('%s is a low contrast image' % fname)\n",
      "/export/scratch1/home/arkadiy/.local/lib/python2.7/site-packages/skimage/io/_io.py:140: UserWarning: ../data/segmentations_with_erosion_try2/Case02_segmentation_39.jpg is a low contrast image\n",
      "  warn('%s is a low contrast image' % fname)\n"
     ]
    },
    {
     "name": "stdout",
     "output_type": "stream",
     "text": [
      "0.0 0.0\n",
      "0.0 0.0\n",
      "0.0 0.0\n"
     ]
    },
    {
     "name": "stderr",
     "output_type": "stream",
     "text": [
      "/export/scratch1/home/arkadiy/.local/lib/python2.7/site-packages/skimage/io/_io.py:140: UserWarning: ../data/segmentations_with_erosion_try2/Case02_segmentation_40.jpg is a low contrast image\n",
      "  warn('%s is a low contrast image' % fname)\n",
      "/export/scratch1/home/arkadiy/.local/lib/python2.7/site-packages/skimage/io/_io.py:140: UserWarning: ../data/segmentations_with_erosion_try2/Case02_segmentation_41.jpg is a low contrast image\n",
      "  warn('%s is a low contrast image' % fname)\n",
      "/export/scratch1/home/arkadiy/.local/lib/python2.7/site-packages/skimage/io/_io.py:140: UserWarning: ../data/segmentations_with_erosion_try2/Case02_segmentation_42.jpg is a low contrast image\n",
      "  warn('%s is a low contrast image' % fname)\n"
     ]
    },
    {
     "name": "stdout",
     "output_type": "stream",
     "text": [
      "0.0 0.0\n",
      "0.0 0.0\n"
     ]
    },
    {
     "name": "stderr",
     "output_type": "stream",
     "text": [
      "/export/scratch1/home/arkadiy/.local/lib/python2.7/site-packages/skimage/io/_io.py:140: UserWarning: ../data/segmentations_with_erosion_try2/Case02_segmentation_43.jpg is a low contrast image\n",
      "  warn('%s is a low contrast image' % fname)\n",
      "/export/scratch1/home/arkadiy/.local/lib/python2.7/site-packages/skimage/io/_io.py:140: UserWarning: ../data/segmentations_with_erosion_try2/Case02_segmentation_44.jpg is a low contrast image\n",
      "  warn('%s is a low contrast image' % fname)\n"
     ]
    },
    {
     "name": "stdout",
     "output_type": "stream",
     "text": [
      "0.0 0.0\n",
      "0.0 0.0\n",
      "0.0 0.0\n",
      "0.0 0.0\n",
      "0.0 0.0\n"
     ]
    },
    {
     "name": "stderr",
     "output_type": "stream",
     "text": [
      "/export/scratch1/home/arkadiy/.local/lib/python2.7/site-packages/skimage/io/_io.py:140: UserWarning: ../data/segmentations_with_erosion_try2/Case02_segmentation_45.jpg is a low contrast image\n",
      "  warn('%s is a low contrast image' % fname)\n",
      "/export/scratch1/home/arkadiy/.local/lib/python2.7/site-packages/skimage/io/_io.py:140: UserWarning: ../data/segmentations_with_erosion_try2/Case02_segmentation_46.jpg is a low contrast image\n",
      "  warn('%s is a low contrast image' % fname)\n",
      "/export/scratch1/home/arkadiy/.local/lib/python2.7/site-packages/skimage/io/_io.py:140: UserWarning: ../data/segmentations_with_erosion_try2/Case02_segmentation_47.jpg is a low contrast image\n",
      "  warn('%s is a low contrast image' % fname)\n",
      "/export/scratch1/home/arkadiy/.local/lib/python2.7/site-packages/skimage/io/_io.py:140: UserWarning: ../data/segmentations_with_erosion_try2/Case02_segmentation_48.jpg is a low contrast image\n",
      "  warn('%s is a low contrast image' % fname)\n",
      "/export/scratch1/home/arkadiy/.local/lib/python2.7/site-packages/skimage/io/_io.py:140: UserWarning: ../data/segmentations_with_erosion_try2/Case02_segmentation_49.jpg is a low contrast image\n",
      "  warn('%s is a low contrast image' % fname)\n"
     ]
    },
    {
     "name": "stdout",
     "output_type": "stream",
     "text": [
      "0.0 0.0\n",
      "0.0 0.0\n",
      "0.0 0.0\n"
     ]
    },
    {
     "name": "stderr",
     "output_type": "stream",
     "text": [
      "/export/scratch1/home/arkadiy/.local/lib/python2.7/site-packages/skimage/io/_io.py:140: UserWarning: ../data/segmentations_with_erosion_try2/Case02_segmentation_50.jpg is a low contrast image\n",
      "  warn('%s is a low contrast image' % fname)\n",
      "/export/scratch1/home/arkadiy/.local/lib/python2.7/site-packages/skimage/io/_io.py:140: UserWarning: ../data/segmentations_with_erosion_try2/Case02_segmentation_51.jpg is a low contrast image\n",
      "  warn('%s is a low contrast image' % fname)\n",
      "/export/scratch1/home/arkadiy/.local/lib/python2.7/site-packages/skimage/io/_io.py:140: UserWarning: ../data/segmentations_with_erosion_try2/Case02_segmentation_52.jpg is a low contrast image\n",
      "  warn('%s is a low contrast image' % fname)\n"
     ]
    },
    {
     "name": "stdout",
     "output_type": "stream",
     "text": [
      "0.0 0.0\n",
      "Case03.mhd (42, 512, 512)\n"
     ]
    },
    {
     "name": "stderr",
     "output_type": "stream",
     "text": [
      "/export/scratch1/home/arkadiy/.local/lib/python2.7/site-packages/skimage/io/_io.py:140: UserWarning: ../data/segmentations_with_erosion_try2/Case02_segmentation_53.jpg is a low contrast image\n",
      "  warn('%s is a low contrast image' % fname)\n"
     ]
    },
    {
     "name": "stdout",
     "output_type": "stream",
     "text": [
      "Case03_segmentation.mhd (42, 512, 512)\n",
      "0.0 0.0\n",
      "0.0 0.0\n"
     ]
    },
    {
     "name": "stderr",
     "output_type": "stream",
     "text": [
      "/export/scratch1/home/arkadiy/.local/lib/python2.7/site-packages/skimage/io/_io.py:140: UserWarning: ../data/segmentations_with_erosion_try2/Case03_segmentation_0.jpg is a low contrast image\n",
      "  warn('%s is a low contrast image' % fname)\n",
      "/export/scratch1/home/arkadiy/.local/lib/python2.7/site-packages/skimage/io/_io.py:140: UserWarning: ../data/segmentations_with_erosion_try2/Case03_segmentation_1.jpg is a low contrast image\n",
      "  warn('%s is a low contrast image' % fname)\n",
      "/export/scratch1/home/arkadiy/.local/lib/python2.7/site-packages/skimage/io/_io.py:140: UserWarning: ../data/segmentations_with_erosion_try2/Case03_segmentation_2.jpg is a low contrast image\n",
      "  warn('%s is a low contrast image' % fname)\n"
     ]
    },
    {
     "name": "stdout",
     "output_type": "stream",
     "text": [
      "0.0 0.0\n",
      "0.0 0.0\n",
      "0.0 0.0\n"
     ]
    },
    {
     "name": "stderr",
     "output_type": "stream",
     "text": [
      "/export/scratch1/home/arkadiy/.local/lib/python2.7/site-packages/skimage/io/_io.py:140: UserWarning: ../data/segmentations_with_erosion_try2/Case03_segmentation_3.jpg is a low contrast image\n",
      "  warn('%s is a low contrast image' % fname)\n",
      "/export/scratch1/home/arkadiy/.local/lib/python2.7/site-packages/skimage/io/_io.py:140: UserWarning: ../data/segmentations_with_erosion_try2/Case03_segmentation_4.jpg is a low contrast image\n",
      "  warn('%s is a low contrast image' % fname)\n",
      "/export/scratch1/home/arkadiy/.local/lib/python2.7/site-packages/skimage/io/_io.py:140: UserWarning: ../data/segmentations_with_erosion_try2/Case03_segmentation_5.jpg is a low contrast image\n",
      "  warn('%s is a low contrast image' % fname)\n",
      "/export/scratch1/home/arkadiy/.local/lib/python2.7/site-packages/skimage/io/_io.py:140: UserWarning: ../data/segmentations_with_erosion_try2/Case03_segmentation_6.jpg is a low contrast image\n",
      "  warn('%s is a low contrast image' % fname)\n"
     ]
    },
    {
     "name": "stdout",
     "output_type": "stream",
     "text": [
      "2104.0 1202.0\n",
      "3044.0 2476.0\n",
      "3912.0 2504.0\n"
     ]
    },
    {
     "name": "stderr",
     "output_type": "stream",
     "text": [
      "/export/scratch1/home/arkadiy/.local/lib/python2.7/site-packages/skimage/io/_io.py:140: UserWarning: ../data/segmentations_with_erosion_try2/Case03_segmentation_7.jpg is a low contrast image\n",
      "  warn('%s is a low contrast image' % fname)\n"
     ]
    },
    {
     "name": "stdout",
     "output_type": "stream",
     "text": [
      "5224.0 3356.0\n",
      "6509.0 4660.0\n",
      "6407.0 5285.0\n",
      "7824.0 6275.0\n",
      "9013.0 6503.0\n",
      "9474.0 7494.0\n",
      "9768.0 6238.0\n",
      "9718.0 7670.0\n",
      "10263.0 8463.0\n",
      "9665.0 6984.0\n",
      "10099.0 7661.0\n",
      "9236.0 7199.0\n",
      "9199.0 5611.0\n",
      "8570.0 6619.0\n",
      "8244.0 6093.0\n",
      "7712.0 5663.0\n",
      "0.0 0.0\n",
      "0.0 0.0\n"
     ]
    },
    {
     "name": "stderr",
     "output_type": "stream",
     "text": [
      "/export/scratch1/home/arkadiy/.local/lib/python2.7/site-packages/skimage/io/_io.py:140: UserWarning: ../data/segmentations_with_erosion_try2/Case03_segmentation_24.jpg is a low contrast image\n",
      "  warn('%s is a low contrast image' % fname)\n",
      "/export/scratch1/home/arkadiy/.local/lib/python2.7/site-packages/skimage/io/_io.py:140: UserWarning: ../data/segmentations_with_erosion_try2/Case03_segmentation_25.jpg is a low contrast image\n",
      "  warn('%s is a low contrast image' % fname)\n"
     ]
    },
    {
     "name": "stdout",
     "output_type": "stream",
     "text": [
      "0.0 0.0\n",
      "0.0 0.0\n"
     ]
    },
    {
     "name": "stderr",
     "output_type": "stream",
     "text": [
      "/export/scratch1/home/arkadiy/.local/lib/python2.7/site-packages/skimage/io/_io.py:140: UserWarning: ../data/segmentations_with_erosion_try2/Case03_segmentation_26.jpg is a low contrast image\n",
      "  warn('%s is a low contrast image' % fname)\n",
      "/export/scratch1/home/arkadiy/.local/lib/python2.7/site-packages/skimage/io/_io.py:140: UserWarning: ../data/segmentations_with_erosion_try2/Case03_segmentation_27.jpg is a low contrast image\n",
      "  warn('%s is a low contrast image' % fname)\n"
     ]
    },
    {
     "name": "stdout",
     "output_type": "stream",
     "text": [
      "0.0 0.0\n",
      "0.0 0.0\n",
      "0.0 0.0\n",
      "0.0 0.0\n"
     ]
    },
    {
     "name": "stderr",
     "output_type": "stream",
     "text": [
      "/export/scratch1/home/arkadiy/.local/lib/python2.7/site-packages/skimage/io/_io.py:140: UserWarning: ../data/segmentations_with_erosion_try2/Case03_segmentation_28.jpg is a low contrast image\n",
      "  warn('%s is a low contrast image' % fname)\n",
      "/export/scratch1/home/arkadiy/.local/lib/python2.7/site-packages/skimage/io/_io.py:140: UserWarning: ../data/segmentations_with_erosion_try2/Case03_segmentation_29.jpg is a low contrast image\n",
      "  warn('%s is a low contrast image' % fname)\n",
      "/export/scratch1/home/arkadiy/.local/lib/python2.7/site-packages/skimage/io/_io.py:140: UserWarning: ../data/segmentations_with_erosion_try2/Case03_segmentation_30.jpg is a low contrast image\n",
      "  warn('%s is a low contrast image' % fname)\n",
      "/export/scratch1/home/arkadiy/.local/lib/python2.7/site-packages/skimage/io/_io.py:140: UserWarning: ../data/segmentations_with_erosion_try2/Case03_segmentation_31.jpg is a low contrast image\n",
      "  warn('%s is a low contrast image' % fname)\n"
     ]
    },
    {
     "name": "stdout",
     "output_type": "stream",
     "text": [
      "0.0 0.0\n",
      "0.0 0.0\n"
     ]
    },
    {
     "name": "stderr",
     "output_type": "stream",
     "text": [
      "/export/scratch1/home/arkadiy/.local/lib/python2.7/site-packages/skimage/io/_io.py:140: UserWarning: ../data/segmentations_with_erosion_try2/Case03_segmentation_32.jpg is a low contrast image\n",
      "  warn('%s is a low contrast image' % fname)\n",
      "/export/scratch1/home/arkadiy/.local/lib/python2.7/site-packages/skimage/io/_io.py:140: UserWarning: ../data/segmentations_with_erosion_try2/Case03_segmentation_33.jpg is a low contrast image\n",
      "  warn('%s is a low contrast image' % fname)\n"
     ]
    },
    {
     "name": "stdout",
     "output_type": "stream",
     "text": [
      "0.0 0.0\n",
      "0.0 0.0\n",
      "0.0 0.0\n"
     ]
    },
    {
     "name": "stderr",
     "output_type": "stream",
     "text": [
      "/export/scratch1/home/arkadiy/.local/lib/python2.7/site-packages/skimage/io/_io.py:140: UserWarning: ../data/segmentations_with_erosion_try2/Case03_segmentation_34.jpg is a low contrast image\n",
      "  warn('%s is a low contrast image' % fname)\n",
      "/export/scratch1/home/arkadiy/.local/lib/python2.7/site-packages/skimage/io/_io.py:140: UserWarning: ../data/segmentations_with_erosion_try2/Case03_segmentation_35.jpg is a low contrast image\n",
      "  warn('%s is a low contrast image' % fname)\n",
      "/export/scratch1/home/arkadiy/.local/lib/python2.7/site-packages/skimage/io/_io.py:140: UserWarning: ../data/segmentations_with_erosion_try2/Case03_segmentation_36.jpg is a low contrast image\n",
      "  warn('%s is a low contrast image' % fname)\n"
     ]
    },
    {
     "name": "stdout",
     "output_type": "stream",
     "text": [
      "0.0 0.0\n",
      "0.0 0.0\n",
      "0.0 0.0\n",
      "0.0 0.0\n"
     ]
    },
    {
     "name": "stderr",
     "output_type": "stream",
     "text": [
      "/export/scratch1/home/arkadiy/.local/lib/python2.7/site-packages/skimage/io/_io.py:140: UserWarning: ../data/segmentations_with_erosion_try2/Case03_segmentation_37.jpg is a low contrast image\n",
      "  warn('%s is a low contrast image' % fname)\n",
      "/export/scratch1/home/arkadiy/.local/lib/python2.7/site-packages/skimage/io/_io.py:140: UserWarning: ../data/segmentations_with_erosion_try2/Case03_segmentation_38.jpg is a low contrast image\n",
      "  warn('%s is a low contrast image' % fname)\n",
      "/export/scratch1/home/arkadiy/.local/lib/python2.7/site-packages/skimage/io/_io.py:140: UserWarning: ../data/segmentations_with_erosion_try2/Case03_segmentation_39.jpg is a low contrast image\n",
      "  warn('%s is a low contrast image' % fname)\n",
      "/export/scratch1/home/arkadiy/.local/lib/python2.7/site-packages/skimage/io/_io.py:140: UserWarning: ../data/segmentations_with_erosion_try2/Case03_segmentation_40.jpg is a low contrast image\n",
      "  warn('%s is a low contrast image' % fname)\n"
     ]
    },
    {
     "name": "stdout",
     "output_type": "stream",
     "text": [
      "0.0 0.0\n",
      "Case04.mhd (46, 512, 512)\n"
     ]
    },
    {
     "name": "stderr",
     "output_type": "stream",
     "text": [
      "/export/scratch1/home/arkadiy/.local/lib/python2.7/site-packages/skimage/io/_io.py:140: UserWarning: ../data/segmentations_with_erosion_try2/Case03_segmentation_41.jpg is a low contrast image\n",
      "  warn('%s is a low contrast image' % fname)\n"
     ]
    },
    {
     "name": "stdout",
     "output_type": "stream",
     "text": [
      "Case04_segmentation.mhd (46, 512, 512)\n",
      "0.0 0.0\n",
      "0.0 0.0\n"
     ]
    },
    {
     "name": "stderr",
     "output_type": "stream",
     "text": [
      "/export/scratch1/home/arkadiy/.local/lib/python2.7/site-packages/skimage/io/_io.py:140: UserWarning: ../data/segmentations_with_erosion_try2/Case04_segmentation_0.jpg is a low contrast image\n",
      "  warn('%s is a low contrast image' % fname)\n",
      "/export/scratch1/home/arkadiy/.local/lib/python2.7/site-packages/skimage/io/_io.py:140: UserWarning: ../data/segmentations_with_erosion_try2/Case04_segmentation_1.jpg is a low contrast image\n",
      "  warn('%s is a low contrast image' % fname)\n",
      "/export/scratch1/home/arkadiy/.local/lib/python2.7/site-packages/skimage/io/_io.py:140: UserWarning: ../data/segmentations_with_erosion_try2/Case04_segmentation_2.jpg is a low contrast image\n",
      "  warn('%s is a low contrast image' % fname)\n"
     ]
    },
    {
     "name": "stdout",
     "output_type": "stream",
     "text": [
      "0.0 0.0\n",
      "0.0 0.0\n"
     ]
    },
    {
     "name": "stderr",
     "output_type": "stream",
     "text": [
      "/export/scratch1/home/arkadiy/.local/lib/python2.7/site-packages/skimage/io/_io.py:140: UserWarning: ../data/segmentations_with_erosion_try2/Case04_segmentation_3.jpg is a low contrast image\n",
      "  warn('%s is a low contrast image' % fname)\n",
      "/export/scratch1/home/arkadiy/.local/lib/python2.7/site-packages/skimage/io/_io.py:140: UserWarning: ../data/segmentations_with_erosion_try2/Case04_segmentation_4.jpg is a low contrast image\n",
      "  warn('%s is a low contrast image' % fname)\n",
      "/export/scratch1/home/arkadiy/.local/lib/python2.7/site-packages/skimage/io/_io.py:140: UserWarning: ../data/segmentations_with_erosion_try2/Case04_segmentation_5.jpg is a low contrast image\n",
      "  warn('%s is a low contrast image' % fname)\n"
     ]
    },
    {
     "name": "stdout",
     "output_type": "stream",
     "text": [
      "0.0 0.0\n",
      "0.0 0.0\n",
      "0.0 0.0\n",
      "5160.0 4150.0\n"
     ]
    },
    {
     "name": "stderr",
     "output_type": "stream",
     "text": [
      "/export/scratch1/home/arkadiy/.local/lib/python2.7/site-packages/skimage/io/_io.py:140: UserWarning: ../data/segmentations_with_erosion_try2/Case04_segmentation_6.jpg is a low contrast image\n",
      "  warn('%s is a low contrast image' % fname)\n"
     ]
    },
    {
     "name": "stdout",
     "output_type": "stream",
     "text": [
      "5639.0 4153.0\n",
      "6158.0 4408.0\n",
      "7316.0 5090.0\n",
      "7731.0 6420.0\n",
      "8207.0 5340.0\n",
      "8229.0 6272.0\n",
      "8612.0 6903.0\n",
      "9893.0 8055.0\n",
      "10484.0 7573.0\n",
      "10618.0 8015.0\n",
      "11015.0 7208.0\n",
      "10780.0 7792.0\n",
      "11146.0 7720.0\n",
      "11701.0 7513.0\n",
      "12104.0 9684.0\n",
      "11065.0 8005.0\n",
      "10628.0 8390.0\n",
      "10041.0 6912.0\n",
      "9676.0 7887.0\n",
      "9973.0 6477.0\n",
      "8870.0 6194.0\n",
      "4770.0 3562.0\n",
      "3419.0 1944.0\n"
     ]
    },
    {
     "name": "stderr",
     "output_type": "stream",
     "text": [
      "/export/scratch1/home/arkadiy/.local/lib/python2.7/site-packages/skimage/io/_io.py:140: UserWarning: ../data/segmentations_with_erosion_try2/Case04_segmentation_30.jpg is a low contrast image\n",
      "  warn('%s is a low contrast image' % fname)\n",
      "/export/scratch1/home/arkadiy/.local/lib/python2.7/site-packages/skimage/io/_io.py:140: UserWarning: ../data/segmentations_with_erosion_try2/Case04_segmentation_31.jpg is a low contrast image\n",
      "  warn('%s is a low contrast image' % fname)\n",
      "/export/scratch1/home/arkadiy/.local/lib/python2.7/site-packages/skimage/io/_io.py:140: UserWarning: ../data/segmentations_with_erosion_try2/Case04_segmentation_32.jpg is a low contrast image\n",
      "  warn('%s is a low contrast image' % fname)\n"
     ]
    },
    {
     "name": "stdout",
     "output_type": "stream",
     "text": [
      "0.0 0.0\n",
      "0.0 0.0\n",
      "0.0 0.0\n",
      "0.0 0.0\n",
      "0.0 0.0\n"
     ]
    },
    {
     "name": "stderr",
     "output_type": "stream",
     "text": [
      "/export/scratch1/home/arkadiy/.local/lib/python2.7/site-packages/skimage/io/_io.py:140: UserWarning: ../data/segmentations_with_erosion_try2/Case04_segmentation_33.jpg is a low contrast image\n",
      "  warn('%s is a low contrast image' % fname)\n",
      "/export/scratch1/home/arkadiy/.local/lib/python2.7/site-packages/skimage/io/_io.py:140: UserWarning: ../data/segmentations_with_erosion_try2/Case04_segmentation_34.jpg is a low contrast image\n",
      "  warn('%s is a low contrast image' % fname)\n",
      "/export/scratch1/home/arkadiy/.local/lib/python2.7/site-packages/skimage/io/_io.py:140: UserWarning: ../data/segmentations_with_erosion_try2/Case04_segmentation_35.jpg is a low contrast image\n",
      "  warn('%s is a low contrast image' % fname)\n"
     ]
    },
    {
     "name": "stdout",
     "output_type": "stream",
     "text": [
      "0.0 0.0\n",
      "0.0 0.0\n",
      "0.0 0.0\n"
     ]
    },
    {
     "name": "stderr",
     "output_type": "stream",
     "text": [
      "/export/scratch1/home/arkadiy/.local/lib/python2.7/site-packages/skimage/io/_io.py:140: UserWarning: ../data/segmentations_with_erosion_try2/Case04_segmentation_36.jpg is a low contrast image\n",
      "  warn('%s is a low contrast image' % fname)\n",
      "/export/scratch1/home/arkadiy/.local/lib/python2.7/site-packages/skimage/io/_io.py:140: UserWarning: ../data/segmentations_with_erosion_try2/Case04_segmentation_37.jpg is a low contrast image\n",
      "  warn('%s is a low contrast image' % fname)\n",
      "/export/scratch1/home/arkadiy/.local/lib/python2.7/site-packages/skimage/io/_io.py:140: UserWarning: ../data/segmentations_with_erosion_try2/Case04_segmentation_38.jpg is a low contrast image\n",
      "  warn('%s is a low contrast image' % fname)\n"
     ]
    },
    {
     "name": "stdout",
     "output_type": "stream",
     "text": [
      "0.0 0.0\n",
      "0.0 0.0\n",
      "0.0 0.0\n"
     ]
    },
    {
     "name": "stderr",
     "output_type": "stream",
     "text": [
      "/export/scratch1/home/arkadiy/.local/lib/python2.7/site-packages/skimage/io/_io.py:140: UserWarning: ../data/segmentations_with_erosion_try2/Case04_segmentation_39.jpg is a low contrast image\n",
      "  warn('%s is a low contrast image' % fname)\n",
      "/export/scratch1/home/arkadiy/.local/lib/python2.7/site-packages/skimage/io/_io.py:140: UserWarning: ../data/segmentations_with_erosion_try2/Case04_segmentation_40.jpg is a low contrast image\n",
      "  warn('%s is a low contrast image' % fname)\n",
      "/export/scratch1/home/arkadiy/.local/lib/python2.7/site-packages/skimage/io/_io.py:140: UserWarning: ../data/segmentations_with_erosion_try2/Case04_segmentation_41.jpg is a low contrast image\n",
      "  warn('%s is a low contrast image' % fname)\n"
     ]
    },
    {
     "name": "stdout",
     "output_type": "stream",
     "text": [
      "0.0 0.0\n",
      "0.0 0.0\n",
      "0.0 0.0\n"
     ]
    },
    {
     "name": "stderr",
     "output_type": "stream",
     "text": [
      "/export/scratch1/home/arkadiy/.local/lib/python2.7/site-packages/skimage/io/_io.py:140: UserWarning: ../data/segmentations_with_erosion_try2/Case04_segmentation_42.jpg is a low contrast image\n",
      "  warn('%s is a low contrast image' % fname)\n",
      "/export/scratch1/home/arkadiy/.local/lib/python2.7/site-packages/skimage/io/_io.py:140: UserWarning: ../data/segmentations_with_erosion_try2/Case04_segmentation_43.jpg is a low contrast image\n",
      "  warn('%s is a low contrast image' % fname)\n",
      "/export/scratch1/home/arkadiy/.local/lib/python2.7/site-packages/skimage/io/_io.py:140: UserWarning: ../data/segmentations_with_erosion_try2/Case04_segmentation_44.jpg is a low contrast image\n",
      "  warn('%s is a low contrast image' % fname)\n"
     ]
    },
    {
     "name": "stdout",
     "output_type": "stream",
     "text": [
      "0.0 0.0\n",
      "Case05.mhd (42, 512, 512)\n"
     ]
    },
    {
     "name": "stderr",
     "output_type": "stream",
     "text": [
      "/export/scratch1/home/arkadiy/.local/lib/python2.7/site-packages/skimage/io/_io.py:140: UserWarning: ../data/segmentations_with_erosion_try2/Case04_segmentation_45.jpg is a low contrast image\n",
      "  warn('%s is a low contrast image' % fname)\n"
     ]
    },
    {
     "name": "stdout",
     "output_type": "stream",
     "text": [
      "Case05_segmentation.mhd (42, 512, 512)\n",
      "0.0 0.0\n"
     ]
    },
    {
     "name": "stderr",
     "output_type": "stream",
     "text": [
      "/export/scratch1/home/arkadiy/.local/lib/python2.7/site-packages/skimage/io/_io.py:140: UserWarning: ../data/segmentations_with_erosion_try2/Case05_segmentation_0.jpg is a low contrast image\n",
      "  warn('%s is a low contrast image' % fname)\n",
      "/export/scratch1/home/arkadiy/.local/lib/python2.7/site-packages/skimage/io/_io.py:140: UserWarning: ../data/segmentations_with_erosion_try2/Case05_segmentation_1.jpg is a low contrast image\n",
      "  warn('%s is a low contrast image' % fname)\n"
     ]
    },
    {
     "name": "stdout",
     "output_type": "stream",
     "text": [
      "0.0 0.0\n",
      "0.0 0.0\n"
     ]
    },
    {
     "name": "stderr",
     "output_type": "stream",
     "text": [
      "/export/scratch1/home/arkadiy/.local/lib/python2.7/site-packages/skimage/io/_io.py:140: UserWarning: ../data/segmentations_with_erosion_try2/Case05_segmentation_2.jpg is a low contrast image\n",
      "  warn('%s is a low contrast image' % fname)\n"
     ]
    },
    {
     "name": "stdout",
     "output_type": "stream",
     "text": [
      "0.0 0.0\n",
      "0.0 0.0\n",
      "0.0 0.0\n"
     ]
    },
    {
     "name": "stderr",
     "output_type": "stream",
     "text": [
      "/export/scratch1/home/arkadiy/.local/lib/python2.7/site-packages/skimage/io/_io.py:140: UserWarning: ../data/segmentations_with_erosion_try2/Case05_segmentation_3.jpg is a low contrast image\n",
      "  warn('%s is a low contrast image' % fname)\n",
      "/export/scratch1/home/arkadiy/.local/lib/python2.7/site-packages/skimage/io/_io.py:140: UserWarning: ../data/segmentations_with_erosion_try2/Case05_segmentation_4.jpg is a low contrast image\n",
      "  warn('%s is a low contrast image' % fname)\n",
      "/export/scratch1/home/arkadiy/.local/lib/python2.7/site-packages/skimage/io/_io.py:140: UserWarning: ../data/segmentations_with_erosion_try2/Case05_segmentation_5.jpg is a low contrast image\n",
      "  warn('%s is a low contrast image' % fname)\n"
     ]
    },
    {
     "name": "stdout",
     "output_type": "stream",
     "text": [
      "0.0 0.0\n",
      "563.0 268.0\n",
      "2532.0 1556.0\n",
      "4014.0 2431.0\n"
     ]
    },
    {
     "name": "stderr",
     "output_type": "stream",
     "text": [
      "/export/scratch1/home/arkadiy/.local/lib/python2.7/site-packages/skimage/io/_io.py:140: UserWarning: ../data/segmentations_with_erosion_try2/Case05_segmentation_6.jpg is a low contrast image\n",
      "  warn('%s is a low contrast image' % fname)\n",
      "/export/scratch1/home/arkadiy/.local/lib/python2.7/site-packages/skimage/io/_io.py:140: UserWarning: ../data/segmentations_with_erosion_try2/Case05_segmentation_7.jpg is a low contrast image\n",
      "  warn('%s is a low contrast image' % fname)\n",
      "/export/scratch1/home/arkadiy/.local/lib/python2.7/site-packages/skimage/io/_io.py:140: UserWarning: ../data/segmentations_with_erosion_try2/Case05_segmentation_8.jpg is a low contrast image\n",
      "  warn('%s is a low contrast image' % fname)\n",
      "/export/scratch1/home/arkadiy/.local/lib/python2.7/site-packages/skimage/io/_io.py:140: UserWarning: ../data/segmentations_with_erosion_try2/Case05_segmentation_9.jpg is a low contrast image\n",
      "  warn('%s is a low contrast image' % fname)\n"
     ]
    },
    {
     "name": "stdout",
     "output_type": "stream",
     "text": [
      "4317.0 2088.0\n",
      "5169.0 3634.0\n",
      "6181.0 4966.0\n",
      "6941.0 4969.0\n"
     ]
    },
    {
     "name": "stderr",
     "output_type": "stream",
     "text": [
      "/export/scratch1/home/arkadiy/.local/lib/python2.7/site-packages/skimage/io/_io.py:140: UserWarning: ../data/segmentations_with_erosion_try2/Case05_segmentation_10.jpg is a low contrast image\n",
      "  warn('%s is a low contrast image' % fname)\n"
     ]
    },
    {
     "name": "stdout",
     "output_type": "stream",
     "text": [
      "8042.0 6348.0\n",
      "10917.0 9008.0\n",
      "12306.0 9539.0\n",
      "14767.0 12495.0\n",
      "17185.0 12905.0\n",
      "19152.0 15127.0\n",
      "21554.0 20499.0\n",
      "23453.0 20093.0\n",
      "24343.0 20925.0\n",
      "24017.0 18867.0\n",
      "25366.0 22375.0\n",
      "24159.0 20720.0\n",
      "23897.0 18741.0\n",
      "23419.0 18368.0\n",
      "22028.0 17629.0\n",
      "18795.0 16783.0\n",
      "7789.0 4774.0\n",
      "5923.0 4338.0\n",
      "2907.0 1836.0\n"
     ]
    },
    {
     "name": "stderr",
     "output_type": "stream",
     "text": [
      "/export/scratch1/home/arkadiy/.local/lib/python2.7/site-packages/skimage/io/_io.py:140: UserWarning: ../data/segmentations_with_erosion_try2/Case05_segmentation_32.jpg is a low contrast image\n",
      "  warn('%s is a low contrast image' % fname)\n",
      "/export/scratch1/home/arkadiy/.local/lib/python2.7/site-packages/skimage/io/_io.py:140: UserWarning: ../data/segmentations_with_erosion_try2/Case05_segmentation_33.jpg is a low contrast image\n",
      "  warn('%s is a low contrast image' % fname)\n"
     ]
    },
    {
     "name": "stdout",
     "output_type": "stream",
     "text": [
      "0.0 0.0\n",
      "0.0 0.0\n"
     ]
    },
    {
     "name": "stderr",
     "output_type": "stream",
     "text": [
      "/export/scratch1/home/arkadiy/.local/lib/python2.7/site-packages/skimage/io/_io.py:140: UserWarning: ../data/segmentations_with_erosion_try2/Case05_segmentation_34.jpg is a low contrast image\n",
      "  warn('%s is a low contrast image' % fname)\n",
      "/export/scratch1/home/arkadiy/.local/lib/python2.7/site-packages/skimage/io/_io.py:140: UserWarning: ../data/segmentations_with_erosion_try2/Case05_segmentation_35.jpg is a low contrast image\n",
      "  warn('%s is a low contrast image' % fname)\n",
      "/export/scratch1/home/arkadiy/.local/lib/python2.7/site-packages/skimage/io/_io.py:140: UserWarning: ../data/segmentations_with_erosion_try2/Case05_segmentation_36.jpg is a low contrast image\n",
      "  warn('%s is a low contrast image' % fname)\n"
     ]
    },
    {
     "name": "stdout",
     "output_type": "stream",
     "text": [
      "0.0 0.0\n",
      "0.0 0.0\n",
      "0.0 0.0\n"
     ]
    },
    {
     "name": "stderr",
     "output_type": "stream",
     "text": [
      "/export/scratch1/home/arkadiy/.local/lib/python2.7/site-packages/skimage/io/_io.py:140: UserWarning: ../data/segmentations_with_erosion_try2/Case05_segmentation_37.jpg is a low contrast image\n",
      "  warn('%s is a low contrast image' % fname)\n"
     ]
    },
    {
     "name": "stdout",
     "output_type": "stream",
     "text": [
      "0.0 0.0\n",
      "0.0 0.0\n",
      "0.0 0.0\n"
     ]
    },
    {
     "name": "stderr",
     "output_type": "stream",
     "text": [
      "/export/scratch1/home/arkadiy/.local/lib/python2.7/site-packages/skimage/io/_io.py:140: UserWarning: ../data/segmentations_with_erosion_try2/Case05_segmentation_38.jpg is a low contrast image\n",
      "  warn('%s is a low contrast image' % fname)\n",
      "/export/scratch1/home/arkadiy/.local/lib/python2.7/site-packages/skimage/io/_io.py:140: UserWarning: ../data/segmentations_with_erosion_try2/Case05_segmentation_39.jpg is a low contrast image\n",
      "  warn('%s is a low contrast image' % fname)\n",
      "/export/scratch1/home/arkadiy/.local/lib/python2.7/site-packages/skimage/io/_io.py:140: UserWarning: ../data/segmentations_with_erosion_try2/Case05_segmentation_40.jpg is a low contrast image\n",
      "  warn('%s is a low contrast image' % fname)\n"
     ]
    },
    {
     "name": "stdout",
     "output_type": "stream",
     "text": [
      "0.0 0.0\n",
      "Case06.mhd (39, 512, 512)\n"
     ]
    },
    {
     "name": "stderr",
     "output_type": "stream",
     "text": [
      "/export/scratch1/home/arkadiy/.local/lib/python2.7/site-packages/skimage/io/_io.py:140: UserWarning: ../data/segmentations_with_erosion_try2/Case05_segmentation_41.jpg is a low contrast image\n",
      "  warn('%s is a low contrast image' % fname)\n"
     ]
    },
    {
     "name": "stdout",
     "output_type": "stream",
     "text": [
      "Case06_segmentation.mhd (39, 512, 512)\n",
      "0.0 0.0\n",
      "0.0 0.0\n"
     ]
    },
    {
     "name": "stderr",
     "output_type": "stream",
     "text": [
      "/export/scratch1/home/arkadiy/.local/lib/python2.7/site-packages/skimage/io/_io.py:140: UserWarning: ../data/segmentations_with_erosion_try2/Case06_segmentation_0.jpg is a low contrast image\n",
      "  warn('%s is a low contrast image' % fname)\n",
      "/export/scratch1/home/arkadiy/.local/lib/python2.7/site-packages/skimage/io/_io.py:140: UserWarning: ../data/segmentations_with_erosion_try2/Case06_segmentation_1.jpg is a low contrast image\n",
      "  warn('%s is a low contrast image' % fname)\n",
      "/export/scratch1/home/arkadiy/.local/lib/python2.7/site-packages/skimage/io/_io.py:140: UserWarning: ../data/segmentations_with_erosion_try2/Case06_segmentation_2.jpg is a low contrast image\n",
      "  warn('%s is a low contrast image' % fname)\n"
     ]
    },
    {
     "name": "stdout",
     "output_type": "stream",
     "text": [
      "0.0 0.0\n",
      "0.0 0.0\n",
      "0.0 0.0\n"
     ]
    },
    {
     "name": "stderr",
     "output_type": "stream",
     "text": [
      "/export/scratch1/home/arkadiy/.local/lib/python2.7/site-packages/skimage/io/_io.py:140: UserWarning: ../data/segmentations_with_erosion_try2/Case06_segmentation_3.jpg is a low contrast image\n",
      "  warn('%s is a low contrast image' % fname)\n",
      "/export/scratch1/home/arkadiy/.local/lib/python2.7/site-packages/skimage/io/_io.py:140: UserWarning: ../data/segmentations_with_erosion_try2/Case06_segmentation_4.jpg is a low contrast image\n",
      "  warn('%s is a low contrast image' % fname)\n",
      "/export/scratch1/home/arkadiy/.local/lib/python2.7/site-packages/skimage/io/_io.py:140: UserWarning: ../data/segmentations_with_erosion_try2/Case06_segmentation_5.jpg is a low contrast image\n",
      "  warn('%s is a low contrast image' % fname)\n"
     ]
    },
    {
     "name": "stdout",
     "output_type": "stream",
     "text": [
      "0.0 0.0\n",
      "0.0 0.0\n",
      "4513.0 2998.0\n",
      "5262.0 3815.0\n"
     ]
    },
    {
     "name": "stderr",
     "output_type": "stream",
     "text": [
      "/export/scratch1/home/arkadiy/.local/lib/python2.7/site-packages/skimage/io/_io.py:140: UserWarning: ../data/segmentations_with_erosion_try2/Case06_segmentation_6.jpg is a low contrast image\n",
      "  warn('%s is a low contrast image' % fname)\n"
     ]
    },
    {
     "name": "stdout",
     "output_type": "stream",
     "text": [
      "6441.0 4145.0\n",
      "7187.0 5073.0\n",
      "9209.0 5812.0\n",
      "12213.0 9482.0\n",
      "15432.0 12646.0\n",
      "17641.0 13090.0\n",
      "20608.0 15736.0\n",
      "20844.0 19810.0\n",
      "23162.0 18738.0\n",
      "25722.0 22205.0\n",
      "26951.0 22763.0\n",
      "27553.0 23389.0\n",
      "29430.0 22149.0\n",
      "28534.0 22043.0\n",
      "28225.0 23498.0\n",
      "28086.0 25015.0\n",
      "26509.0 23533.0\n",
      "26528.0 23035.0\n",
      "25704.0 21249.0\n",
      "22385.0 19258.0\n",
      "17058.0 14782.0\n",
      "13598.0 9647.0\n",
      "11350.0 9904.0\n",
      "12468.0 9442.0\n",
      "7366.0 6173.0\n",
      "5682.0 3906.0\n",
      "3136.0 2169.0\n",
      "0.0 0.0\n",
      "0.0 0.0\n"
     ]
    },
    {
     "name": "stderr",
     "output_type": "stream",
     "text": [
      "/export/scratch1/home/arkadiy/.local/lib/python2.7/site-packages/skimage/io/_io.py:140: UserWarning: ../data/segmentations_with_erosion_try2/Case06_segmentation_35.jpg is a low contrast image\n",
      "  warn('%s is a low contrast image' % fname)\n",
      "/export/scratch1/home/arkadiy/.local/lib/python2.7/site-packages/skimage/io/_io.py:140: UserWarning: ../data/segmentations_with_erosion_try2/Case06_segmentation_36.jpg is a low contrast image\n",
      "  warn('%s is a low contrast image' % fname)\n",
      "/export/scratch1/home/arkadiy/.local/lib/python2.7/site-packages/skimage/io/_io.py:140: UserWarning: ../data/segmentations_with_erosion_try2/Case06_segmentation_37.jpg is a low contrast image\n",
      "  warn('%s is a low contrast image' % fname)\n",
      "/export/scratch1/home/arkadiy/.local/lib/python2.7/site-packages/skimage/io/_io.py:140: UserWarning: ../data/segmentations_with_erosion_try2/Case06_segmentation_38.jpg is a low contrast image\n",
      "  warn('%s is a low contrast image' % fname)\n"
     ]
    },
    {
     "name": "stdout",
     "output_type": "stream",
     "text": [
      "0.0 0.0\n",
      "Case07.mhd (34, 512, 512)\n",
      "Case07_segmentation.mhd (34, 512, 512)\n",
      "0.0 0.0\n",
      "0.0 0.0\n"
     ]
    },
    {
     "name": "stderr",
     "output_type": "stream",
     "text": [
      "/export/scratch1/home/arkadiy/.local/lib/python2.7/site-packages/skimage/io/_io.py:140: UserWarning: ../data/segmentations_with_erosion_try2/Case07_segmentation_0.jpg is a low contrast image\n",
      "  warn('%s is a low contrast image' % fname)\n",
      "/export/scratch1/home/arkadiy/.local/lib/python2.7/site-packages/skimage/io/_io.py:140: UserWarning: ../data/segmentations_with_erosion_try2/Case07_segmentation_1.jpg is a low contrast image\n",
      "  warn('%s is a low contrast image' % fname)\n",
      "/export/scratch1/home/arkadiy/.local/lib/python2.7/site-packages/skimage/io/_io.py:140: UserWarning: ../data/segmentations_with_erosion_try2/Case07_segmentation_2.jpg is a low contrast image\n",
      "  warn('%s is a low contrast image' % fname)\n"
     ]
    },
    {
     "name": "stdout",
     "output_type": "stream",
     "text": [
      "0.0 0.0\n",
      "0.0 0.0\n"
     ]
    },
    {
     "name": "stderr",
     "output_type": "stream",
     "text": [
      "/export/scratch1/home/arkadiy/.local/lib/python2.7/site-packages/skimage/io/_io.py:140: UserWarning: ../data/segmentations_with_erosion_try2/Case07_segmentation_3.jpg is a low contrast image\n",
      "  warn('%s is a low contrast image' % fname)\n"
     ]
    },
    {
     "name": "stdout",
     "output_type": "stream",
     "text": [
      "0.0 0.0\n",
      "2194.0 686.0\n"
     ]
    },
    {
     "name": "stderr",
     "output_type": "stream",
     "text": [
      "/export/scratch1/home/arkadiy/.local/lib/python2.7/site-packages/skimage/io/_io.py:140: UserWarning: ../data/segmentations_with_erosion_try2/Case07_segmentation_4.jpg is a low contrast image\n",
      "  warn('%s is a low contrast image' % fname)\n",
      "/export/scratch1/home/arkadiy/.local/lib/python2.7/site-packages/skimage/io/_io.py:140: UserWarning: ../data/segmentations_with_erosion_try2/Case07_segmentation_5.jpg is a low contrast image\n",
      "  warn('%s is a low contrast image' % fname)\n"
     ]
    },
    {
     "name": "stdout",
     "output_type": "stream",
     "text": [
      "4054.0 2062.0\n",
      "4675.0 2112.0\n"
     ]
    },
    {
     "name": "stderr",
     "output_type": "stream",
     "text": [
      "/export/scratch1/home/arkadiy/.local/lib/python2.7/site-packages/skimage/io/_io.py:140: UserWarning: ../data/segmentations_with_erosion_try2/Case07_segmentation_6.jpg is a low contrast image\n",
      "  warn('%s is a low contrast image' % fname)\n",
      "/export/scratch1/home/arkadiy/.local/lib/python2.7/site-packages/skimage/io/_io.py:140: UserWarning: ../data/segmentations_with_erosion_try2/Case07_segmentation_7.jpg is a low contrast image\n",
      "  warn('%s is a low contrast image' % fname)\n"
     ]
    },
    {
     "name": "stdout",
     "output_type": "stream",
     "text": [
      "7208.0 5414.0\n",
      "8819.0 6613.0\n",
      "9500.0 8114.0\n",
      "13807.0 10539.0\n",
      "15176.0 12157.0\n",
      "16406.0 13206.0\n",
      "17205.0 13006.0\n",
      "17576.0 12914.0\n",
      "17474.0 14636.0\n",
      "17369.0 14175.0\n",
      "14150.0 9612.0\n",
      "14302.0 11630.0\n",
      "5752.0 3510.0\n",
      "0.0 0.0\n"
     ]
    },
    {
     "name": "stderr",
     "output_type": "stream",
     "text": [
      "/export/scratch1/home/arkadiy/.local/lib/python2.7/site-packages/skimage/io/_io.py:140: UserWarning: ../data/segmentations_with_erosion_try2/Case07_segmentation_21.jpg is a low contrast image\n",
      "  warn('%s is a low contrast image' % fname)\n",
      "/export/scratch1/home/arkadiy/.local/lib/python2.7/site-packages/skimage/io/_io.py:140: UserWarning: ../data/segmentations_with_erosion_try2/Case07_segmentation_22.jpg is a low contrast image\n",
      "  warn('%s is a low contrast image' % fname)\n",
      "/export/scratch1/home/arkadiy/.local/lib/python2.7/site-packages/skimage/io/_io.py:140: UserWarning: ../data/segmentations_with_erosion_try2/Case07_segmentation_23.jpg is a low contrast image\n",
      "  warn('%s is a low contrast image' % fname)\n"
     ]
    },
    {
     "name": "stdout",
     "output_type": "stream",
     "text": [
      "0.0 0.0\n",
      "0.0 0.0\n",
      "0.0 0.0\n"
     ]
    },
    {
     "name": "stderr",
     "output_type": "stream",
     "text": [
      "/export/scratch1/home/arkadiy/.local/lib/python2.7/site-packages/skimage/io/_io.py:140: UserWarning: ../data/segmentations_with_erosion_try2/Case07_segmentation_24.jpg is a low contrast image\n",
      "  warn('%s is a low contrast image' % fname)\n",
      "/export/scratch1/home/arkadiy/.local/lib/python2.7/site-packages/skimage/io/_io.py:140: UserWarning: ../data/segmentations_with_erosion_try2/Case07_segmentation_25.jpg is a low contrast image\n",
      "  warn('%s is a low contrast image' % fname)\n"
     ]
    },
    {
     "name": "stdout",
     "output_type": "stream",
     "text": [
      "0.0 0.0\n",
      "0.0 0.0\n",
      "0.0 0.0\n",
      "0.0 0.0\n"
     ]
    },
    {
     "name": "stderr",
     "output_type": "stream",
     "text": [
      "/export/scratch1/home/arkadiy/.local/lib/python2.7/site-packages/skimage/io/_io.py:140: UserWarning: ../data/segmentations_with_erosion_try2/Case07_segmentation_26.jpg is a low contrast image\n",
      "  warn('%s is a low contrast image' % fname)\n",
      "/export/scratch1/home/arkadiy/.local/lib/python2.7/site-packages/skimage/io/_io.py:140: UserWarning: ../data/segmentations_with_erosion_try2/Case07_segmentation_27.jpg is a low contrast image\n",
      "  warn('%s is a low contrast image' % fname)\n",
      "/export/scratch1/home/arkadiy/.local/lib/python2.7/site-packages/skimage/io/_io.py:140: UserWarning: ../data/segmentations_with_erosion_try2/Case07_segmentation_28.jpg is a low contrast image\n",
      "  warn('%s is a low contrast image' % fname)\n"
     ]
    },
    {
     "name": "stdout",
     "output_type": "stream",
     "text": [
      "0.0 0.0\n",
      "0.0 0.0\n",
      "0.0 0.0\n",
      "0.0 0.0\n"
     ]
    },
    {
     "name": "stderr",
     "output_type": "stream",
     "text": [
      "/export/scratch1/home/arkadiy/.local/lib/python2.7/site-packages/skimage/io/_io.py:140: UserWarning: ../data/segmentations_with_erosion_try2/Case07_segmentation_29.jpg is a low contrast image\n",
      "  warn('%s is a low contrast image' % fname)\n",
      "/export/scratch1/home/arkadiy/.local/lib/python2.7/site-packages/skimage/io/_io.py:140: UserWarning: ../data/segmentations_with_erosion_try2/Case07_segmentation_30.jpg is a low contrast image\n",
      "  warn('%s is a low contrast image' % fname)\n",
      "/export/scratch1/home/arkadiy/.local/lib/python2.7/site-packages/skimage/io/_io.py:140: UserWarning: ../data/segmentations_with_erosion_try2/Case07_segmentation_31.jpg is a low contrast image\n",
      "  warn('%s is a low contrast image' % fname)\n",
      "/export/scratch1/home/arkadiy/.local/lib/python2.7/site-packages/skimage/io/_io.py:140: UserWarning: ../data/segmentations_with_erosion_try2/Case07_segmentation_32.jpg is a low contrast image\n",
      "  warn('%s is a low contrast image' % fname)\n"
     ]
    },
    {
     "name": "stdout",
     "output_type": "stream",
     "text": [
      "0.0 0.0\n",
      "Case08.mhd (40, 512, 512)\n"
     ]
    },
    {
     "name": "stderr",
     "output_type": "stream",
     "text": [
      "/export/scratch1/home/arkadiy/.local/lib/python2.7/site-packages/skimage/io/_io.py:140: UserWarning: ../data/segmentations_with_erosion_try2/Case07_segmentation_33.jpg is a low contrast image\n",
      "  warn('%s is a low contrast image' % fname)\n"
     ]
    },
    {
     "name": "stdout",
     "output_type": "stream",
     "text": [
      "Case08_segmentation.mhd (40, 512, 512)\n",
      "0.0 0.0\n",
      "0.0 0.0\n",
      "0.0 0.0\n"
     ]
    },
    {
     "name": "stderr",
     "output_type": "stream",
     "text": [
      "/export/scratch1/home/arkadiy/.local/lib/python2.7/site-packages/skimage/io/_io.py:140: UserWarning: ../data/segmentations_with_erosion_try2/Case08_segmentation_0.jpg is a low contrast image\n",
      "  warn('%s is a low contrast image' % fname)\n",
      "/export/scratch1/home/arkadiy/.local/lib/python2.7/site-packages/skimage/io/_io.py:140: UserWarning: ../data/segmentations_with_erosion_try2/Case08_segmentation_1.jpg is a low contrast image\n",
      "  warn('%s is a low contrast image' % fname)\n",
      "/export/scratch1/home/arkadiy/.local/lib/python2.7/site-packages/skimage/io/_io.py:140: UserWarning: ../data/segmentations_with_erosion_try2/Case08_segmentation_2.jpg is a low contrast image\n",
      "  warn('%s is a low contrast image' % fname)\n",
      "/export/scratch1/home/arkadiy/.local/lib/python2.7/site-packages/skimage/io/_io.py:140: UserWarning: ../data/segmentations_with_erosion_try2/Case08_segmentation_3.jpg is a low contrast image\n",
      "  warn('%s is a low contrast image' % fname)\n"
     ]
    },
    {
     "name": "stdout",
     "output_type": "stream",
     "text": [
      "0.0 0.0\n",
      "0.0 0.0\n"
     ]
    },
    {
     "name": "stderr",
     "output_type": "stream",
     "text": [
      "/export/scratch1/home/arkadiy/.local/lib/python2.7/site-packages/skimage/io/_io.py:140: UserWarning: ../data/segmentations_with_erosion_try2/Case08_segmentation_4.jpg is a low contrast image\n",
      "  warn('%s is a low contrast image' % fname)\n"
     ]
    },
    {
     "name": "stdout",
     "output_type": "stream",
     "text": [
      "0.0 0.0\n",
      "1306.0 928.0\n",
      "1464.0 444.0\n"
     ]
    },
    {
     "name": "stderr",
     "output_type": "stream",
     "text": [
      "/export/scratch1/home/arkadiy/.local/lib/python2.7/site-packages/skimage/io/_io.py:140: UserWarning: ../data/segmentations_with_erosion_try2/Case08_segmentation_5.jpg is a low contrast image\n",
      "  warn('%s is a low contrast image' % fname)\n",
      "/export/scratch1/home/arkadiy/.local/lib/python2.7/site-packages/skimage/io/_io.py:140: UserWarning: ../data/segmentations_with_erosion_try2/Case08_segmentation_6.jpg is a low contrast image\n",
      "  warn('%s is a low contrast image' % fname)\n",
      "/export/scratch1/home/arkadiy/.local/lib/python2.7/site-packages/skimage/io/_io.py:140: UserWarning: ../data/segmentations_with_erosion_try2/Case08_segmentation_7.jpg is a low contrast image\n",
      "  warn('%s is a low contrast image' % fname)\n"
     ]
    },
    {
     "name": "stdout",
     "output_type": "stream",
     "text": [
      "3085.0 1677.0\n",
      "4431.0 2694.0\n"
     ]
    },
    {
     "name": "stderr",
     "output_type": "stream",
     "text": [
      "/export/scratch1/home/arkadiy/.local/lib/python2.7/site-packages/skimage/io/_io.py:140: UserWarning: ../data/segmentations_with_erosion_try2/Case08_segmentation_8.jpg is a low contrast image\n",
      "  warn('%s is a low contrast image' % fname)\n"
     ]
    },
    {
     "name": "stdout",
     "output_type": "stream",
     "text": [
      "5411.0 3217.0\n",
      "6345.0 4663.0\n",
      "8528.0 6558.0\n",
      "8580.0 6293.0\n",
      "9367.0 6939.0\n",
      "9758.0 8677.0\n",
      "10452.0 8578.0\n",
      "9632.0 8239.0\n",
      "8905.0 6846.0\n",
      "7948.0 5835.0\n",
      "8248.0 6362.0\n",
      "6894.0 4713.0\n",
      "0.0 0.0\n"
     ]
    },
    {
     "name": "stderr",
     "output_type": "stream",
     "text": [
      "/export/scratch1/home/arkadiy/.local/lib/python2.7/site-packages/skimage/io/_io.py:140: UserWarning: ../data/segmentations_with_erosion_try2/Case08_segmentation_22.jpg is a low contrast image\n",
      "  warn('%s is a low contrast image' % fname)\n",
      "/export/scratch1/home/arkadiy/.local/lib/python2.7/site-packages/skimage/io/_io.py:140: UserWarning: ../data/segmentations_with_erosion_try2/Case08_segmentation_23.jpg is a low contrast image\n",
      "  warn('%s is a low contrast image' % fname)\n"
     ]
    },
    {
     "name": "stdout",
     "output_type": "stream",
     "text": [
      "0.0 0.0\n",
      "0.0 0.0\n",
      "0.0 0.0\n"
     ]
    },
    {
     "name": "stderr",
     "output_type": "stream",
     "text": [
      "/export/scratch1/home/arkadiy/.local/lib/python2.7/site-packages/skimage/io/_io.py:140: UserWarning: ../data/segmentations_with_erosion_try2/Case08_segmentation_24.jpg is a low contrast image\n",
      "  warn('%s is a low contrast image' % fname)\n",
      "/export/scratch1/home/arkadiy/.local/lib/python2.7/site-packages/skimage/io/_io.py:140: UserWarning: ../data/segmentations_with_erosion_try2/Case08_segmentation_25.jpg is a low contrast image\n",
      "  warn('%s is a low contrast image' % fname)\n",
      "/export/scratch1/home/arkadiy/.local/lib/python2.7/site-packages/skimage/io/_io.py:140: UserWarning: ../data/segmentations_with_erosion_try2/Case08_segmentation_26.jpg is a low contrast image\n",
      "  warn('%s is a low contrast image' % fname)\n"
     ]
    },
    {
     "name": "stdout",
     "output_type": "stream",
     "text": [
      "0.0 0.0\n",
      "0.0 0.0\n",
      "0.0 0.0\n"
     ]
    },
    {
     "name": "stderr",
     "output_type": "stream",
     "text": [
      "/export/scratch1/home/arkadiy/.local/lib/python2.7/site-packages/skimage/io/_io.py:140: UserWarning: ../data/segmentations_with_erosion_try2/Case08_segmentation_27.jpg is a low contrast image\n",
      "  warn('%s is a low contrast image' % fname)\n",
      "/export/scratch1/home/arkadiy/.local/lib/python2.7/site-packages/skimage/io/_io.py:140: UserWarning: ../data/segmentations_with_erosion_try2/Case08_segmentation_28.jpg is a low contrast image\n",
      "  warn('%s is a low contrast image' % fname)\n",
      "/export/scratch1/home/arkadiy/.local/lib/python2.7/site-packages/skimage/io/_io.py:140: UserWarning: ../data/segmentations_with_erosion_try2/Case08_segmentation_29.jpg is a low contrast image\n",
      "  warn('%s is a low contrast image' % fname)\n"
     ]
    },
    {
     "name": "stdout",
     "output_type": "stream",
     "text": [
      "0.0 0.0\n",
      "0.0 0.0\n",
      "0.0 0.0\n"
     ]
    },
    {
     "name": "stderr",
     "output_type": "stream",
     "text": [
      "/export/scratch1/home/arkadiy/.local/lib/python2.7/site-packages/skimage/io/_io.py:140: UserWarning: ../data/segmentations_with_erosion_try2/Case08_segmentation_30.jpg is a low contrast image\n",
      "  warn('%s is a low contrast image' % fname)\n",
      "/export/scratch1/home/arkadiy/.local/lib/python2.7/site-packages/skimage/io/_io.py:140: UserWarning: ../data/segmentations_with_erosion_try2/Case08_segmentation_31.jpg is a low contrast image\n",
      "  warn('%s is a low contrast image' % fname)\n"
     ]
    },
    {
     "name": "stdout",
     "output_type": "stream",
     "text": [
      "0.0 0.0\n",
      "0.0 0.0\n",
      "0.0 0.0\n"
     ]
    },
    {
     "name": "stderr",
     "output_type": "stream",
     "text": [
      "/export/scratch1/home/arkadiy/.local/lib/python2.7/site-packages/skimage/io/_io.py:140: UserWarning: ../data/segmentations_with_erosion_try2/Case08_segmentation_32.jpg is a low contrast image\n",
      "  warn('%s is a low contrast image' % fname)\n",
      "/export/scratch1/home/arkadiy/.local/lib/python2.7/site-packages/skimage/io/_io.py:140: UserWarning: ../data/segmentations_with_erosion_try2/Case08_segmentation_33.jpg is a low contrast image\n",
      "  warn('%s is a low contrast image' % fname)\n",
      "/export/scratch1/home/arkadiy/.local/lib/python2.7/site-packages/skimage/io/_io.py:140: UserWarning: ../data/segmentations_with_erosion_try2/Case08_segmentation_34.jpg is a low contrast image\n",
      "  warn('%s is a low contrast image' % fname)\n"
     ]
    },
    {
     "name": "stdout",
     "output_type": "stream",
     "text": [
      "0.0 0.0\n",
      "0.0 0.0\n",
      "0.0 0.0\n"
     ]
    },
    {
     "name": "stderr",
     "output_type": "stream",
     "text": [
      "/export/scratch1/home/arkadiy/.local/lib/python2.7/site-packages/skimage/io/_io.py:140: UserWarning: ../data/segmentations_with_erosion_try2/Case08_segmentation_35.jpg is a low contrast image\n",
      "  warn('%s is a low contrast image' % fname)\n",
      "/export/scratch1/home/arkadiy/.local/lib/python2.7/site-packages/skimage/io/_io.py:140: UserWarning: ../data/segmentations_with_erosion_try2/Case08_segmentation_36.jpg is a low contrast image\n",
      "  warn('%s is a low contrast image' % fname)\n",
      "/export/scratch1/home/arkadiy/.local/lib/python2.7/site-packages/skimage/io/_io.py:140: UserWarning: ../data/segmentations_with_erosion_try2/Case08_segmentation_37.jpg is a low contrast image\n",
      "  warn('%s is a low contrast image' % fname)\n"
     ]
    },
    {
     "name": "stdout",
     "output_type": "stream",
     "text": [
      "0.0 0.0\n",
      "0.0 0.0\n",
      "Case09.mhd (47, 512, 512)\n"
     ]
    },
    {
     "name": "stderr",
     "output_type": "stream",
     "text": [
      "/export/scratch1/home/arkadiy/.local/lib/python2.7/site-packages/skimage/io/_io.py:140: UserWarning: ../data/segmentations_with_erosion_try2/Case08_segmentation_38.jpg is a low contrast image\n",
      "  warn('%s is a low contrast image' % fname)\n",
      "/export/scratch1/home/arkadiy/.local/lib/python2.7/site-packages/skimage/io/_io.py:140: UserWarning: ../data/segmentations_with_erosion_try2/Case08_segmentation_39.jpg is a low contrast image\n",
      "  warn('%s is a low contrast image' % fname)\n"
     ]
    },
    {
     "name": "stdout",
     "output_type": "stream",
     "text": [
      "Case09_segmentation.mhd (47, 512, 512)\n",
      "0.0 0.0\n",
      "0.0 0.0\n"
     ]
    },
    {
     "name": "stderr",
     "output_type": "stream",
     "text": [
      "/export/scratch1/home/arkadiy/.local/lib/python2.7/site-packages/skimage/io/_io.py:140: UserWarning: ../data/segmentations_with_erosion_try2/Case09_segmentation_0.jpg is a low contrast image\n",
      "  warn('%s is a low contrast image' % fname)\n",
      "/export/scratch1/home/arkadiy/.local/lib/python2.7/site-packages/skimage/io/_io.py:140: UserWarning: ../data/segmentations_with_erosion_try2/Case09_segmentation_1.jpg is a low contrast image\n",
      "  warn('%s is a low contrast image' % fname)\n",
      "/export/scratch1/home/arkadiy/.local/lib/python2.7/site-packages/skimage/io/_io.py:140: UserWarning: ../data/segmentations_with_erosion_try2/Case09_segmentation_2.jpg is a low contrast image\n",
      "  warn('%s is a low contrast image' % fname)\n",
      "/export/scratch1/home/arkadiy/.local/lib/python2.7/site-packages/skimage/io/_io.py:140: UserWarning: ../data/segmentations_with_erosion_try2/Case09_segmentation_3.jpg is a low contrast image\n",
      "  warn('%s is a low contrast image' % fname)\n"
     ]
    },
    {
     "name": "stdout",
     "output_type": "stream",
     "text": [
      "0.0 0.0\n",
      "0.0 0.0\n",
      "0.0 0.0\n",
      "0.0 0.0\n",
      "0.0 0.0\n"
     ]
    },
    {
     "name": "stderr",
     "output_type": "stream",
     "text": [
      "/export/scratch1/home/arkadiy/.local/lib/python2.7/site-packages/skimage/io/_io.py:140: UserWarning: ../data/segmentations_with_erosion_try2/Case09_segmentation_4.jpg is a low contrast image\n",
      "  warn('%s is a low contrast image' % fname)\n",
      "/export/scratch1/home/arkadiy/.local/lib/python2.7/site-packages/skimage/io/_io.py:140: UserWarning: ../data/segmentations_with_erosion_try2/Case09_segmentation_5.jpg is a low contrast image\n",
      "  warn('%s is a low contrast image' % fname)\n",
      "/export/scratch1/home/arkadiy/.local/lib/python2.7/site-packages/skimage/io/_io.py:140: UserWarning: ../data/segmentations_with_erosion_try2/Case09_segmentation_6.jpg is a low contrast image\n",
      "  warn('%s is a low contrast image' % fname)\n"
     ]
    },
    {
     "name": "stdout",
     "output_type": "stream",
     "text": [
      "0.0 0.0\n",
      "6390.0 5242.0\n",
      "7332.0 6396.0\n",
      "7989.0 5750.0\n",
      "7868.0 6882.0\n"
     ]
    },
    {
     "name": "stderr",
     "output_type": "stream",
     "text": [
      "/export/scratch1/home/arkadiy/.local/lib/python2.7/site-packages/skimage/io/_io.py:140: UserWarning: ../data/segmentations_with_erosion_try2/Case09_segmentation_7.jpg is a low contrast image\n",
      "  warn('%s is a low contrast image' % fname)\n"
     ]
    },
    {
     "name": "stdout",
     "output_type": "stream",
     "text": [
      "8283.0 6036.0\n",
      "8788.0 6793.0\n",
      "10072.0 6876.0\n",
      "13053.0 10622.0\n",
      "14514.0 11080.0\n",
      "16050.0 13356.0\n",
      "16971.0 14193.0\n",
      "18623.0 15734.0\n",
      "19231.0 16259.0\n",
      "21703.0 18117.0\n",
      "22394.0 18758.0\n",
      "23396.0 22328.0\n",
      "21776.0 17605.0\n",
      "19821.0 16824.0\n",
      "20217.0 18230.0\n",
      "18339.0 15501.0\n",
      "15893.0 13628.0\n",
      "12428.0 9807.0\n",
      "9629.0 7601.0\n",
      "7566.0 6405.0\n",
      "5864.0 4115.0\n",
      "3986.0 2888.0\n",
      "0.0 0.0\n",
      "0.0 0.0\n",
      "0.0 0.0\n",
      "0.0 0.0\n"
     ]
    },
    {
     "name": "stderr",
     "output_type": "stream",
     "text": [
      "/export/scratch1/home/arkadiy/.local/lib/python2.7/site-packages/skimage/io/_io.py:140: UserWarning: ../data/segmentations_with_erosion_try2/Case09_segmentation_34.jpg is a low contrast image\n",
      "  warn('%s is a low contrast image' % fname)\n",
      "/export/scratch1/home/arkadiy/.local/lib/python2.7/site-packages/skimage/io/_io.py:140: UserWarning: ../data/segmentations_with_erosion_try2/Case09_segmentation_35.jpg is a low contrast image\n",
      "  warn('%s is a low contrast image' % fname)\n",
      "/export/scratch1/home/arkadiy/.local/lib/python2.7/site-packages/skimage/io/_io.py:140: UserWarning: ../data/segmentations_with_erosion_try2/Case09_segmentation_36.jpg is a low contrast image\n",
      "  warn('%s is a low contrast image' % fname)\n",
      "/export/scratch1/home/arkadiy/.local/lib/python2.7/site-packages/skimage/io/_io.py:140: UserWarning: ../data/segmentations_with_erosion_try2/Case09_segmentation_37.jpg is a low contrast image\n",
      "  warn('%s is a low contrast image' % fname)\n"
     ]
    },
    {
     "name": "stdout",
     "output_type": "stream",
     "text": [
      "0.0 0.0\n",
      "0.0 0.0\n"
     ]
    },
    {
     "name": "stderr",
     "output_type": "stream",
     "text": [
      "/export/scratch1/home/arkadiy/.local/lib/python2.7/site-packages/skimage/io/_io.py:140: UserWarning: ../data/segmentations_with_erosion_try2/Case09_segmentation_38.jpg is a low contrast image\n",
      "  warn('%s is a low contrast image' % fname)\n",
      "/export/scratch1/home/arkadiy/.local/lib/python2.7/site-packages/skimage/io/_io.py:140: UserWarning: ../data/segmentations_with_erosion_try2/Case09_segmentation_39.jpg is a low contrast image\n",
      "  warn('%s is a low contrast image' % fname)\n"
     ]
    },
    {
     "name": "stdout",
     "output_type": "stream",
     "text": [
      "0.0 0.0\n",
      "0.0 0.0\n"
     ]
    },
    {
     "name": "stderr",
     "output_type": "stream",
     "text": [
      "/export/scratch1/home/arkadiy/.local/lib/python2.7/site-packages/skimage/io/_io.py:140: UserWarning: ../data/segmentations_with_erosion_try2/Case09_segmentation_40.jpg is a low contrast image\n",
      "  warn('%s is a low contrast image' % fname)\n",
      "/export/scratch1/home/arkadiy/.local/lib/python2.7/site-packages/skimage/io/_io.py:140: UserWarning: ../data/segmentations_with_erosion_try2/Case09_segmentation_41.jpg is a low contrast image\n",
      "  warn('%s is a low contrast image' % fname)\n"
     ]
    },
    {
     "name": "stdout",
     "output_type": "stream",
     "text": [
      "0.0 0.0\n",
      "0.0 0.0\n"
     ]
    },
    {
     "name": "stderr",
     "output_type": "stream",
     "text": [
      "/export/scratch1/home/arkadiy/.local/lib/python2.7/site-packages/skimage/io/_io.py:140: UserWarning: ../data/segmentations_with_erosion_try2/Case09_segmentation_42.jpg is a low contrast image\n",
      "  warn('%s is a low contrast image' % fname)\n",
      "/export/scratch1/home/arkadiy/.local/lib/python2.7/site-packages/skimage/io/_io.py:140: UserWarning: ../data/segmentations_with_erosion_try2/Case09_segmentation_43.jpg is a low contrast image\n",
      "  warn('%s is a low contrast image' % fname)\n"
     ]
    },
    {
     "name": "stdout",
     "output_type": "stream",
     "text": [
      "0.0 0.0\n",
      "0.0 0.0\n",
      "0.0 0.0\n"
     ]
    },
    {
     "name": "stderr",
     "output_type": "stream",
     "text": [
      "/export/scratch1/home/arkadiy/.local/lib/python2.7/site-packages/skimage/io/_io.py:140: UserWarning: ../data/segmentations_with_erosion_try2/Case09_segmentation_44.jpg is a low contrast image\n",
      "  warn('%s is a low contrast image' % fname)\n",
      "/export/scratch1/home/arkadiy/.local/lib/python2.7/site-packages/skimage/io/_io.py:140: UserWarning: ../data/segmentations_with_erosion_try2/Case09_segmentation_45.jpg is a low contrast image\n",
      "  warn('%s is a low contrast image' % fname)\n",
      "/export/scratch1/home/arkadiy/.local/lib/python2.7/site-packages/skimage/io/_io.py:140: UserWarning: ../data/segmentations_with_erosion_try2/Case09_segmentation_46.jpg is a low contrast image\n",
      "  warn('%s is a low contrast image' % fname)\n"
     ]
    },
    {
     "name": "stdout",
     "output_type": "stream",
     "text": [
      "Case10.mhd (39, 512, 512)\n",
      "Case10_segmentation.mhd (39, 512, 512)\n",
      "0.0 0.0\n",
      "0.0 0.0\n"
     ]
    },
    {
     "name": "stderr",
     "output_type": "stream",
     "text": [
      "/export/scratch1/home/arkadiy/.local/lib/python2.7/site-packages/skimage/io/_io.py:140: UserWarning: ../data/segmentations_with_erosion_try2/Case10_segmentation_0.jpg is a low contrast image\n",
      "  warn('%s is a low contrast image' % fname)\n",
      "/export/scratch1/home/arkadiy/.local/lib/python2.7/site-packages/skimage/io/_io.py:140: UserWarning: ../data/segmentations_with_erosion_try2/Case10_segmentation_1.jpg is a low contrast image\n",
      "  warn('%s is a low contrast image' % fname)\n",
      "/export/scratch1/home/arkadiy/.local/lib/python2.7/site-packages/skimage/io/_io.py:140: UserWarning: ../data/segmentations_with_erosion_try2/Case10_segmentation_2.jpg is a low contrast image\n",
      "  warn('%s is a low contrast image' % fname)\n"
     ]
    },
    {
     "name": "stdout",
     "output_type": "stream",
     "text": [
      "0.0 0.0\n",
      "0.0 0.0\n"
     ]
    },
    {
     "name": "stderr",
     "output_type": "stream",
     "text": [
      "/export/scratch1/home/arkadiy/.local/lib/python2.7/site-packages/skimage/io/_io.py:140: UserWarning: ../data/segmentations_with_erosion_try2/Case10_segmentation_3.jpg is a low contrast image\n",
      "  warn('%s is a low contrast image' % fname)\n",
      "/export/scratch1/home/arkadiy/.local/lib/python2.7/site-packages/skimage/io/_io.py:140: UserWarning: ../data/segmentations_with_erosion_try2/Case10_segmentation_4.jpg is a low contrast image\n",
      "  warn('%s is a low contrast image' % fname)\n"
     ]
    },
    {
     "name": "stdout",
     "output_type": "stream",
     "text": [
      "0.0 0.0\n",
      "4072.0 1926.0\n"
     ]
    },
    {
     "name": "stderr",
     "output_type": "stream",
     "text": [
      "/export/scratch1/home/arkadiy/.local/lib/python2.7/site-packages/skimage/io/_io.py:140: UserWarning: ../data/segmentations_with_erosion_try2/Case10_segmentation_5.jpg is a low contrast image\n",
      "  warn('%s is a low contrast image' % fname)\n"
     ]
    },
    {
     "name": "stdout",
     "output_type": "stream",
     "text": [
      "4952.0 3450.0\n",
      "5784.0 4151.0\n",
      "7147.0 5385.0\n",
      "8030.0 6175.0\n",
      "10444.0 7299.0\n",
      "11695.0 10554.0\n",
      "12880.0 10487.0\n",
      "14358.0 10990.0\n",
      "14593.0 11193.0\n",
      "14182.0 12876.0\n",
      "13163.0 9425.0\n",
      "11845.0 9157.0\n",
      "11391.0 9420.0\n",
      "8657.0 7296.0\n",
      "6972.0 5398.0\n",
      "0.0 0.0\n",
      "0.0 0.0\n",
      "0.0 0.0\n"
     ]
    },
    {
     "name": "stderr",
     "output_type": "stream",
     "text": [
      "/export/scratch1/home/arkadiy/.local/lib/python2.7/site-packages/skimage/io/_io.py:140: UserWarning: ../data/segmentations_with_erosion_try2/Case10_segmentation_21.jpg is a low contrast image\n",
      "  warn('%s is a low contrast image' % fname)\n",
      "/export/scratch1/home/arkadiy/.local/lib/python2.7/site-packages/skimage/io/_io.py:140: UserWarning: ../data/segmentations_with_erosion_try2/Case10_segmentation_22.jpg is a low contrast image\n",
      "  warn('%s is a low contrast image' % fname)\n",
      "/export/scratch1/home/arkadiy/.local/lib/python2.7/site-packages/skimage/io/_io.py:140: UserWarning: ../data/segmentations_with_erosion_try2/Case10_segmentation_23.jpg is a low contrast image\n",
      "  warn('%s is a low contrast image' % fname)\n"
     ]
    },
    {
     "name": "stdout",
     "output_type": "stream",
     "text": [
      "0.0 0.0\n",
      "0.0 0.0\n",
      "0.0 0.0\n",
      "0.0 0.0\n"
     ]
    },
    {
     "name": "stderr",
     "output_type": "stream",
     "text": [
      "/export/scratch1/home/arkadiy/.local/lib/python2.7/site-packages/skimage/io/_io.py:140: UserWarning: ../data/segmentations_with_erosion_try2/Case10_segmentation_24.jpg is a low contrast image\n",
      "  warn('%s is a low contrast image' % fname)\n",
      "/export/scratch1/home/arkadiy/.local/lib/python2.7/site-packages/skimage/io/_io.py:140: UserWarning: ../data/segmentations_with_erosion_try2/Case10_segmentation_25.jpg is a low contrast image\n",
      "  warn('%s is a low contrast image' % fname)\n",
      "/export/scratch1/home/arkadiy/.local/lib/python2.7/site-packages/skimage/io/_io.py:140: UserWarning: ../data/segmentations_with_erosion_try2/Case10_segmentation_26.jpg is a low contrast image\n",
      "  warn('%s is a low contrast image' % fname)\n",
      "/export/scratch1/home/arkadiy/.local/lib/python2.7/site-packages/skimage/io/_io.py:140: UserWarning: ../data/segmentations_with_erosion_try2/Case10_segmentation_27.jpg is a low contrast image\n",
      "  warn('%s is a low contrast image' % fname)\n"
     ]
    },
    {
     "name": "stdout",
     "output_type": "stream",
     "text": [
      "0.0 0.0\n",
      "0.0 0.0\n"
     ]
    },
    {
     "name": "stderr",
     "output_type": "stream",
     "text": [
      "/export/scratch1/home/arkadiy/.local/lib/python2.7/site-packages/skimage/io/_io.py:140: UserWarning: ../data/segmentations_with_erosion_try2/Case10_segmentation_28.jpg is a low contrast image\n",
      "  warn('%s is a low contrast image' % fname)\n",
      "/export/scratch1/home/arkadiy/.local/lib/python2.7/site-packages/skimage/io/_io.py:140: UserWarning: ../data/segmentations_with_erosion_try2/Case10_segmentation_29.jpg is a low contrast image\n",
      "  warn('%s is a low contrast image' % fname)\n"
     ]
    },
    {
     "name": "stdout",
     "output_type": "stream",
     "text": [
      "0.0 0.0\n",
      "0.0 0.0\n"
     ]
    },
    {
     "name": "stderr",
     "output_type": "stream",
     "text": [
      "/export/scratch1/home/arkadiy/.local/lib/python2.7/site-packages/skimage/io/_io.py:140: UserWarning: ../data/segmentations_with_erosion_try2/Case10_segmentation_30.jpg is a low contrast image\n",
      "  warn('%s is a low contrast image' % fname)\n",
      "/export/scratch1/home/arkadiy/.local/lib/python2.7/site-packages/skimage/io/_io.py:140: UserWarning: ../data/segmentations_with_erosion_try2/Case10_segmentation_31.jpg is a low contrast image\n",
      "  warn('%s is a low contrast image' % fname)\n"
     ]
    },
    {
     "name": "stdout",
     "output_type": "stream",
     "text": [
      "0.0 0.0\n",
      "0.0 0.0\n",
      "0.0 0.0\n",
      "0.0 0.0\n"
     ]
    },
    {
     "name": "stderr",
     "output_type": "stream",
     "text": [
      "/export/scratch1/home/arkadiy/.local/lib/python2.7/site-packages/skimage/io/_io.py:140: UserWarning: ../data/segmentations_with_erosion_try2/Case10_segmentation_32.jpg is a low contrast image\n",
      "  warn('%s is a low contrast image' % fname)\n",
      "/export/scratch1/home/arkadiy/.local/lib/python2.7/site-packages/skimage/io/_io.py:140: UserWarning: ../data/segmentations_with_erosion_try2/Case10_segmentation_33.jpg is a low contrast image\n",
      "  warn('%s is a low contrast image' % fname)\n",
      "/export/scratch1/home/arkadiy/.local/lib/python2.7/site-packages/skimage/io/_io.py:140: UserWarning: ../data/segmentations_with_erosion_try2/Case10_segmentation_34.jpg is a low contrast image\n",
      "  warn('%s is a low contrast image' % fname)\n",
      "/export/scratch1/home/arkadiy/.local/lib/python2.7/site-packages/skimage/io/_io.py:140: UserWarning: ../data/segmentations_with_erosion_try2/Case10_segmentation_35.jpg is a low contrast image\n",
      "  warn('%s is a low contrast image' % fname)\n"
     ]
    },
    {
     "name": "stdout",
     "output_type": "stream",
     "text": [
      "0.0 0.0\n",
      "0.0 0.0\n"
     ]
    },
    {
     "name": "stderr",
     "output_type": "stream",
     "text": [
      "/export/scratch1/home/arkadiy/.local/lib/python2.7/site-packages/skimage/io/_io.py:140: UserWarning: ../data/segmentations_with_erosion_try2/Case10_segmentation_36.jpg is a low contrast image\n",
      "  warn('%s is a low contrast image' % fname)\n",
      "/export/scratch1/home/arkadiy/.local/lib/python2.7/site-packages/skimage/io/_io.py:140: UserWarning: ../data/segmentations_with_erosion_try2/Case10_segmentation_37.jpg is a low contrast image\n",
      "  warn('%s is a low contrast image' % fname)\n"
     ]
    },
    {
     "name": "stdout",
     "output_type": "stream",
     "text": [
      "0.0 0.0\n",
      "Case11.mhd (45, 512, 512)\n"
     ]
    },
    {
     "name": "stderr",
     "output_type": "stream",
     "text": [
      "/export/scratch1/home/arkadiy/.local/lib/python2.7/site-packages/skimage/io/_io.py:140: UserWarning: ../data/segmentations_with_erosion_try2/Case10_segmentation_38.jpg is a low contrast image\n",
      "  warn('%s is a low contrast image' % fname)\n"
     ]
    },
    {
     "name": "stdout",
     "output_type": "stream",
     "text": [
      "Case11_segmentation.mhd (45, 512, 512)\n",
      "0.0 0.0\n",
      "0.0 0.0\n"
     ]
    },
    {
     "name": "stderr",
     "output_type": "stream",
     "text": [
      "/export/scratch1/home/arkadiy/.local/lib/python2.7/site-packages/skimage/io/_io.py:140: UserWarning: ../data/segmentations_with_erosion_try2/Case11_segmentation_0.jpg is a low contrast image\n",
      "  warn('%s is a low contrast image' % fname)\n",
      "/export/scratch1/home/arkadiy/.local/lib/python2.7/site-packages/skimage/io/_io.py:140: UserWarning: ../data/segmentations_with_erosion_try2/Case11_segmentation_1.jpg is a low contrast image\n",
      "  warn('%s is a low contrast image' % fname)\n",
      "/export/scratch1/home/arkadiy/.local/lib/python2.7/site-packages/skimage/io/_io.py:140: UserWarning: ../data/segmentations_with_erosion_try2/Case11_segmentation_2.jpg is a low contrast image\n",
      "  warn('%s is a low contrast image' % fname)\n"
     ]
    },
    {
     "name": "stdout",
     "output_type": "stream",
     "text": [
      "0.0 0.0\n",
      "0.0 0.0\n",
      "0.0 0.0\n"
     ]
    },
    {
     "name": "stderr",
     "output_type": "stream",
     "text": [
      "/export/scratch1/home/arkadiy/.local/lib/python2.7/site-packages/skimage/io/_io.py:140: UserWarning: ../data/segmentations_with_erosion_try2/Case11_segmentation_3.jpg is a low contrast image\n",
      "  warn('%s is a low contrast image' % fname)\n",
      "/export/scratch1/home/arkadiy/.local/lib/python2.7/site-packages/skimage/io/_io.py:140: UserWarning: ../data/segmentations_with_erosion_try2/Case11_segmentation_4.jpg is a low contrast image\n",
      "  warn('%s is a low contrast image' % fname)\n"
     ]
    },
    {
     "name": "stdout",
     "output_type": "stream",
     "text": [
      "0.0 0.0\n",
      "0.0 0.0\n"
     ]
    },
    {
     "name": "stderr",
     "output_type": "stream",
     "text": [
      "/export/scratch1/home/arkadiy/.local/lib/python2.7/site-packages/skimage/io/_io.py:140: UserWarning: ../data/segmentations_with_erosion_try2/Case11_segmentation_5.jpg is a low contrast image\n",
      "  warn('%s is a low contrast image' % fname)\n",
      "/export/scratch1/home/arkadiy/.local/lib/python2.7/site-packages/skimage/io/_io.py:140: UserWarning: ../data/segmentations_with_erosion_try2/Case11_segmentation_6.jpg is a low contrast image\n",
      "  warn('%s is a low contrast image' % fname)\n"
     ]
    },
    {
     "name": "stdout",
     "output_type": "stream",
     "text": [
      "0.0 0.0\n",
      "0.0 0.0\n",
      "0.0 0.0\n",
      "2546.0 1816.0\n"
     ]
    },
    {
     "name": "stderr",
     "output_type": "stream",
     "text": [
      "/export/scratch1/home/arkadiy/.local/lib/python2.7/site-packages/skimage/io/_io.py:140: UserWarning: ../data/segmentations_with_erosion_try2/Case11_segmentation_7.jpg is a low contrast image\n",
      "  warn('%s is a low contrast image' % fname)\n",
      "/export/scratch1/home/arkadiy/.local/lib/python2.7/site-packages/skimage/io/_io.py:140: UserWarning: ../data/segmentations_with_erosion_try2/Case11_segmentation_8.jpg is a low contrast image\n",
      "  warn('%s is a low contrast image' % fname)\n",
      "/export/scratch1/home/arkadiy/.local/lib/python2.7/site-packages/skimage/io/_io.py:140: UserWarning: ../data/segmentations_with_erosion_try2/Case11_segmentation_9.jpg is a low contrast image\n",
      "  warn('%s is a low contrast image' % fname)\n",
      "/export/scratch1/home/arkadiy/.local/lib/python2.7/site-packages/skimage/io/_io.py:140: UserWarning: ../data/segmentations_with_erosion_try2/Case11_segmentation_10.jpg is a low contrast image\n",
      "  warn('%s is a low contrast image' % fname)\n"
     ]
    },
    {
     "name": "stdout",
     "output_type": "stream",
     "text": [
      "7250.0 5008.0\n",
      "8246.0 5533.0\n",
      "9591.0 6948.0\n",
      "11690.0 9468.0\n",
      "12917.0 9873.0\n",
      "13777.0 11733.0\n",
      "14324.0 10659.0\n",
      "15461.0 14145.0\n",
      "15294.0 12692.0\n",
      "15395.0 14101.0\n",
      "16178.0 13508.0\n",
      "15245.0 13555.0\n",
      "14982.0 12373.0\n",
      "14197.0 10911.0\n",
      "11700.0 9515.0\n",
      "10242.0 7837.0\n",
      "8714.0 6794.0\n",
      "5020.0 3057.0\n",
      "4230.0 2224.0\n",
      "1903.0 1353.0\n",
      "1053.0 255.0\n"
     ]
    },
    {
     "name": "stderr",
     "output_type": "stream",
     "text": [
      "/export/scratch1/home/arkadiy/.local/lib/python2.7/site-packages/skimage/io/_io.py:140: UserWarning: ../data/segmentations_with_erosion_try2/Case11_segmentation_29.jpg is a low contrast image\n",
      "  warn('%s is a low contrast image' % fname)\n",
      "/export/scratch1/home/arkadiy/.local/lib/python2.7/site-packages/skimage/io/_io.py:140: UserWarning: ../data/segmentations_with_erosion_try2/Case11_segmentation_30.jpg is a low contrast image\n",
      "  warn('%s is a low contrast image' % fname)\n",
      "/export/scratch1/home/arkadiy/.local/lib/python2.7/site-packages/skimage/io/_io.py:140: UserWarning: ../data/segmentations_with_erosion_try2/Case11_segmentation_31.jpg is a low contrast image\n",
      "  warn('%s is a low contrast image' % fname)\n"
     ]
    },
    {
     "name": "stdout",
     "output_type": "stream",
     "text": [
      "0.0 0.0\n",
      "0.0 0.0\n"
     ]
    },
    {
     "name": "stderr",
     "output_type": "stream",
     "text": [
      "/export/scratch1/home/arkadiy/.local/lib/python2.7/site-packages/skimage/io/_io.py:140: UserWarning: ../data/segmentations_with_erosion_try2/Case11_segmentation_32.jpg is a low contrast image\n",
      "  warn('%s is a low contrast image' % fname)\n",
      "/export/scratch1/home/arkadiy/.local/lib/python2.7/site-packages/skimage/io/_io.py:140: UserWarning: ../data/segmentations_with_erosion_try2/Case11_segmentation_33.jpg is a low contrast image\n",
      "  warn('%s is a low contrast image' % fname)\n"
     ]
    },
    {
     "name": "stdout",
     "output_type": "stream",
     "text": [
      "0.0 0.0\n",
      "0.0 0.0\n",
      "0.0 0.0\n"
     ]
    },
    {
     "name": "stderr",
     "output_type": "stream",
     "text": [
      "/export/scratch1/home/arkadiy/.local/lib/python2.7/site-packages/skimage/io/_io.py:140: UserWarning: ../data/segmentations_with_erosion_try2/Case11_segmentation_34.jpg is a low contrast image\n",
      "  warn('%s is a low contrast image' % fname)\n",
      "/export/scratch1/home/arkadiy/.local/lib/python2.7/site-packages/skimage/io/_io.py:140: UserWarning: ../data/segmentations_with_erosion_try2/Case11_segmentation_35.jpg is a low contrast image\n",
      "  warn('%s is a low contrast image' % fname)\n",
      "/export/scratch1/home/arkadiy/.local/lib/python2.7/site-packages/skimage/io/_io.py:140: UserWarning: ../data/segmentations_with_erosion_try2/Case11_segmentation_36.jpg is a low contrast image\n",
      "  warn('%s is a low contrast image' % fname)\n"
     ]
    },
    {
     "name": "stdout",
     "output_type": "stream",
     "text": [
      "0.0 0.0\n",
      "0.0 0.0\n",
      "0.0 0.0\n"
     ]
    },
    {
     "name": "stderr",
     "output_type": "stream",
     "text": [
      "/export/scratch1/home/arkadiy/.local/lib/python2.7/site-packages/skimage/io/_io.py:140: UserWarning: ../data/segmentations_with_erosion_try2/Case11_segmentation_37.jpg is a low contrast image\n",
      "  warn('%s is a low contrast image' % fname)\n",
      "/export/scratch1/home/arkadiy/.local/lib/python2.7/site-packages/skimage/io/_io.py:140: UserWarning: ../data/segmentations_with_erosion_try2/Case11_segmentation_38.jpg is a low contrast image\n",
      "  warn('%s is a low contrast image' % fname)\n",
      "/export/scratch1/home/arkadiy/.local/lib/python2.7/site-packages/skimage/io/_io.py:140: UserWarning: ../data/segmentations_with_erosion_try2/Case11_segmentation_39.jpg is a low contrast image\n",
      "  warn('%s is a low contrast image' % fname)\n"
     ]
    },
    {
     "name": "stdout",
     "output_type": "stream",
     "text": [
      "0.0 0.0\n",
      "0.0 0.0\n"
     ]
    },
    {
     "name": "stderr",
     "output_type": "stream",
     "text": [
      "/export/scratch1/home/arkadiy/.local/lib/python2.7/site-packages/skimage/io/_io.py:140: UserWarning: ../data/segmentations_with_erosion_try2/Case11_segmentation_40.jpg is a low contrast image\n",
      "  warn('%s is a low contrast image' % fname)\n",
      "/export/scratch1/home/arkadiy/.local/lib/python2.7/site-packages/skimage/io/_io.py:140: UserWarning: ../data/segmentations_with_erosion_try2/Case11_segmentation_41.jpg is a low contrast image\n",
      "  warn('%s is a low contrast image' % fname)\n"
     ]
    },
    {
     "name": "stdout",
     "output_type": "stream",
     "text": [
      "0.0 0.0\n",
      "0.0 0.0\n"
     ]
    },
    {
     "name": "stderr",
     "output_type": "stream",
     "text": [
      "/export/scratch1/home/arkadiy/.local/lib/python2.7/site-packages/skimage/io/_io.py:140: UserWarning: ../data/segmentations_with_erosion_try2/Case11_segmentation_42.jpg is a low contrast image\n",
      "  warn('%s is a low contrast image' % fname)\n",
      "/export/scratch1/home/arkadiy/.local/lib/python2.7/site-packages/skimage/io/_io.py:140: UserWarning: ../data/segmentations_with_erosion_try2/Case11_segmentation_43.jpg is a low contrast image\n",
      "  warn('%s is a low contrast image' % fname)\n"
     ]
    },
    {
     "name": "stdout",
     "output_type": "stream",
     "text": [
      "0.0 0.0\n",
      "Case12.mhd (46, 512, 512)\n"
     ]
    },
    {
     "name": "stderr",
     "output_type": "stream",
     "text": [
      "/export/scratch1/home/arkadiy/.local/lib/python2.7/site-packages/skimage/io/_io.py:140: UserWarning: ../data/segmentations_with_erosion_try2/Case11_segmentation_44.jpg is a low contrast image\n",
      "  warn('%s is a low contrast image' % fname)\n"
     ]
    },
    {
     "name": "stdout",
     "output_type": "stream",
     "text": [
      "Case12_segmentation.mhd (46, 512, 512)\n",
      "0.0 0.0\n"
     ]
    },
    {
     "name": "stderr",
     "output_type": "stream",
     "text": [
      "/export/scratch1/home/arkadiy/.local/lib/python2.7/site-packages/skimage/io/_io.py:140: UserWarning: ../data/segmentations_with_erosion_try2/Case12_segmentation_0.jpg is a low contrast image\n",
      "  warn('%s is a low contrast image' % fname)\n",
      "/export/scratch1/home/arkadiy/.local/lib/python2.7/site-packages/skimage/io/_io.py:140: UserWarning: ../data/segmentations_with_erosion_try2/Case12_segmentation_1.jpg is a low contrast image\n",
      "  warn('%s is a low contrast image' % fname)\n"
     ]
    },
    {
     "name": "stdout",
     "output_type": "stream",
     "text": [
      "0.0 0.0\n",
      "0.0 0.0\n"
     ]
    },
    {
     "name": "stderr",
     "output_type": "stream",
     "text": [
      "/export/scratch1/home/arkadiy/.local/lib/python2.7/site-packages/skimage/io/_io.py:140: UserWarning: ../data/segmentations_with_erosion_try2/Case12_segmentation_2.jpg is a low contrast image\n",
      "  warn('%s is a low contrast image' % fname)\n"
     ]
    },
    {
     "name": "stdout",
     "output_type": "stream",
     "text": [
      "0.0 0.0\n",
      "0.0 0.0\n",
      "3468.0 2472.0\n"
     ]
    },
    {
     "name": "stderr",
     "output_type": "stream",
     "text": [
      "/export/scratch1/home/arkadiy/.local/lib/python2.7/site-packages/skimage/io/_io.py:140: UserWarning: ../data/segmentations_with_erosion_try2/Case12_segmentation_3.jpg is a low contrast image\n",
      "  warn('%s is a low contrast image' % fname)\n",
      "/export/scratch1/home/arkadiy/.local/lib/python2.7/site-packages/skimage/io/_io.py:140: UserWarning: ../data/segmentations_with_erosion_try2/Case12_segmentation_4.jpg is a low contrast image\n",
      "  warn('%s is a low contrast image' % fname)\n",
      "/export/scratch1/home/arkadiy/.local/lib/python2.7/site-packages/skimage/io/_io.py:140: UserWarning: ../data/segmentations_with_erosion_try2/Case12_segmentation_5.jpg is a low contrast image\n",
      "  warn('%s is a low contrast image' % fname)\n"
     ]
    },
    {
     "name": "stdout",
     "output_type": "stream",
     "text": [
      "3765.0 2382.0\n",
      "6177.0 4105.0\n"
     ]
    },
    {
     "name": "stderr",
     "output_type": "stream",
     "text": [
      "/export/scratch1/home/arkadiy/.local/lib/python2.7/site-packages/skimage/io/_io.py:140: UserWarning: ../data/segmentations_with_erosion_try2/Case12_segmentation_6.jpg is a low contrast image\n",
      "  warn('%s is a low contrast image' % fname)\n"
     ]
    },
    {
     "name": "stdout",
     "output_type": "stream",
     "text": [
      "6494.0 4656.0\n",
      "9821.0 7137.0\n",
      "10814.0 7617.0\n",
      "13182.0 10786.0\n",
      "13319.0 10501.0\n",
      "14053.0 11533.0\n",
      "14604.0 11615.0\n",
      "16044.0 12475.0\n",
      "15305.0 13953.0\n",
      "16190.0 13031.0\n",
      "15287.0 10926.0\n",
      "15180.0 12560.0\n",
      "14251.0 12126.0\n",
      "12136.0 10203.0\n",
      "10636.0 7885.0\n",
      "4083.0 3415.0\n",
      "3768.0 2325.0\n",
      "2268.0 2268.0\n"
     ]
    },
    {
     "name": "stderr",
     "output_type": "stream",
     "text": [
      "/export/scratch1/home/arkadiy/.local/lib/python2.7/site-packages/skimage/io/_io.py:140: UserWarning: ../data/segmentations_with_erosion_try2/Case12_segmentation_24.jpg is a low contrast image\n",
      "  warn('%s is a low contrast image' % fname)\n",
      "/export/scratch1/home/arkadiy/.local/lib/python2.7/site-packages/skimage/io/_io.py:140: UserWarning: ../data/segmentations_with_erosion_try2/Case12_segmentation_25.jpg is a low contrast image\n",
      "  warn('%s is a low contrast image' % fname)\n",
      "/export/scratch1/home/arkadiy/.local/lib/python2.7/site-packages/skimage/io/_io.py:140: UserWarning: ../data/segmentations_with_erosion_try2/Case12_segmentation_26.jpg is a low contrast image\n",
      "  warn('%s is a low contrast image' % fname)\n"
     ]
    },
    {
     "name": "stdout",
     "output_type": "stream",
     "text": [
      "1558.0 410.0\n",
      "0.0 0.0\n"
     ]
    },
    {
     "name": "stderr",
     "output_type": "stream",
     "text": [
      "/export/scratch1/home/arkadiy/.local/lib/python2.7/site-packages/skimage/io/_io.py:140: UserWarning: ../data/segmentations_with_erosion_try2/Case12_segmentation_27.jpg is a low contrast image\n",
      "  warn('%s is a low contrast image' % fname)\n",
      "/export/scratch1/home/arkadiy/.local/lib/python2.7/site-packages/skimage/io/_io.py:140: UserWarning: ../data/segmentations_with_erosion_try2/Case12_segmentation_28.jpg is a low contrast image\n",
      "  warn('%s is a low contrast image' % fname)\n"
     ]
    },
    {
     "name": "stdout",
     "output_type": "stream",
     "text": [
      "0.0 0.0\n",
      "0.0 0.0\n",
      "0.0 0.0\n"
     ]
    },
    {
     "name": "stderr",
     "output_type": "stream",
     "text": [
      "/export/scratch1/home/arkadiy/.local/lib/python2.7/site-packages/skimage/io/_io.py:140: UserWarning: ../data/segmentations_with_erosion_try2/Case12_segmentation_29.jpg is a low contrast image\n",
      "  warn('%s is a low contrast image' % fname)\n",
      "/export/scratch1/home/arkadiy/.local/lib/python2.7/site-packages/skimage/io/_io.py:140: UserWarning: ../data/segmentations_with_erosion_try2/Case12_segmentation_30.jpg is a low contrast image\n",
      "  warn('%s is a low contrast image' % fname)\n"
     ]
    },
    {
     "name": "stdout",
     "output_type": "stream",
     "text": [
      "0.0 0.0\n",
      "0.0 0.0\n",
      "0.0 0.0\n",
      "0.0 0.0\n",
      "0.0 0.0\n"
     ]
    },
    {
     "name": "stderr",
     "output_type": "stream",
     "text": [
      "/export/scratch1/home/arkadiy/.local/lib/python2.7/site-packages/skimage/io/_io.py:140: UserWarning: ../data/segmentations_with_erosion_try2/Case12_segmentation_31.jpg is a low contrast image\n",
      "  warn('%s is a low contrast image' % fname)\n",
      "/export/scratch1/home/arkadiy/.local/lib/python2.7/site-packages/skimage/io/_io.py:140: UserWarning: ../data/segmentations_with_erosion_try2/Case12_segmentation_32.jpg is a low contrast image\n",
      "  warn('%s is a low contrast image' % fname)\n",
      "/export/scratch1/home/arkadiy/.local/lib/python2.7/site-packages/skimage/io/_io.py:140: UserWarning: ../data/segmentations_with_erosion_try2/Case12_segmentation_33.jpg is a low contrast image\n",
      "  warn('%s is a low contrast image' % fname)\n",
      "/export/scratch1/home/arkadiy/.local/lib/python2.7/site-packages/skimage/io/_io.py:140: UserWarning: ../data/segmentations_with_erosion_try2/Case12_segmentation_34.jpg is a low contrast image\n",
      "  warn('%s is a low contrast image' % fname)\n",
      "/export/scratch1/home/arkadiy/.local/lib/python2.7/site-packages/skimage/io/_io.py:140: UserWarning: ../data/segmentations_with_erosion_try2/Case12_segmentation_35.jpg is a low contrast image\n",
      "  warn('%s is a low contrast image' % fname)\n"
     ]
    },
    {
     "name": "stdout",
     "output_type": "stream",
     "text": [
      "0.0 0.0\n",
      "0.0 0.0\n",
      "0.0 0.0\n"
     ]
    },
    {
     "name": "stderr",
     "output_type": "stream",
     "text": [
      "/export/scratch1/home/arkadiy/.local/lib/python2.7/site-packages/skimage/io/_io.py:140: UserWarning: ../data/segmentations_with_erosion_try2/Case12_segmentation_36.jpg is a low contrast image\n",
      "  warn('%s is a low contrast image' % fname)\n",
      "/export/scratch1/home/arkadiy/.local/lib/python2.7/site-packages/skimage/io/_io.py:140: UserWarning: ../data/segmentations_with_erosion_try2/Case12_segmentation_37.jpg is a low contrast image\n",
      "  warn('%s is a low contrast image' % fname)\n",
      "/export/scratch1/home/arkadiy/.local/lib/python2.7/site-packages/skimage/io/_io.py:140: UserWarning: ../data/segmentations_with_erosion_try2/Case12_segmentation_38.jpg is a low contrast image\n",
      "  warn('%s is a low contrast image' % fname)\n"
     ]
    },
    {
     "name": "stdout",
     "output_type": "stream",
     "text": [
      "0.0 0.0\n",
      "0.0 0.0\n",
      "0.0 0.0\n"
     ]
    },
    {
     "name": "stderr",
     "output_type": "stream",
     "text": [
      "/export/scratch1/home/arkadiy/.local/lib/python2.7/site-packages/skimage/io/_io.py:140: UserWarning: ../data/segmentations_with_erosion_try2/Case12_segmentation_39.jpg is a low contrast image\n",
      "  warn('%s is a low contrast image' % fname)\n",
      "/export/scratch1/home/arkadiy/.local/lib/python2.7/site-packages/skimage/io/_io.py:140: UserWarning: ../data/segmentations_with_erosion_try2/Case12_segmentation_40.jpg is a low contrast image\n",
      "  warn('%s is a low contrast image' % fname)\n",
      "/export/scratch1/home/arkadiy/.local/lib/python2.7/site-packages/skimage/io/_io.py:140: UserWarning: ../data/segmentations_with_erosion_try2/Case12_segmentation_41.jpg is a low contrast image\n",
      "  warn('%s is a low contrast image' % fname)\n"
     ]
    },
    {
     "name": "stdout",
     "output_type": "stream",
     "text": [
      "0.0 0.0\n",
      "0.0 0.0\n"
     ]
    },
    {
     "name": "stderr",
     "output_type": "stream",
     "text": [
      "/export/scratch1/home/arkadiy/.local/lib/python2.7/site-packages/skimage/io/_io.py:140: UserWarning: ../data/segmentations_with_erosion_try2/Case12_segmentation_42.jpg is a low contrast image\n",
      "  warn('%s is a low contrast image' % fname)\n",
      "/export/scratch1/home/arkadiy/.local/lib/python2.7/site-packages/skimage/io/_io.py:140: UserWarning: ../data/segmentations_with_erosion_try2/Case12_segmentation_43.jpg is a low contrast image\n",
      "  warn('%s is a low contrast image' % fname)\n"
     ]
    },
    {
     "name": "stdout",
     "output_type": "stream",
     "text": [
      "0.0 0.0\n",
      "0.0 0.0\n",
      "Case13.mhd (15, 320, 320)\n"
     ]
    },
    {
     "name": "stderr",
     "output_type": "stream",
     "text": [
      "/export/scratch1/home/arkadiy/.local/lib/python2.7/site-packages/skimage/io/_io.py:140: UserWarning: ../data/segmentations_with_erosion_try2/Case12_segmentation_44.jpg is a low contrast image\n",
      "  warn('%s is a low contrast image' % fname)\n",
      "/export/scratch1/home/arkadiy/.local/lib/python2.7/site-packages/skimage/io/_io.py:140: UserWarning: ../data/segmentations_with_erosion_try2/Case12_segmentation_45.jpg is a low contrast image\n",
      "  warn('%s is a low contrast image' % fname)\n"
     ]
    },
    {
     "name": "stdout",
     "output_type": "stream",
     "text": [
      "Case13_segmentation.mhd (15, 320, 320)\n",
      "1600.0 369.0\n",
      "1650.0 582.0\n",
      "2073.0 1328.0\n",
      "2488.0 2306.0\n",
      "2641.0 1609.0\n",
      "3056.0 1959.0\n",
      "3306.0 2717.0\n"
     ]
    },
    {
     "name": "stderr",
     "output_type": "stream",
     "text": [
      "/export/scratch1/home/arkadiy/.local/lib/python2.7/site-packages/skimage/io/_io.py:140: UserWarning: ../data/segmentations_with_erosion_try2/Case13_segmentation_0.jpg is a low contrast image\n",
      "  warn('%s is a low contrast image' % fname)\n",
      "/export/scratch1/home/arkadiy/.local/lib/python2.7/site-packages/skimage/io/_io.py:140: UserWarning: ../data/segmentations_with_erosion_try2/Case13_segmentation_1.jpg is a low contrast image\n",
      "  warn('%s is a low contrast image' % fname)\n"
     ]
    },
    {
     "name": "stdout",
     "output_type": "stream",
     "text": [
      "3308.0 1836.0\n",
      "3318.0 2005.0\n",
      "3159.0 2400.0\n",
      "3008.0 1612.0\n",
      "2321.0 1034.0\n",
      "1177.0 101.0\n",
      "591.0 236.0\n",
      "0.0 0.0\n",
      "Case14.mhd (20, 320, 320)\n"
     ]
    },
    {
     "name": "stderr",
     "output_type": "stream",
     "text": [
      "/export/scratch1/home/arkadiy/.local/lib/python2.7/site-packages/skimage/io/_io.py:140: UserWarning: ../data/segmentations_with_erosion_try2/Case13_segmentation_12.jpg is a low contrast image\n",
      "  warn('%s is a low contrast image' % fname)\n",
      "/export/scratch1/home/arkadiy/.local/lib/python2.7/site-packages/skimage/io/_io.py:140: UserWarning: ../data/segmentations_with_erosion_try2/Case13_segmentation_13.jpg is a low contrast image\n",
      "  warn('%s is a low contrast image' % fname)\n",
      "/export/scratch1/home/arkadiy/.local/lib/python2.7/site-packages/skimage/io/_io.py:140: UserWarning: ../data/segmentations_with_erosion_try2/Case13_segmentation_14.jpg is a low contrast image\n",
      "  warn('%s is a low contrast image' % fname)\n"
     ]
    },
    {
     "name": "stdout",
     "output_type": "stream",
     "text": [
      "Case14_segmentation.mhd (20, 320, 320)\n",
      "0.0 0.0\n",
      "0.0 0.0\n",
      "255.0 47.0\n",
      "587.0 180.0\n",
      "1389.0 260.0\n",
      "1831.0 "
     ]
    },
    {
     "name": "stderr",
     "output_type": "stream",
     "text": [
      "/export/scratch1/home/arkadiy/.local/lib/python2.7/site-packages/skimage/io/_io.py:140: UserWarning: ../data/segmentations_with_erosion_try2/Case14_segmentation_0.jpg is a low contrast image\n",
      "  warn('%s is a low contrast image' % fname)\n",
      "/export/scratch1/home/arkadiy/.local/lib/python2.7/site-packages/skimage/io/_io.py:140: UserWarning: ../data/segmentations_with_erosion_try2/Case14_segmentation_1.jpg is a low contrast image\n",
      "  warn('%s is a low contrast image' % fname)\n",
      "/export/scratch1/home/arkadiy/.local/lib/python2.7/site-packages/skimage/io/_io.py:140: UserWarning: ../data/segmentations_with_erosion_try2/Case14_segmentation_2.jpg is a low contrast image\n",
      "  warn('%s is a low contrast image' % fname)\n",
      "/export/scratch1/home/arkadiy/.local/lib/python2.7/site-packages/skimage/io/_io.py:140: UserWarning: ../data/segmentations_with_erosion_try2/Case14_segmentation_3.jpg is a low contrast image\n",
      "  warn('%s is a low contrast image' % fname)\n",
      "/export/scratch1/home/arkadiy/.local/lib/python2.7/site-packages/skimage/io/_io.py:140: UserWarning: ../data/segmentations_with_erosion_try2/Case14_segmentation_4.jpg is a low contrast image\n",
      "  warn('%s is a low contrast image' % fname)\n",
      "/export/scratch1/home/arkadiy/.local/lib/python2.7/site-packages/skimage/io/_io.py:140: UserWarning: ../data/segmentations_with_erosion_try2/Case14_segmentation_5.jpg is a low contrast image\n",
      "  warn('%s is a low contrast image' % fname)\n"
     ]
    },
    {
     "name": "stdout",
     "output_type": "stream",
     "text": [
      "898.0\n",
      "2859.0 1309.0\n",
      "4041.0 2735.0\n",
      "4629.0 2803.0\n",
      "5504.0 4472.0\n",
      "5308.0 3147.0\n",
      "5452.0 4454.0\n",
      "5523.0 3354.0\n",
      "5507.0 4025.0\n",
      "3473.0 2396.0\n",
      "2768.0 2020.0\n",
      "1220.0 316.0\n"
     ]
    },
    {
     "name": "stderr",
     "output_type": "stream",
     "text": [
      "/export/scratch1/home/arkadiy/.local/lib/python2.7/site-packages/skimage/io/_io.py:140: UserWarning: ../data/segmentations_with_erosion_try2/Case14_segmentation_16.jpg is a low contrast image\n",
      "  warn('%s is a low contrast image' % fname)\n",
      "/export/scratch1/home/arkadiy/.local/lib/python2.7/site-packages/skimage/io/_io.py:140: UserWarning: ../data/segmentations_with_erosion_try2/Case14_segmentation_17.jpg is a low contrast image\n",
      "  warn('%s is a low contrast image' % fname)\n",
      "/export/scratch1/home/arkadiy/.local/lib/python2.7/site-packages/skimage/io/_io.py:140: UserWarning: ../data/segmentations_with_erosion_try2/Case14_segmentation_18.jpg is a low contrast image\n",
      "  warn('%s is a low contrast image' % fname)\n",
      "/export/scratch1/home/arkadiy/.local/lib/python2.7/site-packages/skimage/io/_io.py:140: UserWarning: ../data/segmentations_with_erosion_try2/Case14_segmentation_19.jpg is a low contrast image\n",
      "  warn('%s is a low contrast image' % fname)\n"
     ]
    },
    {
     "name": "stdout",
     "output_type": "stream",
     "text": [
      "555.0 216.0\n",
      "0.0 0.0\n",
      "0.0 0.0\n",
      "Case15.mhd (20, 320, 320)\n",
      "Case15_segmentation.mhd (20, 320, 320)\n",
      "0.0 0.0\n",
      "0.0 0.0\n",
      "0.0 0.0\n",
      "0.0 0.0\n",
      "0.0 0.0\n",
      "0.0 0.0\n",
      "539.0 115.0\n"
     ]
    },
    {
     "name": "stderr",
     "output_type": "stream",
     "text": [
      "/export/scratch1/home/arkadiy/.local/lib/python2.7/site-packages/skimage/io/_io.py:140: UserWarning: ../data/segmentations_with_erosion_try2/Case15_segmentation_0.jpg is a low contrast image\n",
      "  warn('%s is a low contrast image' % fname)\n",
      "/export/scratch1/home/arkadiy/.local/lib/python2.7/site-packages/skimage/io/_io.py:140: UserWarning: ../data/segmentations_with_erosion_try2/Case15_segmentation_1.jpg is a low contrast image\n",
      "  warn('%s is a low contrast image' % fname)\n",
      "/export/scratch1/home/arkadiy/.local/lib/python2.7/site-packages/skimage/io/_io.py:140: UserWarning: ../data/segmentations_with_erosion_try2/Case15_segmentation_2.jpg is a low contrast image\n",
      "  warn('%s is a low contrast image' % fname)\n",
      "/export/scratch1/home/arkadiy/.local/lib/python2.7/site-packages/skimage/io/_io.py:140: UserWarning: ../data/segmentations_with_erosion_try2/Case15_segmentation_3.jpg is a low contrast image\n",
      "  warn('%s is a low contrast image' % fname)\n",
      "/export/scratch1/home/arkadiy/.local/lib/python2.7/site-packages/skimage/io/_io.py:140: UserWarning: ../data/segmentations_with_erosion_try2/Case15_segmentation_4.jpg is a low contrast image\n",
      "  warn('%s is a low contrast image' % fname)\n",
      "/export/scratch1/home/arkadiy/.local/lib/python2.7/site-packages/skimage/io/_io.py:140: UserWarning: ../data/segmentations_with_erosion_try2/Case15_segmentation_5.jpg is a low contrast image\n",
      "  warn('%s is a low contrast image' % fname)\n",
      "/export/scratch1/home/arkadiy/.local/lib/python2.7/site-packages/skimage/io/_io.py:140: UserWarning: ../data/segmentations_with_erosion_try2/Case15_segmentation_6.jpg is a low contrast image\n",
      "  warn('%s is a low contrast image' % fname)\n"
     ]
    },
    {
     "name": "stdout",
     "output_type": "stream",
     "text": [
      "1344.0 342.0\n",
      "1854.0 947.0\n",
      "2857.0 2324.0\n",
      "3681.0 1949.0\n",
      "4121.0 3277.0\n",
      "4371.0 2669.0\n",
      "4103.0 2843.0\n"
     ]
    },
    {
     "name": "stderr",
     "output_type": "stream",
     "text": [
      "/export/scratch1/home/arkadiy/.local/lib/python2.7/site-packages/skimage/io/_io.py:140: UserWarning: ../data/segmentations_with_erosion_try2/Case15_segmentation_7.jpg is a low contrast image\n",
      "  warn('%s is a low contrast image' % fname)\n",
      "/export/scratch1/home/arkadiy/.local/lib/python2.7/site-packages/skimage/io/_io.py:140: UserWarning: ../data/segmentations_with_erosion_try2/Case15_segmentation_8.jpg is a low contrast image\n",
      "  warn('%s is a low contrast image' % fname)\n"
     ]
    },
    {
     "name": "stdout",
     "output_type": "stream",
     "text": [
      "2251.0 1106.0\n",
      "2096.0 1231.0\n",
      "1267.0 776.0\n",
      "716.0 294.0\n",
      "374.0 109.0\n",
      "0.0 0.0\n",
      "Case16.mhd (20, 320, 320)\n"
     ]
    },
    {
     "name": "stderr",
     "output_type": "stream",
     "text": [
      "/export/scratch1/home/arkadiy/.local/lib/python2.7/site-packages/skimage/io/_io.py:140: UserWarning: ../data/segmentations_with_erosion_try2/Case15_segmentation_16.jpg is a low contrast image\n",
      "  warn('%s is a low contrast image' % fname)\n",
      "/export/scratch1/home/arkadiy/.local/lib/python2.7/site-packages/skimage/io/_io.py:140: UserWarning: ../data/segmentations_with_erosion_try2/Case15_segmentation_17.jpg is a low contrast image\n",
      "  warn('%s is a low contrast image' % fname)\n",
      "/export/scratch1/home/arkadiy/.local/lib/python2.7/site-packages/skimage/io/_io.py:140: UserWarning: ../data/segmentations_with_erosion_try2/Case15_segmentation_18.jpg is a low contrast image\n",
      "  warn('%s is a low contrast image' % fname)\n",
      "/export/scratch1/home/arkadiy/.local/lib/python2.7/site-packages/skimage/io/_io.py:140: UserWarning: ../data/segmentations_with_erosion_try2/Case15_segmentation_19.jpg is a low contrast image\n",
      "  warn('%s is a low contrast image' % fname)\n"
     ]
    },
    {
     "name": "stdout",
     "output_type": "stream",
     "text": [
      "Case16_segmentation.mhd (20, 320, 320)\n",
      "0.0 0.0\n",
      "0.0 0.0\n",
      "0.0 0.0\n"
     ]
    },
    {
     "name": "stderr",
     "output_type": "stream",
     "text": [
      "/export/scratch1/home/arkadiy/.local/lib/python2.7/site-packages/skimage/io/_io.py:140: UserWarning: ../data/segmentations_with_erosion_try2/Case16_segmentation_0.jpg is a low contrast image\n",
      "  warn('%s is a low contrast image' % fname)\n",
      "/export/scratch1/home/arkadiy/.local/lib/python2.7/site-packages/skimage/io/_io.py:140: UserWarning: ../data/segmentations_with_erosion_try2/Case16_segmentation_1.jpg is a low contrast image\n",
      "  warn('%s is a low contrast image' % fname)\n",
      "/export/scratch1/home/arkadiy/.local/lib/python2.7/site-packages/skimage/io/_io.py:140: UserWarning: ../data/segmentations_with_erosion_try2/Case16_segmentation_2.jpg is a low contrast image\n",
      "  warn('%s is a low contrast image' % fname)\n",
      "/export/scratch1/home/arkadiy/.local/lib/python2.7/site-packages/skimage/io/_io.py:140: UserWarning: ../data/segmentations_with_erosion_try2/Case16_segmentation_3.jpg is a low contrast image\n",
      "  warn('%s is a low contrast image' % fname)\n",
      "/export/scratch1/home/arkadiy/.local/lib/python2.7/site-packages/skimage/io/_io.py:140: UserWarning: ../data/segmentations_with_erosion_try2/Case16_segmentation_4.jpg is a low contrast image\n",
      "  warn('%s is a low contrast image' % fname)\n",
      "/export/scratch1/home/arkadiy/.local/lib/python2.7/site-packages/skimage/io/_io.py:140: UserWarning: ../data/segmentations_with_erosion_try2/Case16_segmentation_5.jpg is a low contrast image\n",
      "  warn('%s is a low contrast image' % fname)\n",
      "/export/scratch1/home/arkadiy/.local/lib/python2.7/site-packages/skimage/io/_io.py:140: UserWarning: ../data/segmentations_with_erosion_try2/Case16_segmentation_6.jpg is a low contrast image\n",
      "  warn('%s is a low contrast image' % fname)\n"
     ]
    },
    {
     "name": "stdout",
     "output_type": "stream",
     "text": [
      "0.0 0.0\n",
      "0.0 0.0\n",
      "0.0 0.0\n",
      "829.0 380.0\n",
      "649.0 272.0\n",
      "1232.0 243.0\n",
      "2122.0 1164.0\n",
      "2963.0 2202.0\n"
     ]
    },
    {
     "name": "stderr",
     "output_type": "stream",
     "text": [
      "/export/scratch1/home/arkadiy/.local/lib/python2.7/site-packages/skimage/io/_io.py:140: UserWarning: ../data/segmentations_with_erosion_try2/Case16_segmentation_7.jpg is a low contrast image\n",
      "  warn('%s is a low contrast image' % fname)\n",
      "/export/scratch1/home/arkadiy/.local/lib/python2.7/site-packages/skimage/io/_io.py:140: UserWarning: ../data/segmentations_with_erosion_try2/Case16_segmentation_8.jpg is a low contrast image\n",
      "  warn('%s is a low contrast image' % fname)\n"
     ]
    },
    {
     "name": "stdout",
     "output_type": "stream",
     "text": [
      "3528.0 2322.0\n",
      "4281.0 3112.0\n",
      "4099.0 3239.0\n",
      "3552.0 2045.0\n",
      "2928.0 2390.0\n",
      "1614.0 782.0\n"
     ]
    },
    {
     "name": "stderr",
     "output_type": "stream",
     "text": [
      "/export/scratch1/home/arkadiy/.local/lib/python2.7/site-packages/skimage/io/_io.py:140: UserWarning: ../data/segmentations_with_erosion_try2/Case16_segmentation_16.jpg is a low contrast image\n",
      "  warn('%s is a low contrast image' % fname)\n",
      "/export/scratch1/home/arkadiy/.local/lib/python2.7/site-packages/skimage/io/_io.py:140: UserWarning: ../data/segmentations_with_erosion_try2/Case16_segmentation_17.jpg is a low contrast image\n",
      "  warn('%s is a low contrast image' % fname)\n",
      "/export/scratch1/home/arkadiy/.local/lib/python2.7/site-packages/skimage/io/_io.py:140: UserWarning: ../data/segmentations_with_erosion_try2/Case16_segmentation_18.jpg is a low contrast image\n",
      "  warn('%s is a low contrast image' % fname)\n"
     ]
    },
    {
     "name": "stdout",
     "output_type": "stream",
     "text": [
      "1296.0 290.0\n",
      "1303.0 212.0\n",
      "0.0 0.0\n",
      "Case17.mhd (20, 320, 320)\n"
     ]
    },
    {
     "name": "stderr",
     "output_type": "stream",
     "text": [
      "/export/scratch1/home/arkadiy/.local/lib/python2.7/site-packages/skimage/io/_io.py:140: UserWarning: ../data/segmentations_with_erosion_try2/Case16_segmentation_19.jpg is a low contrast image\n",
      "  warn('%s is a low contrast image' % fname)\n"
     ]
    },
    {
     "name": "stdout",
     "output_type": "stream",
     "text": [
      "Case17_segmentation.mhd (20, 320, 320)\n",
      "0.0 0.0\n",
      "0.0 0.0\n",
      "0.0 0.0\n",
      "0.0 0.0\n",
      "0.0 0.0\n"
     ]
    },
    {
     "name": "stderr",
     "output_type": "stream",
     "text": [
      "/export/scratch1/home/arkadiy/.local/lib/python2.7/site-packages/skimage/io/_io.py:140: UserWarning: ../data/segmentations_with_erosion_try2/Case17_segmentation_0.jpg is a low contrast image\n",
      "  warn('%s is a low contrast image' % fname)\n",
      "/export/scratch1/home/arkadiy/.local/lib/python2.7/site-packages/skimage/io/_io.py:140: UserWarning: ../data/segmentations_with_erosion_try2/Case17_segmentation_1.jpg is a low contrast image\n",
      "  warn('%s is a low contrast image' % fname)\n",
      "/export/scratch1/home/arkadiy/.local/lib/python2.7/site-packages/skimage/io/_io.py:140: UserWarning: ../data/segmentations_with_erosion_try2/Case17_segmentation_2.jpg is a low contrast image\n",
      "  warn('%s is a low contrast image' % fname)\n",
      "/export/scratch1/home/arkadiy/.local/lib/python2.7/site-packages/skimage/io/_io.py:140: UserWarning: ../data/segmentations_with_erosion_try2/Case17_segmentation_3.jpg is a low contrast image\n",
      "  warn('%s is a low contrast image' % fname)\n",
      "/export/scratch1/home/arkadiy/.local/lib/python2.7/site-packages/skimage/io/_io.py:140: UserWarning: ../data/segmentations_with_erosion_try2/Case17_segmentation_4.jpg is a low contrast image\n",
      "  warn('%s is a low contrast image' % fname)\n",
      "/export/scratch1/home/arkadiy/.local/lib/python2.7/site-packages/skimage/io/_io.py:140: UserWarning: ../data/segmentations_with_erosion_try2/Case17_segmentation_5.jpg is a low contrast image\n",
      "  warn('%s is a low contrast image' % fname)\n"
     ]
    },
    {
     "name": "stdout",
     "output_type": "stream",
     "text": [
      "0.0 0.0\n",
      "0.0 0.0\n",
      "0.0 0.0\n",
      "0.0 0.0\n",
      "402.0 173.0\n",
      "524.0 175.0\n"
     ]
    },
    {
     "name": "stderr",
     "output_type": "stream",
     "text": [
      "/export/scratch1/home/arkadiy/.local/lib/python2.7/site-packages/skimage/io/_io.py:140: UserWarning: ../data/segmentations_with_erosion_try2/Case17_segmentation_6.jpg is a low contrast image\n",
      "  warn('%s is a low contrast image' % fname)\n",
      "/export/scratch1/home/arkadiy/.local/lib/python2.7/site-packages/skimage/io/_io.py:140: UserWarning: ../data/segmentations_with_erosion_try2/Case17_segmentation_7.jpg is a low contrast image\n",
      "  warn('%s is a low contrast image' % fname)\n",
      "/export/scratch1/home/arkadiy/.local/lib/python2.7/site-packages/skimage/io/_io.py:140: UserWarning: ../data/segmentations_with_erosion_try2/Case17_segmentation_8.jpg is a low contrast image\n",
      "  warn('%s is a low contrast image' % fname)\n",
      "/export/scratch1/home/arkadiy/.local/lib/python2.7/site-packages/skimage/io/_io.py:140: UserWarning: ../data/segmentations_with_erosion_try2/Case17_segmentation_9.jpg is a low contrast image\n",
      "  warn('%s is a low contrast image' % fname)\n",
      "/export/scratch1/home/arkadiy/.local/lib/python2.7/site-packages/skimage/io/_io.py:140: UserWarning: ../data/segmentations_with_erosion_try2/Case17_segmentation_10.jpg is a low contrast image\n",
      "  warn('%s is a low contrast image' % fname)\n",
      "/export/scratch1/home/arkadiy/.local/lib/python2.7/site-packages/skimage/io/_io.py:140: UserWarning: ../data/segmentations_with_erosion_try2/Case17_segmentation_11.jpg is a low contrast image\n",
      "  warn('%s is a low contrast image' % fname)\n"
     ]
    },
    {
     "name": "stdout",
     "output_type": "stream",
     "text": [
      "720.0 144.0\n",
      "1457.0 625.0\n",
      "2116.0 1188.0\n",
      "2378.0 1271.0\n",
      "1654.0 898.0\n",
      "1365.0 672.0\n",
      "0.0 0.0\n",
      "0.0 0.0\n"
     ]
    },
    {
     "name": "stderr",
     "output_type": "stream",
     "text": [
      "/export/scratch1/home/arkadiy/.local/lib/python2.7/site-packages/skimage/io/_io.py:140: UserWarning: ../data/segmentations_with_erosion_try2/Case17_segmentation_12.jpg is a low contrast image\n",
      "  warn('%s is a low contrast image' % fname)\n",
      "/export/scratch1/home/arkadiy/.local/lib/python2.7/site-packages/skimage/io/_io.py:140: UserWarning: ../data/segmentations_with_erosion_try2/Case17_segmentation_15.jpg is a low contrast image\n",
      "  warn('%s is a low contrast image' % fname)\n",
      "/export/scratch1/home/arkadiy/.local/lib/python2.7/site-packages/skimage/io/_io.py:140: UserWarning: ../data/segmentations_with_erosion_try2/Case17_segmentation_16.jpg is a low contrast image\n",
      "  warn('%s is a low contrast image' % fname)\n",
      "/export/scratch1/home/arkadiy/.local/lib/python2.7/site-packages/skimage/io/_io.py:140: UserWarning: ../data/segmentations_with_erosion_try2/Case17_segmentation_17.jpg is a low contrast image\n",
      "  warn('%s is a low contrast image' % fname)\n",
      "/export/scratch1/home/arkadiy/.local/lib/python2.7/site-packages/skimage/io/_io.py:140: UserWarning: ../data/segmentations_with_erosion_try2/Case17_segmentation_18.jpg is a low contrast image\n",
      "  warn('%s is a low contrast image' % fname)\n",
      "/export/scratch1/home/arkadiy/.local/lib/python2.7/site-packages/skimage/io/_io.py:140: UserWarning: ../data/segmentations_with_erosion_try2/Case17_segmentation_19.jpg is a low contrast image\n",
      "  warn('%s is a low contrast image' % fname)\n"
     ]
    },
    {
     "name": "stdout",
     "output_type": "stream",
     "text": [
      "0.0 0.0\n",
      "Case18.mhd (17, 320, 320)\n",
      "Case18_segmentation.mhd (17, 320, 320)\n",
      "0.0 0.0\n",
      "1630.0 1063.0\n",
      "3087.0 1510.0\n",
      "4622.0 2880.0\n",
      "6017.0 3749.0\n"
     ]
    },
    {
     "name": "stderr",
     "output_type": "stream",
     "text": [
      "/export/scratch1/home/arkadiy/.local/lib/python2.7/site-packages/skimage/io/_io.py:140: UserWarning: ../data/segmentations_with_erosion_try2/Case18_segmentation_0.jpg is a low contrast image\n",
      "  warn('%s is a low contrast image' % fname)\n"
     ]
    },
    {
     "name": "stdout",
     "output_type": "stream",
     "text": [
      "6599.0 4955.0\n",
      "7838.0 6331.0\n",
      "8349.0 6798.0\n",
      "8510.0 7905.0\n",
      "8284.0 6219.0\n",
      "8235.0 7041.0\n",
      "7665.0 5419.0\n",
      "6582.0 4505.0\n",
      "4328.0 2675.0\n",
      "3351.0 1716.0\n",
      "2370.0 1438.0\n",
      "1702.0 943.0\n",
      "Case19.mhd (20, 320, 320)\n"
     ]
    },
    {
     "name": "stderr",
     "output_type": "stream",
     "text": [
      "/export/scratch1/home/arkadiy/.local/lib/python2.7/site-packages/skimage/io/_io.py:140: UserWarning: ../data/segmentations_with_erosion_try2/Case18_segmentation_16.jpg is a low contrast image\n",
      "  warn('%s is a low contrast image' % fname)\n"
     ]
    },
    {
     "name": "stdout",
     "output_type": "stream",
     "text": [
      "Case19_segmentation.mhd (20, 320, 320)\n",
      "0.0 0.0\n",
      "0.0 0.0\n",
      "0.0 0.0\n",
      "0.0 0.0\n",
      "535.0 156.0\n",
      "667.0 181.0\n"
     ]
    },
    {
     "name": "stderr",
     "output_type": "stream",
     "text": [
      "/export/scratch1/home/arkadiy/.local/lib/python2.7/site-packages/skimage/io/_io.py:140: UserWarning: ../data/segmentations_with_erosion_try2/Case19_segmentation_0.jpg is a low contrast image\n",
      "  warn('%s is a low contrast image' % fname)\n",
      "/export/scratch1/home/arkadiy/.local/lib/python2.7/site-packages/skimage/io/_io.py:140: UserWarning: ../data/segmentations_with_erosion_try2/Case19_segmentation_1.jpg is a low contrast image\n",
      "  warn('%s is a low contrast image' % fname)\n",
      "/export/scratch1/home/arkadiy/.local/lib/python2.7/site-packages/skimage/io/_io.py:140: UserWarning: ../data/segmentations_with_erosion_try2/Case19_segmentation_2.jpg is a low contrast image\n",
      "  warn('%s is a low contrast image' % fname)\n",
      "/export/scratch1/home/arkadiy/.local/lib/python2.7/site-packages/skimage/io/_io.py:140: UserWarning: ../data/segmentations_with_erosion_try2/Case19_segmentation_3.jpg is a low contrast image\n",
      "  warn('%s is a low contrast image' % fname)\n",
      "/export/scratch1/home/arkadiy/.local/lib/python2.7/site-packages/skimage/io/_io.py:140: UserWarning: ../data/segmentations_with_erosion_try2/Case19_segmentation_4.jpg is a low contrast image\n",
      "  warn('%s is a low contrast image' % fname)\n",
      "/export/scratch1/home/arkadiy/.local/lib/python2.7/site-packages/skimage/io/_io.py:140: UserWarning: ../data/segmentations_with_erosion_try2/Case19_segmentation_5.jpg is a low contrast image\n",
      "  warn('%s is a low contrast image' % fname)\n"
     ]
    },
    {
     "name": "stdout",
     "output_type": "stream",
     "text": [
      "1139.0 460.0\n",
      "2134.0 1197.0\n",
      "3090.0 1109.0\n",
      "3546.0 2197.0\n"
     ]
    },
    {
     "name": "stderr",
     "output_type": "stream",
     "text": [
      "/export/scratch1/home/arkadiy/.local/lib/python2.7/site-packages/skimage/io/_io.py:140: UserWarning: ../data/segmentations_with_erosion_try2/Case19_segmentation_6.jpg is a low contrast image\n",
      "  warn('%s is a low contrast image' % fname)\n"
     ]
    },
    {
     "name": "stdout",
     "output_type": "stream",
     "text": [
      "3646.0 2097.0\n",
      "3921.0 3505.0\n",
      "3635.0 2418.0\n",
      "3644.0 2277.0\n",
      "2595.0 1215.0\n",
      "1502.0 857.0\n",
      "659.0 124.0\n"
     ]
    },
    {
     "name": "stderr",
     "output_type": "stream",
     "text": [
      "/export/scratch1/home/arkadiy/.local/lib/python2.7/site-packages/skimage/io/_io.py:140: UserWarning: ../data/segmentations_with_erosion_try2/Case19_segmentation_15.jpg is a low contrast image\n",
      "  warn('%s is a low contrast image' % fname)\n",
      "/export/scratch1/home/arkadiy/.local/lib/python2.7/site-packages/skimage/io/_io.py:140: UserWarning: ../data/segmentations_with_erosion_try2/Case19_segmentation_16.jpg is a low contrast image\n",
      "  warn('%s is a low contrast image' % fname)\n",
      "/export/scratch1/home/arkadiy/.local/lib/python2.7/site-packages/skimage/io/_io.py:140: UserWarning: ../data/segmentations_with_erosion_try2/Case19_segmentation_17.jpg is a low contrast image\n",
      "  warn('%s is a low contrast image' % fname)\n",
      "/export/scratch1/home/arkadiy/.local/lib/python2.7/site-packages/skimage/io/_io.py:140: UserWarning: ../data/segmentations_with_erosion_try2/Case19_segmentation_18.jpg is a low contrast image\n",
      "  warn('%s is a low contrast image' % fname)\n",
      "/export/scratch1/home/arkadiy/.local/lib/python2.7/site-packages/skimage/io/_io.py:140: UserWarning: ../data/segmentations_with_erosion_try2/Case19_segmentation_19.jpg is a low contrast image\n",
      "  warn('%s is a low contrast image' % fname)\n"
     ]
    },
    {
     "name": "stdout",
     "output_type": "stream",
     "text": [
      "539.0 328.0\n",
      "0.0 0.0\n",
      "0.0 0.0\n",
      "Case20.mhd (20, 320, 320)\n",
      "Case20_segmentation.mhd (20, 320, 320)\n",
      "0.0 0.0\n",
      "0.0 0.0\n",
      "0.0 0.0\n",
      "0.0 0.0\n"
     ]
    },
    {
     "name": "stderr",
     "output_type": "stream",
     "text": [
      "/export/scratch1/home/arkadiy/.local/lib/python2.7/site-packages/skimage/io/_io.py:140: UserWarning: ../data/segmentations_with_erosion_try2/Case20_segmentation_0.jpg is a low contrast image\n",
      "  warn('%s is a low contrast image' % fname)\n",
      "/export/scratch1/home/arkadiy/.local/lib/python2.7/site-packages/skimage/io/_io.py:140: UserWarning: ../data/segmentations_with_erosion_try2/Case20_segmentation_1.jpg is a low contrast image\n",
      "  warn('%s is a low contrast image' % fname)\n",
      "/export/scratch1/home/arkadiy/.local/lib/python2.7/site-packages/skimage/io/_io.py:140: UserWarning: ../data/segmentations_with_erosion_try2/Case20_segmentation_2.jpg is a low contrast image\n",
      "  warn('%s is a low contrast image' % fname)\n",
      "/export/scratch1/home/arkadiy/.local/lib/python2.7/site-packages/skimage/io/_io.py:140: UserWarning: ../data/segmentations_with_erosion_try2/Case20_segmentation_3.jpg is a low contrast image\n",
      "  warn('%s is a low contrast image' % fname)\n",
      "/export/scratch1/home/arkadiy/.local/lib/python2.7/site-packages/skimage/io/_io.py:140: UserWarning: ../data/segmentations_with_erosion_try2/Case20_segmentation_4.jpg is a low contrast image\n",
      "  warn('%s is a low contrast image' % fname)\n",
      "/export/scratch1/home/arkadiy/.local/lib/python2.7/site-packages/skimage/io/_io.py:140: UserWarning: ../data/segmentations_with_erosion_try2/Case20_segmentation_5.jpg is a low contrast image\n",
      "  warn('%s is a low contrast image' % fname)\n",
      "/export/scratch1/home/arkadiy/.local/lib/python2.7/site-packages/skimage/io/_io.py:140: UserWarning: ../data/segmentations_with_erosion_try2/Case20_segmentation_6.jpg is a low contrast image\n",
      "  warn('%s is a low contrast image' % fname)\n"
     ]
    },
    {
     "name": "stdout",
     "output_type": "stream",
     "text": [
      "322.0 76.0\n",
      "610.0 150.0\n",
      "858.0 408.0\n",
      "1342.0 379.0\n",
      "1976.0 1395.0\n",
      "2499.0 1235.0\n"
     ]
    },
    {
     "name": "stderr",
     "output_type": "stream",
     "text": [
      "/export/scratch1/home/arkadiy/.local/lib/python2.7/site-packages/skimage/io/_io.py:140: UserWarning: ../data/segmentations_with_erosion_try2/Case20_segmentation_7.jpg is a low contrast image\n",
      "  warn('%s is a low contrast image' % fname)\n"
     ]
    },
    {
     "name": "stdout",
     "output_type": "stream",
     "text": [
      "3338.0 2353.0\n",
      "3865.0 2608.0\n",
      "3264.0 1635.0\n",
      "2647.0 1785.0\n",
      "2359.0 1310.0\n",
      "997.0 354.0\n"
     ]
    },
    {
     "name": "stderr",
     "output_type": "stream",
     "text": [
      "/export/scratch1/home/arkadiy/.local/lib/python2.7/site-packages/skimage/io/_io.py:140: UserWarning: ../data/segmentations_with_erosion_try2/Case20_segmentation_15.jpg is a low contrast image\n",
      "  warn('%s is a low contrast image' % fname)\n",
      "/export/scratch1/home/arkadiy/.local/lib/python2.7/site-packages/skimage/io/_io.py:140: UserWarning: ../data/segmentations_with_erosion_try2/Case20_segmentation_16.jpg is a low contrast image\n",
      "  warn('%s is a low contrast image' % fname)\n",
      "/export/scratch1/home/arkadiy/.local/lib/python2.7/site-packages/skimage/io/_io.py:140: UserWarning: ../data/segmentations_with_erosion_try2/Case20_segmentation_17.jpg is a low contrast image\n",
      "  warn('%s is a low contrast image' % fname)\n",
      "/export/scratch1/home/arkadiy/.local/lib/python2.7/site-packages/skimage/io/_io.py:140: UserWarning: ../data/segmentations_with_erosion_try2/Case20_segmentation_18.jpg is a low contrast image\n",
      "  warn('%s is a low contrast image' % fname)\n",
      "/export/scratch1/home/arkadiy/.local/lib/python2.7/site-packages/skimage/io/_io.py:140: UserWarning: ../data/segmentations_with_erosion_try2/Case20_segmentation_19.jpg is a low contrast image\n",
      "  warn('%s is a low contrast image' % fname)\n"
     ]
    },
    {
     "name": "stdout",
     "output_type": "stream",
     "text": [
      "486.0 37.0\n",
      "0.0 0.0\n",
      "0.0 0.0\n",
      "0.0 0.0\n",
      "Case21.mhd (20, 320, 320)\n",
      "Case21_segmentation.mhd (20, 320, 320)\n",
      "0.0 0.0\n",
      "0.0 0.0\n",
      "0.0 0.0\n",
      "417.0 31.0\n",
      "1049.0 326.0\n"
     ]
    },
    {
     "name": "stderr",
     "output_type": "stream",
     "text": [
      "/export/scratch1/home/arkadiy/.local/lib/python2.7/site-packages/skimage/io/_io.py:140: UserWarning: ../data/segmentations_with_erosion_try2/Case21_segmentation_0.jpg is a low contrast image\n",
      "  warn('%s is a low contrast image' % fname)\n",
      "/export/scratch1/home/arkadiy/.local/lib/python2.7/site-packages/skimage/io/_io.py:140: UserWarning: ../data/segmentations_with_erosion_try2/Case21_segmentation_1.jpg is a low contrast image\n",
      "  warn('%s is a low contrast image' % fname)\n",
      "/export/scratch1/home/arkadiy/.local/lib/python2.7/site-packages/skimage/io/_io.py:140: UserWarning: ../data/segmentations_with_erosion_try2/Case21_segmentation_2.jpg is a low contrast image\n",
      "  warn('%s is a low contrast image' % fname)\n",
      "/export/scratch1/home/arkadiy/.local/lib/python2.7/site-packages/skimage/io/_io.py:140: UserWarning: ../data/segmentations_with_erosion_try2/Case21_segmentation_3.jpg is a low contrast image\n",
      "  warn('%s is a low contrast image' % fname)\n",
      "/export/scratch1/home/arkadiy/.local/lib/python2.7/site-packages/skimage/io/_io.py:140: UserWarning: ../data/segmentations_with_erosion_try2/Case21_segmentation_4.jpg is a low contrast image\n",
      "  warn('%s is a low contrast image' % fname)\n"
     ]
    },
    {
     "name": "stdout",
     "output_type": "stream",
     "text": [
      "1182.0 243.0\n",
      "1553.0 675.0\n",
      "2421.0 1746.0\n",
      "3061.0 1821.0\n",
      "3216.0 2271.0\n",
      "4255.0 3164.0\n",
      "3873.0 2835.0\n",
      "3894.0 2493.0\n"
     ]
    },
    {
     "name": "stderr",
     "output_type": "stream",
     "text": [
      "/export/scratch1/home/arkadiy/.local/lib/python2.7/site-packages/skimage/io/_io.py:140: UserWarning: ../data/segmentations_with_erosion_try2/Case21_segmentation_5.jpg is a low contrast image\n",
      "  warn('%s is a low contrast image' % fname)\n",
      "/export/scratch1/home/arkadiy/.local/lib/python2.7/site-packages/skimage/io/_io.py:140: UserWarning: ../data/segmentations_with_erosion_try2/Case21_segmentation_6.jpg is a low contrast image\n",
      "  warn('%s is a low contrast image' % fname)\n"
     ]
    },
    {
     "name": "stdout",
     "output_type": "stream",
     "text": [
      "3669.0 2659.0\n",
      "3302.0 2020.0\n",
      "2431.0 1935.0\n",
      "890.0 767.0\n",
      "389.0 2.0\n",
      "0.0 0.0\n",
      "0.0 0.0\n",
      "Case22.mhd (20, 320, 320)\n"
     ]
    },
    {
     "name": "stderr",
     "output_type": "stream",
     "text": [
      "/export/scratch1/home/arkadiy/.local/lib/python2.7/site-packages/skimage/io/_io.py:140: UserWarning: ../data/segmentations_with_erosion_try2/Case21_segmentation_16.jpg is a low contrast image\n",
      "  warn('%s is a low contrast image' % fname)\n",
      "/export/scratch1/home/arkadiy/.local/lib/python2.7/site-packages/skimage/io/_io.py:140: UserWarning: ../data/segmentations_with_erosion_try2/Case21_segmentation_17.jpg is a low contrast image\n",
      "  warn('%s is a low contrast image' % fname)\n",
      "/export/scratch1/home/arkadiy/.local/lib/python2.7/site-packages/skimage/io/_io.py:140: UserWarning: ../data/segmentations_with_erosion_try2/Case21_segmentation_18.jpg is a low contrast image\n",
      "  warn('%s is a low contrast image' % fname)\n",
      "/export/scratch1/home/arkadiy/.local/lib/python2.7/site-packages/skimage/io/_io.py:140: UserWarning: ../data/segmentations_with_erosion_try2/Case21_segmentation_19.jpg is a low contrast image\n",
      "  warn('%s is a low contrast image' % fname)\n"
     ]
    },
    {
     "name": "stdout",
     "output_type": "stream",
     "text": [
      "Case22_segmentation.mhd (20, 320, 320)\n",
      "0.0 0.0\n",
      "0.0 0.0\n",
      "715.0 169.0\n",
      "788.0 360.0\n",
      "1054.0 453.0\n",
      "2198.0 1185.0\n",
      "2978.0 2024.0\n"
     ]
    },
    {
     "name": "stderr",
     "output_type": "stream",
     "text": [
      "/export/scratch1/home/arkadiy/.local/lib/python2.7/site-packages/skimage/io/_io.py:140: UserWarning: ../data/segmentations_with_erosion_try2/Case22_segmentation_0.jpg is a low contrast image\n",
      "  warn('%s is a low contrast image' % fname)\n",
      "/export/scratch1/home/arkadiy/.local/lib/python2.7/site-packages/skimage/io/_io.py:140: UserWarning: ../data/segmentations_with_erosion_try2/Case22_segmentation_1.jpg is a low contrast image\n",
      "  warn('%s is a low contrast image' % fname)\n",
      "/export/scratch1/home/arkadiy/.local/lib/python2.7/site-packages/skimage/io/_io.py:140: UserWarning: ../data/segmentations_with_erosion_try2/Case22_segmentation_2.jpg is a low contrast image\n",
      "  warn('%s is a low contrast image' % fname)\n",
      "/export/scratch1/home/arkadiy/.local/lib/python2.7/site-packages/skimage/io/_io.py:140: UserWarning: ../data/segmentations_with_erosion_try2/Case22_segmentation_3.jpg is a low contrast image\n",
      "  warn('%s is a low contrast image' % fname)\n",
      "/export/scratch1/home/arkadiy/.local/lib/python2.7/site-packages/skimage/io/_io.py:140: UserWarning: ../data/segmentations_with_erosion_try2/Case22_segmentation_4.jpg is a low contrast image\n",
      "  warn('%s is a low contrast image' % fname)\n"
     ]
    },
    {
     "name": "stdout",
     "output_type": "stream",
     "text": [
      "3470.0 1552.0\n",
      "4183.0 2688.0\n",
      "4967.0 2303.0\n",
      "5246.0 2861.0\n",
      "5352.0 3421.0\n",
      "5294.0 3805.0\n",
      "3800.0 2764.0\n",
      "1699.0 856.0\n",
      "798.0 74.0\n"
     ]
    },
    {
     "name": "stderr",
     "output_type": "stream",
     "text": [
      "/export/scratch1/home/arkadiy/.local/lib/python2.7/site-packages/skimage/io/_io.py:140: UserWarning: ../data/segmentations_with_erosion_try2/Case22_segmentation_14.jpg is a low contrast image\n",
      "  warn('%s is a low contrast image' % fname)\n",
      "/export/scratch1/home/arkadiy/.local/lib/python2.7/site-packages/skimage/io/_io.py:140: UserWarning: ../data/segmentations_with_erosion_try2/Case22_segmentation_15.jpg is a low contrast image\n",
      "  warn('%s is a low contrast image' % fname)\n",
      "/export/scratch1/home/arkadiy/.local/lib/python2.7/site-packages/skimage/io/_io.py:140: UserWarning: ../data/segmentations_with_erosion_try2/Case22_segmentation_16.jpg is a low contrast image\n",
      "  warn('%s is a low contrast image' % fname)\n",
      "/export/scratch1/home/arkadiy/.local/lib/python2.7/site-packages/skimage/io/_io.py:140: UserWarning: ../data/segmentations_with_erosion_try2/Case22_segmentation_17.jpg is a low contrast image\n",
      "  warn('%s is a low contrast image' % fname)\n",
      "/export/scratch1/home/arkadiy/.local/lib/python2.7/site-packages/skimage/io/_io.py:140: UserWarning: ../data/segmentations_with_erosion_try2/Case22_segmentation_18.jpg is a low contrast image\n",
      "  warn('%s is a low contrast image' % fname)\n",
      "/export/scratch1/home/arkadiy/.local/lib/python2.7/site-packages/skimage/io/_io.py:140: UserWarning: ../data/segmentations_with_erosion_try2/Case22_segmentation_19.jpg is a low contrast image\n",
      "  warn('%s is a low contrast image' % fname)\n"
     ]
    },
    {
     "name": "stdout",
     "output_type": "stream",
     "text": [
      "0.0 0.0\n",
      "0.0 0.0\n",
      "0.0 0.0\n",
      "0.0 0.0\n",
      "Case23.mhd (20, 320, 320)\n",
      "Case23_segmentation.mhd (20, 320, 320)\n",
      "5659.0 3832.0\n",
      "7704.0 5290.0\n",
      "8610.0 6080.0\n",
      "8974.0 6693.0\n",
      "10196.0 8414.0\n",
      "11115.0 8921.0\n",
      "12143.0 9508.0\n",
      "12866.0 10528.0\n",
      "13323.0 10568.0\n",
      "13545.0 10764.0\n",
      "13964.0 10285.0\n",
      "14701.0 13007.0\n",
      "14764.0 11753.0\n",
      "13094.0 11019.0\n",
      "12854.0 10472.0\n",
      "12377.0 10844.0\n",
      "12042.0 9402.0\n",
      "11221.0 9736.0\n",
      "8926.0 7293.0\n",
      "6200.0 3269.0\n",
      "Case24.mhd (20, 320, 320)\n",
      "Case24_segmentation.mhd (20, 320, 320)\n",
      "0.0 0.0\n",
      "0.0 0.0\n",
      "0.0 0.0\n",
      "0.0 0.0\n"
     ]
    },
    {
     "name": "stderr",
     "output_type": "stream",
     "text": [
      "/export/scratch1/home/arkadiy/.local/lib/python2.7/site-packages/skimage/io/_io.py:140: UserWarning: ../data/segmentations_with_erosion_try2/Case24_segmentation_0.jpg is a low contrast image\n",
      "  warn('%s is a low contrast image' % fname)\n",
      "/export/scratch1/home/arkadiy/.local/lib/python2.7/site-packages/skimage/io/_io.py:140: UserWarning: ../data/segmentations_with_erosion_try2/Case24_segmentation_1.jpg is a low contrast image\n",
      "  warn('%s is a low contrast image' % fname)\n",
      "/export/scratch1/home/arkadiy/.local/lib/python2.7/site-packages/skimage/io/_io.py:140: UserWarning: ../data/segmentations_with_erosion_try2/Case24_segmentation_2.jpg is a low contrast image\n",
      "  warn('%s is a low contrast image' % fname)\n",
      "/export/scratch1/home/arkadiy/.local/lib/python2.7/site-packages/skimage/io/_io.py:140: UserWarning: ../data/segmentations_with_erosion_try2/Case24_segmentation_3.jpg is a low contrast image\n",
      "  warn('%s is a low contrast image' % fname)\n",
      "/export/scratch1/home/arkadiy/.local/lib/python2.7/site-packages/skimage/io/_io.py:140: UserWarning: ../data/segmentations_with_erosion_try2/Case24_segmentation_4.jpg is a low contrast image\n",
      "  warn('%s is a low contrast image' % fname)\n",
      "/export/scratch1/home/arkadiy/.local/lib/python2.7/site-packages/skimage/io/_io.py:140: UserWarning: ../data/segmentations_with_erosion_try2/Case24_segmentation_5.jpg is a low contrast image\n",
      "  warn('%s is a low contrast image' % fname)\n"
     ]
    },
    {
     "name": "stdout",
     "output_type": "stream",
     "text": [
      "0.0 0.0\n",
      "667.0 273.0\n",
      "1029.0 324.0\n",
      "1804.0 896.0\n",
      "2593.0 1165.0\n",
      "2899.0 2191.0\n"
     ]
    },
    {
     "name": "stderr",
     "output_type": "stream",
     "text": [
      "/export/scratch1/home/arkadiy/.local/lib/python2.7/site-packages/skimage/io/_io.py:140: UserWarning: ../data/segmentations_with_erosion_try2/Case24_segmentation_6.jpg is a low contrast image\n",
      "  warn('%s is a low contrast image' % fname)\n",
      "/export/scratch1/home/arkadiy/.local/lib/python2.7/site-packages/skimage/io/_io.py:140: UserWarning: ../data/segmentations_with_erosion_try2/Case24_segmentation_7.jpg is a low contrast image\n",
      "  warn('%s is a low contrast image' % fname)\n"
     ]
    },
    {
     "name": "stdout",
     "output_type": "stream",
     "text": [
      "3264.0 2298.0\n",
      "3326.0 2161.0\n",
      "3274.0 1956.0\n",
      "2619.0 1604.0\n",
      "1583.0 780.0\n",
      "132.0 0.0\n",
      "0.0 0.0\n"
     ]
    },
    {
     "name": "stderr",
     "output_type": "stream",
     "text": [
      "/export/scratch1/home/arkadiy/.local/lib/python2.7/site-packages/skimage/io/_io.py:140: UserWarning: ../data/segmentations_with_erosion_try2/Case24_segmentation_14.jpg is a low contrast image\n",
      "  warn('%s is a low contrast image' % fname)\n",
      "/export/scratch1/home/arkadiy/.local/lib/python2.7/site-packages/skimage/io/_io.py:140: UserWarning: ../data/segmentations_with_erosion_try2/Case24_segmentation_15.jpg is a low contrast image\n",
      "  warn('%s is a low contrast image' % fname)\n",
      "/export/scratch1/home/arkadiy/.local/lib/python2.7/site-packages/skimage/io/_io.py:140: UserWarning: ../data/segmentations_with_erosion_try2/Case24_segmentation_16.jpg is a low contrast image\n",
      "  warn('%s is a low contrast image' % fname)\n",
      "/export/scratch1/home/arkadiy/.local/lib/python2.7/site-packages/skimage/io/_io.py:140: UserWarning: ../data/segmentations_with_erosion_try2/Case24_segmentation_17.jpg is a low contrast image\n",
      "  warn('%s is a low contrast image' % fname)\n",
      "/export/scratch1/home/arkadiy/.local/lib/python2.7/site-packages/skimage/io/_io.py:140: UserWarning: ../data/segmentations_with_erosion_try2/Case24_segmentation_18.jpg is a low contrast image\n",
      "  warn('%s is a low contrast image' % fname)\n",
      "/export/scratch1/home/arkadiy/.local/lib/python2.7/site-packages/skimage/io/_io.py:140: UserWarning: ../data/segmentations_with_erosion_try2/Case24_segmentation_19.jpg is a low contrast image\n",
      "  warn('%s is a low contrast image' % fname)\n"
     ]
    },
    {
     "name": "stdout",
     "output_type": "stream",
     "text": [
      "0.0 0.0\n",
      "0.0 0.0\n",
      "0.0 0.0\n",
      "Case25.mhd (18, 256, 256)\n",
      "Case25_segmentation.mhd (18, 256, 256)\n",
      "0.0 0.0\n",
      "942.0 290.0\n",
      "1720.0 1166.0\n",
      "2314.0 1226.0\n",
      "2822.0 1766.0\n",
      "3336.0 2368.0\n",
      "3605.0 3005.0\n",
      "3768.0 2422.0\n",
      "3831.0 2645.0\n",
      "4127.0 2892.0\n",
      "3776.0 2591.0\n"
     ]
    },
    {
     "name": "stderr",
     "output_type": "stream",
     "text": [
      "/export/scratch1/home/arkadiy/.local/lib/python2.7/site-packages/skimage/io/_io.py:140: UserWarning: ../data/segmentations_with_erosion_try2/Case25_segmentation_0.jpg is a low contrast image\n",
      "  warn('%s is a low contrast image' % fname)\n",
      "/export/scratch1/home/arkadiy/.local/lib/python2.7/site-packages/skimage/io/_io.py:140: UserWarning: ../data/segmentations_with_erosion_try2/Case25_segmentation_1.jpg is a low contrast image\n",
      "  warn('%s is a low contrast image' % fname)\n"
     ]
    },
    {
     "name": "stdout",
     "output_type": "stream",
     "text": [
      "3631.0 1957.0\n",
      "3363.0 2620.0\n",
      "3216.0 2135.0\n",
      "2288.0 1485.0\n",
      "2053.0 1756.0\n",
      "1604.0 747.0\n",
      "783.0 334.0\n",
      "Case26.mhd (23, 512, 512)\n"
     ]
    },
    {
     "name": "stderr",
     "output_type": "stream",
     "text": [
      "/export/scratch1/home/arkadiy/.local/lib/python2.7/site-packages/skimage/io/_io.py:140: UserWarning: ../data/segmentations_with_erosion_try2/Case25_segmentation_17.jpg is a low contrast image\n",
      "  warn('%s is a low contrast image' % fname)\n"
     ]
    },
    {
     "name": "stdout",
     "output_type": "stream",
     "text": [
      "Case26_segmentation.mhd (23, 512, 512)\n",
      "0.0 0.0\n"
     ]
    },
    {
     "name": "stderr",
     "output_type": "stream",
     "text": [
      "/export/scratch1/home/arkadiy/.local/lib/python2.7/site-packages/skimage/io/_io.py:140: UserWarning: ../data/segmentations_with_erosion_try2/Case26_segmentation_0.jpg is a low contrast image\n",
      "  warn('%s is a low contrast image' % fname)\n",
      "/export/scratch1/home/arkadiy/.local/lib/python2.7/site-packages/skimage/io/_io.py:140: UserWarning: ../data/segmentations_with_erosion_try2/Case26_segmentation_1.jpg is a low contrast image\n",
      "  warn('%s is a low contrast image' % fname)\n"
     ]
    },
    {
     "name": "stdout",
     "output_type": "stream",
     "text": [
      "0.0 0.0\n",
      "0.0 0.0\n"
     ]
    },
    {
     "name": "stderr",
     "output_type": "stream",
     "text": [
      "/export/scratch1/home/arkadiy/.local/lib/python2.7/site-packages/skimage/io/_io.py:140: UserWarning: ../data/segmentations_with_erosion_try2/Case26_segmentation_2.jpg is a low contrast image\n",
      "  warn('%s is a low contrast image' % fname)\n",
      "/export/scratch1/home/arkadiy/.local/lib/python2.7/site-packages/skimage/io/_io.py:140: UserWarning: ../data/segmentations_with_erosion_try2/Case26_segmentation_3.jpg is a low contrast image\n",
      "  warn('%s is a low contrast image' % fname)\n",
      "/export/scratch1/home/arkadiy/.local/lib/python2.7/site-packages/skimage/io/_io.py:140: UserWarning: ../data/segmentations_with_erosion_try2/Case26_segmentation_4.jpg is a low contrast image\n",
      "  warn('%s is a low contrast image' % fname)\n"
     ]
    },
    {
     "name": "stdout",
     "output_type": "stream",
     "text": [
      "0.0 0.0\n",
      "0.0 0.0\n",
      "2057.0 956.0\n"
     ]
    },
    {
     "name": "stderr",
     "output_type": "stream",
     "text": [
      "/export/scratch1/home/arkadiy/.local/lib/python2.7/site-packages/skimage/io/_io.py:140: UserWarning: ../data/segmentations_with_erosion_try2/Case26_segmentation_5.jpg is a low contrast image\n",
      "  warn('%s is a low contrast image' % fname)\n",
      "/export/scratch1/home/arkadiy/.local/lib/python2.7/site-packages/skimage/io/_io.py:140: UserWarning: ../data/segmentations_with_erosion_try2/Case26_segmentation_6.jpg is a low contrast image\n",
      "  warn('%s is a low contrast image' % fname)\n"
     ]
    },
    {
     "name": "stdout",
     "output_type": "stream",
     "text": [
      "3940.0 2290.0\n",
      "5925.0 3573.0\n",
      "7493.0 4781.0\n",
      "9412.0 8017.0\n",
      "10204.0 7776.0\n",
      "10575.0 9869.0\n",
      "10177.0 7458.0\n",
      "10419.0 8628.0\n",
      "10868.0 8357.0\n",
      "10362.0 8221.0\n",
      "7932.0 5889.0\n",
      "5471.0 3600.0\n",
      "5045.0 4084.0\n",
      "1443.0 781.0\n",
      "787.0 296.0\n"
     ]
    },
    {
     "name": "stderr",
     "output_type": "stream",
     "text": [
      "/export/scratch1/home/arkadiy/.local/lib/python2.7/site-packages/skimage/io/_io.py:140: UserWarning: ../data/segmentations_with_erosion_try2/Case26_segmentation_19.jpg is a low contrast image\n",
      "  warn('%s is a low contrast image' % fname)\n",
      "/export/scratch1/home/arkadiy/.local/lib/python2.7/site-packages/skimage/io/_io.py:140: UserWarning: ../data/segmentations_with_erosion_try2/Case26_segmentation_20.jpg is a low contrast image\n",
      "  warn('%s is a low contrast image' % fname)\n",
      "/export/scratch1/home/arkadiy/.local/lib/python2.7/site-packages/skimage/io/_io.py:140: UserWarning: ../data/segmentations_with_erosion_try2/Case26_segmentation_21.jpg is a low contrast image\n",
      "  warn('%s is a low contrast image' % fname)\n"
     ]
    },
    {
     "name": "stdout",
     "output_type": "stream",
     "text": [
      "0.0 0.0\n",
      "0.0 0.0\n",
      "Case27.mhd (23, 512, 512)\n"
     ]
    },
    {
     "name": "stderr",
     "output_type": "stream",
     "text": [
      "/export/scratch1/home/arkadiy/.local/lib/python2.7/site-packages/skimage/io/_io.py:140: UserWarning: ../data/segmentations_with_erosion_try2/Case26_segmentation_22.jpg is a low contrast image\n",
      "  warn('%s is a low contrast image' % fname)\n"
     ]
    },
    {
     "name": "stdout",
     "output_type": "stream",
     "text": [
      "Case27_segmentation.mhd (23, 512, 512)\n",
      "0.0 0.0\n"
     ]
    },
    {
     "name": "stderr",
     "output_type": "stream",
     "text": [
      "/export/scratch1/home/arkadiy/.local/lib/python2.7/site-packages/skimage/io/_io.py:140: UserWarning: ../data/segmentations_with_erosion_try2/Case27_segmentation_0.jpg is a low contrast image\n",
      "  warn('%s is a low contrast image' % fname)\n"
     ]
    },
    {
     "name": "stdout",
     "output_type": "stream",
     "text": [
      "0.0 0.0\n",
      "0.0 0.0\n",
      "0.0 0.0\n"
     ]
    },
    {
     "name": "stderr",
     "output_type": "stream",
     "text": [
      "/export/scratch1/home/arkadiy/.local/lib/python2.7/site-packages/skimage/io/_io.py:140: UserWarning: ../data/segmentations_with_erosion_try2/Case27_segmentation_1.jpg is a low contrast image\n",
      "  warn('%s is a low contrast image' % fname)\n",
      "/export/scratch1/home/arkadiy/.local/lib/python2.7/site-packages/skimage/io/_io.py:140: UserWarning: ../data/segmentations_with_erosion_try2/Case27_segmentation_2.jpg is a low contrast image\n",
      "  warn('%s is a low contrast image' % fname)\n",
      "/export/scratch1/home/arkadiy/.local/lib/python2.7/site-packages/skimage/io/_io.py:140: UserWarning: ../data/segmentations_with_erosion_try2/Case27_segmentation_3.jpg is a low contrast image\n",
      "  warn('%s is a low contrast image' % fname)\n"
     ]
    },
    {
     "name": "stdout",
     "output_type": "stream",
     "text": [
      "0.0 0.0\n",
      "0.0 0.0\n"
     ]
    },
    {
     "name": "stderr",
     "output_type": "stream",
     "text": [
      "/export/scratch1/home/arkadiy/.local/lib/python2.7/site-packages/skimage/io/_io.py:140: UserWarning: ../data/segmentations_with_erosion_try2/Case27_segmentation_4.jpg is a low contrast image\n",
      "  warn('%s is a low contrast image' % fname)\n",
      "/export/scratch1/home/arkadiy/.local/lib/python2.7/site-packages/skimage/io/_io.py:140: UserWarning: ../data/segmentations_with_erosion_try2/Case27_segmentation_5.jpg is a low contrast image\n",
      "  warn('%s is a low contrast image' % fname)\n"
     ]
    },
    {
     "name": "stdout",
     "output_type": "stream",
     "text": [
      "2062.0 960.0\n",
      "3424.0 1763.0\n"
     ]
    },
    {
     "name": "stderr",
     "output_type": "stream",
     "text": [
      "/export/scratch1/home/arkadiy/.local/lib/python2.7/site-packages/skimage/io/_io.py:140: UserWarning: ../data/segmentations_with_erosion_try2/Case27_segmentation_6.jpg is a low contrast image\n",
      "  warn('%s is a low contrast image' % fname)\n",
      "/export/scratch1/home/arkadiy/.local/lib/python2.7/site-packages/skimage/io/_io.py:140: UserWarning: ../data/segmentations_with_erosion_try2/Case27_segmentation_7.jpg is a low contrast image\n",
      "  warn('%s is a low contrast image' % fname)\n"
     ]
    },
    {
     "name": "stdout",
     "output_type": "stream",
     "text": [
      "5375.0 4115.0\n",
      "6879.0 4369.0\n",
      "8424.0 6211.0\n",
      "8987.0 7265.0\n",
      "8662.0 6108.0\n",
      "8542.0 7250.0\n",
      "8184.0 5690.0\n",
      "6749.0 5023.0\n",
      "5853.0 3616.0\n",
      "3543.0 2538.0\n",
      "0.0 0.0\n",
      "0.0 0.0\n"
     ]
    },
    {
     "name": "stderr",
     "output_type": "stream",
     "text": [
      "/export/scratch1/home/arkadiy/.local/lib/python2.7/site-packages/skimage/io/_io.py:140: UserWarning: ../data/segmentations_with_erosion_try2/Case27_segmentation_17.jpg is a low contrast image\n",
      "  warn('%s is a low contrast image' % fname)\n",
      "/export/scratch1/home/arkadiy/.local/lib/python2.7/site-packages/skimage/io/_io.py:140: UserWarning: ../data/segmentations_with_erosion_try2/Case27_segmentation_18.jpg is a low contrast image\n",
      "  warn('%s is a low contrast image' % fname)\n",
      "/export/scratch1/home/arkadiy/.local/lib/python2.7/site-packages/skimage/io/_io.py:140: UserWarning: ../data/segmentations_with_erosion_try2/Case27_segmentation_19.jpg is a low contrast image\n",
      "  warn('%s is a low contrast image' % fname)\n"
     ]
    },
    {
     "name": "stdout",
     "output_type": "stream",
     "text": [
      "0.0 0.0\n",
      "0.0 0.0\n",
      "0.0 0.0\n",
      "Case28.mhd (23, 512, 512)\n"
     ]
    },
    {
     "name": "stderr",
     "output_type": "stream",
     "text": [
      "/export/scratch1/home/arkadiy/.local/lib/python2.7/site-packages/skimage/io/_io.py:140: UserWarning: ../data/segmentations_with_erosion_try2/Case27_segmentation_20.jpg is a low contrast image\n",
      "  warn('%s is a low contrast image' % fname)\n",
      "/export/scratch1/home/arkadiy/.local/lib/python2.7/site-packages/skimage/io/_io.py:140: UserWarning: ../data/segmentations_with_erosion_try2/Case27_segmentation_21.jpg is a low contrast image\n",
      "  warn('%s is a low contrast image' % fname)\n",
      "/export/scratch1/home/arkadiy/.local/lib/python2.7/site-packages/skimage/io/_io.py:140: UserWarning: ../data/segmentations_with_erosion_try2/Case27_segmentation_22.jpg is a low contrast image\n",
      "  warn('%s is a low contrast image' % fname)\n"
     ]
    },
    {
     "name": "stdout",
     "output_type": "stream",
     "text": [
      "Case28_segmentation.mhd (23, 512, 512)\n",
      "0.0 0.0\n",
      "0.0 0.0\n"
     ]
    },
    {
     "name": "stderr",
     "output_type": "stream",
     "text": [
      "/export/scratch1/home/arkadiy/.local/lib/python2.7/site-packages/skimage/io/_io.py:140: UserWarning: ../data/segmentations_with_erosion_try2/Case28_segmentation_0.jpg is a low contrast image\n",
      "  warn('%s is a low contrast image' % fname)\n",
      "/export/scratch1/home/arkadiy/.local/lib/python2.7/site-packages/skimage/io/_io.py:140: UserWarning: ../data/segmentations_with_erosion_try2/Case28_segmentation_1.jpg is a low contrast image\n",
      "  warn('%s is a low contrast image' % fname)\n"
     ]
    },
    {
     "name": "stdout",
     "output_type": "stream",
     "text": [
      "0.0 0.0\n",
      "0.0 0.0\n",
      "0.0 0.0\n"
     ]
    },
    {
     "name": "stderr",
     "output_type": "stream",
     "text": [
      "/export/scratch1/home/arkadiy/.local/lib/python2.7/site-packages/skimage/io/_io.py:140: UserWarning: ../data/segmentations_with_erosion_try2/Case28_segmentation_2.jpg is a low contrast image\n",
      "  warn('%s is a low contrast image' % fname)\n",
      "/export/scratch1/home/arkadiy/.local/lib/python2.7/site-packages/skimage/io/_io.py:140: UserWarning: ../data/segmentations_with_erosion_try2/Case28_segmentation_3.jpg is a low contrast image\n",
      "  warn('%s is a low contrast image' % fname)\n",
      "/export/scratch1/home/arkadiy/.local/lib/python2.7/site-packages/skimage/io/_io.py:140: UserWarning: ../data/segmentations_with_erosion_try2/Case28_segmentation_4.jpg is a low contrast image\n",
      "  warn('%s is a low contrast image' % fname)\n"
     ]
    },
    {
     "name": "stdout",
     "output_type": "stream",
     "text": [
      "1544.0 645.0\n",
      "3428.0 2406.0\n"
     ]
    },
    {
     "name": "stderr",
     "output_type": "stream",
     "text": [
      "/export/scratch1/home/arkadiy/.local/lib/python2.7/site-packages/skimage/io/_io.py:140: UserWarning: ../data/segmentations_with_erosion_try2/Case28_segmentation_5.jpg is a low contrast image\n",
      "  warn('%s is a low contrast image' % fname)\n",
      "/export/scratch1/home/arkadiy/.local/lib/python2.7/site-packages/skimage/io/_io.py:140: UserWarning: ../data/segmentations_with_erosion_try2/Case28_segmentation_6.jpg is a low contrast image\n",
      "  warn('%s is a low contrast image' % fname)\n"
     ]
    },
    {
     "name": "stdout",
     "output_type": "stream",
     "text": [
      "4745.0 2739.0\n",
      "6532.0 4612.0\n",
      "8577.0 6416.0\n",
      "9399.0 7409.0\n",
      "10264.0 7575.0\n",
      "10872.0 6815.0\n",
      "10586.0 8816.0\n",
      "10419.0 8046.0\n",
      "6872.0 5019.0\n",
      "5776.0 3825.0\n",
      "4501.0 3164.0\n",
      "2401.0 1916.0\n",
      "0.0 0.0\n",
      "0.0 0.0\n",
      "0.0 0.0\n"
     ]
    },
    {
     "name": "stderr",
     "output_type": "stream",
     "text": [
      "/export/scratch1/home/arkadiy/.local/lib/python2.7/site-packages/skimage/io/_io.py:140: UserWarning: ../data/segmentations_with_erosion_try2/Case28_segmentation_18.jpg is a low contrast image\n",
      "  warn('%s is a low contrast image' % fname)\n",
      "/export/scratch1/home/arkadiy/.local/lib/python2.7/site-packages/skimage/io/_io.py:140: UserWarning: ../data/segmentations_with_erosion_try2/Case28_segmentation_19.jpg is a low contrast image\n",
      "  warn('%s is a low contrast image' % fname)\n",
      "/export/scratch1/home/arkadiy/.local/lib/python2.7/site-packages/skimage/io/_io.py:140: UserWarning: ../data/segmentations_with_erosion_try2/Case28_segmentation_20.jpg is a low contrast image\n",
      "  warn('%s is a low contrast image' % fname)\n",
      "/export/scratch1/home/arkadiy/.local/lib/python2.7/site-packages/skimage/io/_io.py:140: UserWarning: ../data/segmentations_with_erosion_try2/Case28_segmentation_21.jpg is a low contrast image\n",
      "  warn('%s is a low contrast image' % fname)\n"
     ]
    },
    {
     "name": "stdout",
     "output_type": "stream",
     "text": [
      "0.0 0.0\n",
      "Case29.mhd (23, 512, 512)\n"
     ]
    },
    {
     "name": "stderr",
     "output_type": "stream",
     "text": [
      "/export/scratch1/home/arkadiy/.local/lib/python2.7/site-packages/skimage/io/_io.py:140: UserWarning: ../data/segmentations_with_erosion_try2/Case28_segmentation_22.jpg is a low contrast image\n",
      "  warn('%s is a low contrast image' % fname)\n"
     ]
    },
    {
     "name": "stdout",
     "output_type": "stream",
     "text": [
      "Case29_segmentation.mhd (23, 512, 512)\n",
      "0.0 0.0\n",
      "0.0 0.0\n"
     ]
    },
    {
     "name": "stderr",
     "output_type": "stream",
     "text": [
      "/export/scratch1/home/arkadiy/.local/lib/python2.7/site-packages/skimage/io/_io.py:140: UserWarning: ../data/segmentations_with_erosion_try2/Case29_segmentation_0.jpg is a low contrast image\n",
      "  warn('%s is a low contrast image' % fname)\n",
      "/export/scratch1/home/arkadiy/.local/lib/python2.7/site-packages/skimage/io/_io.py:140: UserWarning: ../data/segmentations_with_erosion_try2/Case29_segmentation_1.jpg is a low contrast image\n",
      "  warn('%s is a low contrast image' % fname)\n"
     ]
    },
    {
     "name": "stdout",
     "output_type": "stream",
     "text": [
      "1050.0 321.0\n",
      "1809.0 963.0\n",
      "3195.0 1805.0\n"
     ]
    },
    {
     "name": "stderr",
     "output_type": "stream",
     "text": [
      "/export/scratch1/home/arkadiy/.local/lib/python2.7/site-packages/skimage/io/_io.py:140: UserWarning: ../data/segmentations_with_erosion_try2/Case29_segmentation_2.jpg is a low contrast image\n",
      "  warn('%s is a low contrast image' % fname)\n",
      "/export/scratch1/home/arkadiy/.local/lib/python2.7/site-packages/skimage/io/_io.py:140: UserWarning: ../data/segmentations_with_erosion_try2/Case29_segmentation_3.jpg is a low contrast image\n",
      "  warn('%s is a low contrast image' % fname)\n",
      "/export/scratch1/home/arkadiy/.local/lib/python2.7/site-packages/skimage/io/_io.py:140: UserWarning: ../data/segmentations_with_erosion_try2/Case29_segmentation_4.jpg is a low contrast image\n",
      "  warn('%s is a low contrast image' % fname)\n"
     ]
    },
    {
     "name": "stdout",
     "output_type": "stream",
     "text": [
      "4822.0 3909.0\n",
      "6000.0 4201.0\n",
      "8232.0 6082.0\n",
      "9178.0 7887.0\n",
      "10496.0 8384.0\n",
      "11954.0 8254.0\n",
      "12941.0 9831.0\n",
      "13612.0 11994.0\n",
      "13885.0 12262.0\n",
      "13198.0 9690.0\n",
      "12097.0 10962.0\n",
      "9166.0 6264.0\n",
      "4694.0 3549.0\n",
      "0.0 0.0\n",
      "0.0 0.0\n"
     ]
    },
    {
     "name": "stderr",
     "output_type": "stream",
     "text": [
      "/export/scratch1/home/arkadiy/.local/lib/python2.7/site-packages/skimage/io/_io.py:140: UserWarning: ../data/segmentations_with_erosion_try2/Case29_segmentation_18.jpg is a low contrast image\n",
      "  warn('%s is a low contrast image' % fname)\n",
      "/export/scratch1/home/arkadiy/.local/lib/python2.7/site-packages/skimage/io/_io.py:140: UserWarning: ../data/segmentations_with_erosion_try2/Case29_segmentation_19.jpg is a low contrast image\n",
      "  warn('%s is a low contrast image' % fname)\n",
      "/export/scratch1/home/arkadiy/.local/lib/python2.7/site-packages/skimage/io/_io.py:140: UserWarning: ../data/segmentations_with_erosion_try2/Case29_segmentation_20.jpg is a low contrast image\n",
      "  warn('%s is a low contrast image' % fname)\n"
     ]
    },
    {
     "name": "stdout",
     "output_type": "stream",
     "text": [
      "0.0 0.0\n",
      "0.0 0.0\n"
     ]
    },
    {
     "name": "stderr",
     "output_type": "stream",
     "text": [
      "/export/scratch1/home/arkadiy/.local/lib/python2.7/site-packages/skimage/io/_io.py:140: UserWarning: ../data/segmentations_with_erosion_try2/Case29_segmentation_21.jpg is a low contrast image\n",
      "  warn('%s is a low contrast image' % fname)\n"
     ]
    },
    {
     "name": "stdout",
     "output_type": "stream",
     "text": [
      "0.0 0.0\n",
      "Case30.mhd (23, 512, 512)\n"
     ]
    },
    {
     "name": "stderr",
     "output_type": "stream",
     "text": [
      "/export/scratch1/home/arkadiy/.local/lib/python2.7/site-packages/skimage/io/_io.py:140: UserWarning: ../data/segmentations_with_erosion_try2/Case29_segmentation_22.jpg is a low contrast image\n",
      "  warn('%s is a low contrast image' % fname)\n"
     ]
    },
    {
     "name": "stdout",
     "output_type": "stream",
     "text": [
      "Case30_segmentation.mhd (23, 512, 512)\n",
      "0.0 0.0\n"
     ]
    },
    {
     "name": "stderr",
     "output_type": "stream",
     "text": [
      "/export/scratch1/home/arkadiy/.local/lib/python2.7/site-packages/skimage/io/_io.py:140: UserWarning: ../data/segmentations_with_erosion_try2/Case30_segmentation_0.jpg is a low contrast image\n",
      "  warn('%s is a low contrast image' % fname)\n",
      "/export/scratch1/home/arkadiy/.local/lib/python2.7/site-packages/skimage/io/_io.py:140: UserWarning: ../data/segmentations_with_erosion_try2/Case30_segmentation_1.jpg is a low contrast image\n",
      "  warn('%s is a low contrast image' % fname)\n",
      "/export/scratch1/home/arkadiy/.local/lib/python2.7/site-packages/skimage/io/_io.py:140: UserWarning: ../data/segmentations_with_erosion_try2/Case30_segmentation_2.jpg is a low contrast image\n",
      "  warn('%s is a low contrast image' % fname)\n"
     ]
    },
    {
     "name": "stdout",
     "output_type": "stream",
     "text": [
      "0.0 0.0\n",
      "0.0 0.0\n",
      "0.0 0.0\n"
     ]
    },
    {
     "name": "stderr",
     "output_type": "stream",
     "text": [
      "/export/scratch1/home/arkadiy/.local/lib/python2.7/site-packages/skimage/io/_io.py:140: UserWarning: ../data/segmentations_with_erosion_try2/Case30_segmentation_3.jpg is a low contrast image\n",
      "  warn('%s is a low contrast image' % fname)\n",
      "/export/scratch1/home/arkadiy/.local/lib/python2.7/site-packages/skimage/io/_io.py:140: UserWarning: ../data/segmentations_with_erosion_try2/Case30_segmentation_4.jpg is a low contrast image\n",
      "  warn('%s is a low contrast image' % fname)\n"
     ]
    },
    {
     "name": "stdout",
     "output_type": "stream",
     "text": [
      "0.0 0.0\n",
      "1866.0 1076.0\n"
     ]
    },
    {
     "name": "stderr",
     "output_type": "stream",
     "text": [
      "/export/scratch1/home/arkadiy/.local/lib/python2.7/site-packages/skimage/io/_io.py:140: UserWarning: ../data/segmentations_with_erosion_try2/Case30_segmentation_5.jpg is a low contrast image\n",
      "  warn('%s is a low contrast image' % fname)\n"
     ]
    },
    {
     "name": "stdout",
     "output_type": "stream",
     "text": [
      "2958.0 1126.0\n",
      "6249.0 4380.0\n",
      "7020.0 5324.0\n"
     ]
    },
    {
     "name": "stderr",
     "output_type": "stream",
     "text": [
      "/export/scratch1/home/arkadiy/.local/lib/python2.7/site-packages/skimage/io/_io.py:140: UserWarning: ../data/segmentations_with_erosion_try2/Case30_segmentation_6.jpg is a low contrast image\n",
      "  warn('%s is a low contrast image' % fname)\n"
     ]
    },
    {
     "name": "stdout",
     "output_type": "stream",
     "text": [
      "8339.0 6772.0\n",
      "9179.0 7209.0\n",
      "10428.0 7706.0\n",
      "11110.0 8947.0\n",
      "10367.0 8576.0\n",
      "9744.0 6447.0\n",
      "10966.0 8191.0\n",
      "4543.0 3252.0\n",
      "1387.0 516.0\n",
      "0.0 0.0\n",
      "0.0 0.0\n"
     ]
    },
    {
     "name": "stderr",
     "output_type": "stream",
     "text": [
      "/export/scratch1/home/arkadiy/.local/lib/python2.7/site-packages/skimage/io/_io.py:140: UserWarning: ../data/segmentations_with_erosion_try2/Case30_segmentation_17.jpg is a low contrast image\n",
      "  warn('%s is a low contrast image' % fname)\n",
      "/export/scratch1/home/arkadiy/.local/lib/python2.7/site-packages/skimage/io/_io.py:140: UserWarning: ../data/segmentations_with_erosion_try2/Case30_segmentation_18.jpg is a low contrast image\n",
      "  warn('%s is a low contrast image' % fname)\n",
      "/export/scratch1/home/arkadiy/.local/lib/python2.7/site-packages/skimage/io/_io.py:140: UserWarning: ../data/segmentations_with_erosion_try2/Case30_segmentation_19.jpg is a low contrast image\n",
      "  warn('%s is a low contrast image' % fname)\n"
     ]
    },
    {
     "name": "stdout",
     "output_type": "stream",
     "text": [
      "0.0 0.0\n",
      "0.0 0.0\n"
     ]
    },
    {
     "name": "stderr",
     "output_type": "stream",
     "text": [
      "/export/scratch1/home/arkadiy/.local/lib/python2.7/site-packages/skimage/io/_io.py:140: UserWarning: ../data/segmentations_with_erosion_try2/Case30_segmentation_20.jpg is a low contrast image\n",
      "  warn('%s is a low contrast image' % fname)\n",
      "/export/scratch1/home/arkadiy/.local/lib/python2.7/site-packages/skimage/io/_io.py:140: UserWarning: ../data/segmentations_with_erosion_try2/Case30_segmentation_21.jpg is a low contrast image\n",
      "  warn('%s is a low contrast image' % fname)\n"
     ]
    },
    {
     "name": "stdout",
     "output_type": "stream",
     "text": [
      "0.0 0.0\n",
      "Case31.mhd (23, 512, 512)\n"
     ]
    },
    {
     "name": "stderr",
     "output_type": "stream",
     "text": [
      "/export/scratch1/home/arkadiy/.local/lib/python2.7/site-packages/skimage/io/_io.py:140: UserWarning: ../data/segmentations_with_erosion_try2/Case30_segmentation_22.jpg is a low contrast image\n",
      "  warn('%s is a low contrast image' % fname)\n"
     ]
    },
    {
     "name": "stdout",
     "output_type": "stream",
     "text": [
      "Case31_segmentation.mhd (23, 512, 512)\n",
      "0.0 0.0\n",
      "0.0 0.0\n",
      "0.0 0.0\n",
      "1369.0 911.0\n"
     ]
    },
    {
     "name": "stderr",
     "output_type": "stream",
     "text": [
      "/export/scratch1/home/arkadiy/.local/lib/python2.7/site-packages/skimage/io/_io.py:140: UserWarning: ../data/segmentations_with_erosion_try2/Case31_segmentation_0.jpg is a low contrast image\n",
      "  warn('%s is a low contrast image' % fname)\n",
      "/export/scratch1/home/arkadiy/.local/lib/python2.7/site-packages/skimage/io/_io.py:140: UserWarning: ../data/segmentations_with_erosion_try2/Case31_segmentation_1.jpg is a low contrast image\n",
      "  warn('%s is a low contrast image' % fname)\n",
      "/export/scratch1/home/arkadiy/.local/lib/python2.7/site-packages/skimage/io/_io.py:140: UserWarning: ../data/segmentations_with_erosion_try2/Case31_segmentation_2.jpg is a low contrast image\n",
      "  warn('%s is a low contrast image' % fname)\n",
      "/export/scratch1/home/arkadiy/.local/lib/python2.7/site-packages/skimage/io/_io.py:140: UserWarning: ../data/segmentations_with_erosion_try2/Case31_segmentation_3.jpg is a low contrast image\n",
      "  warn('%s is a low contrast image' % fname)\n"
     ]
    },
    {
     "name": "stdout",
     "output_type": "stream",
     "text": [
      "2602.0 1828.0\n",
      "3813.0 3130.0\n",
      "5704.0 4335.0\n"
     ]
    },
    {
     "name": "stderr",
     "output_type": "stream",
     "text": [
      "/export/scratch1/home/arkadiy/.local/lib/python2.7/site-packages/skimage/io/_io.py:140: UserWarning: ../data/segmentations_with_erosion_try2/Case31_segmentation_4.jpg is a low contrast image\n",
      "  warn('%s is a low contrast image' % fname)\n"
     ]
    },
    {
     "name": "stdout",
     "output_type": "stream",
     "text": [
      "6907.0 3502.0\n",
      "8592.0 7596.0\n",
      "9835.0 7390.0\n",
      "10955.0 8061.0\n",
      "11228.0 9006.0\n",
      "11009.0 8851.0\n",
      "10416.0 7073.0\n",
      "9185.0 7928.0\n",
      "4700.0 3355.0\n",
      "3749.0 2684.0\n",
      "3151.0 1963.0\n",
      "1836.0 1028.0\n",
      "742.0 413.0\n",
      "0.0 0.0\n",
      "0.0 0.0\n"
     ]
    },
    {
     "name": "stderr",
     "output_type": "stream",
     "text": [
      "/export/scratch1/home/arkadiy/.local/lib/python2.7/site-packages/skimage/io/_io.py:140: UserWarning: ../data/segmentations_with_erosion_try2/Case31_segmentation_17.jpg is a low contrast image\n",
      "  warn('%s is a low contrast image' % fname)\n",
      "/export/scratch1/home/arkadiy/.local/lib/python2.7/site-packages/skimage/io/_io.py:140: UserWarning: ../data/segmentations_with_erosion_try2/Case31_segmentation_18.jpg is a low contrast image\n",
      "  warn('%s is a low contrast image' % fname)\n",
      "/export/scratch1/home/arkadiy/.local/lib/python2.7/site-packages/skimage/io/_io.py:140: UserWarning: ../data/segmentations_with_erosion_try2/Case31_segmentation_19.jpg is a low contrast image\n",
      "  warn('%s is a low contrast image' % fname)\n",
      "/export/scratch1/home/arkadiy/.local/lib/python2.7/site-packages/skimage/io/_io.py:140: UserWarning: ../data/segmentations_with_erosion_try2/Case31_segmentation_20.jpg is a low contrast image\n",
      "  warn('%s is a low contrast image' % fname)\n",
      "/export/scratch1/home/arkadiy/.local/lib/python2.7/site-packages/skimage/io/_io.py:140: UserWarning: ../data/segmentations_with_erosion_try2/Case31_segmentation_21.jpg is a low contrast image\n",
      "  warn('%s is a low contrast image' % fname)\n"
     ]
    },
    {
     "name": "stdout",
     "output_type": "stream",
     "text": [
      "0.0 0.0\n",
      "Case32.mhd (23, 512, 512)\n"
     ]
    },
    {
     "name": "stderr",
     "output_type": "stream",
     "text": [
      "/export/scratch1/home/arkadiy/.local/lib/python2.7/site-packages/skimage/io/_io.py:140: UserWarning: ../data/segmentations_with_erosion_try2/Case31_segmentation_22.jpg is a low contrast image\n",
      "  warn('%s is a low contrast image' % fname)\n"
     ]
    },
    {
     "name": "stdout",
     "output_type": "stream",
     "text": [
      "Case32_segmentation.mhd (23, 512, 512)\n",
      "0.0 0.0\n"
     ]
    },
    {
     "name": "stderr",
     "output_type": "stream",
     "text": [
      "/export/scratch1/home/arkadiy/.local/lib/python2.7/site-packages/skimage/io/_io.py:140: UserWarning: ../data/segmentations_with_erosion_try2/Case32_segmentation_0.jpg is a low contrast image\n",
      "  warn('%s is a low contrast image' % fname)\n",
      "/export/scratch1/home/arkadiy/.local/lib/python2.7/site-packages/skimage/io/_io.py:140: UserWarning: ../data/segmentations_with_erosion_try2/Case32_segmentation_1.jpg is a low contrast image\n",
      "  warn('%s is a low contrast image' % fname)\n"
     ]
    },
    {
     "name": "stdout",
     "output_type": "stream",
     "text": [
      "0.0 0.0\n",
      "0.0 0.0\n",
      "0.0 0.0\n",
      "0.0 0.0\n"
     ]
    },
    {
     "name": "stderr",
     "output_type": "stream",
     "text": [
      "/export/scratch1/home/arkadiy/.local/lib/python2.7/site-packages/skimage/io/_io.py:140: UserWarning: ../data/segmentations_with_erosion_try2/Case32_segmentation_2.jpg is a low contrast image\n",
      "  warn('%s is a low contrast image' % fname)\n",
      "/export/scratch1/home/arkadiy/.local/lib/python2.7/site-packages/skimage/io/_io.py:140: UserWarning: ../data/segmentations_with_erosion_try2/Case32_segmentation_3.jpg is a low contrast image\n",
      "  warn('%s is a low contrast image' % fname)\n",
      "/export/scratch1/home/arkadiy/.local/lib/python2.7/site-packages/skimage/io/_io.py:140: UserWarning: ../data/segmentations_with_erosion_try2/Case32_segmentation_4.jpg is a low contrast image\n",
      "  warn('%s is a low contrast image' % fname)\n",
      "/export/scratch1/home/arkadiy/.local/lib/python2.7/site-packages/skimage/io/_io.py:140: UserWarning: ../data/segmentations_with_erosion_try2/Case32_segmentation_5.jpg is a low contrast image\n",
      "  warn('%s is a low contrast image' % fname)\n",
      "/export/scratch1/home/arkadiy/.local/lib/python2.7/site-packages/skimage/io/_io.py:140: UserWarning: ../data/segmentations_with_erosion_try2/Case32_segmentation_6.jpg is a low contrast image\n",
      "  warn('%s is a low contrast image' % fname)\n"
     ]
    },
    {
     "name": "stdout",
     "output_type": "stream",
     "text": [
      "0.0 0.0\n",
      "2670.0 1798.0\n",
      "4790.0 3071.0\n",
      "5966.0 3822.0\n",
      "5817.0 3740.0\n",
      "6474.0 3788.0\n",
      "6258.0 4841.0\n",
      "6475.0 4753.0\n",
      "5850.0 3998.0\n",
      "5968.0 3814.0\n",
      "3771.0 2879.0\n",
      "3553.0 2110.0\n",
      "0.0 0.0\n"
     ]
    },
    {
     "name": "stderr",
     "output_type": "stream",
     "text": [
      "/export/scratch1/home/arkadiy/.local/lib/python2.7/site-packages/skimage/io/_io.py:140: UserWarning: ../data/segmentations_with_erosion_try2/Case32_segmentation_16.jpg is a low contrast image\n",
      "  warn('%s is a low contrast image' % fname)\n",
      "/export/scratch1/home/arkadiy/.local/lib/python2.7/site-packages/skimage/io/_io.py:140: UserWarning: ../data/segmentations_with_erosion_try2/Case32_segmentation_17.jpg is a low contrast image\n",
      "  warn('%s is a low contrast image' % fname)\n"
     ]
    },
    {
     "name": "stdout",
     "output_type": "stream",
     "text": [
      "0.0 0.0\n",
      "0.0 0.0\n",
      "0.0 0.0\n",
      "0.0 0.0\n",
      "0.0 0.0\n"
     ]
    },
    {
     "name": "stderr",
     "output_type": "stream",
     "text": [
      "/export/scratch1/home/arkadiy/.local/lib/python2.7/site-packages/skimage/io/_io.py:140: UserWarning: ../data/segmentations_with_erosion_try2/Case32_segmentation_18.jpg is a low contrast image\n",
      "  warn('%s is a low contrast image' % fname)\n",
      "/export/scratch1/home/arkadiy/.local/lib/python2.7/site-packages/skimage/io/_io.py:140: UserWarning: ../data/segmentations_with_erosion_try2/Case32_segmentation_19.jpg is a low contrast image\n",
      "  warn('%s is a low contrast image' % fname)\n",
      "/export/scratch1/home/arkadiy/.local/lib/python2.7/site-packages/skimage/io/_io.py:140: UserWarning: ../data/segmentations_with_erosion_try2/Case32_segmentation_20.jpg is a low contrast image\n",
      "  warn('%s is a low contrast image' % fname)\n",
      "/export/scratch1/home/arkadiy/.local/lib/python2.7/site-packages/skimage/io/_io.py:140: UserWarning: ../data/segmentations_with_erosion_try2/Case32_segmentation_21.jpg is a low contrast image\n",
      "  warn('%s is a low contrast image' % fname)\n",
      "/export/scratch1/home/arkadiy/.local/lib/python2.7/site-packages/skimage/io/_io.py:140: UserWarning: ../data/segmentations_with_erosion_try2/Case32_segmentation_22.jpg is a low contrast image\n",
      "  warn('%s is a low contrast image' % fname)\n"
     ]
    },
    {
     "name": "stdout",
     "output_type": "stream",
     "text": [
      "Case33.mhd (23, 512, 512)\n",
      "Case33_segmentation.mhd (23, 512, 512)\n",
      "0.0 0.0\n",
      "0.0 0.0\n"
     ]
    },
    {
     "name": "stderr",
     "output_type": "stream",
     "text": [
      "/export/scratch1/home/arkadiy/.local/lib/python2.7/site-packages/skimage/io/_io.py:140: UserWarning: ../data/segmentations_with_erosion_try2/Case33_segmentation_0.jpg is a low contrast image\n",
      "  warn('%s is a low contrast image' % fname)\n",
      "/export/scratch1/home/arkadiy/.local/lib/python2.7/site-packages/skimage/io/_io.py:140: UserWarning: ../data/segmentations_with_erosion_try2/Case33_segmentation_1.jpg is a low contrast image\n",
      "  warn('%s is a low contrast image' % fname)\n",
      "/export/scratch1/home/arkadiy/.local/lib/python2.7/site-packages/skimage/io/_io.py:140: UserWarning: ../data/segmentations_with_erosion_try2/Case33_segmentation_2.jpg is a low contrast image\n",
      "  warn('%s is a low contrast image' % fname)\n",
      "/export/scratch1/home/arkadiy/.local/lib/python2.7/site-packages/skimage/io/_io.py:140: UserWarning: ../data/segmentations_with_erosion_try2/Case33_segmentation_3.jpg is a low contrast image\n",
      "  warn('%s is a low contrast image' % fname)\n"
     ]
    },
    {
     "name": "stdout",
     "output_type": "stream",
     "text": [
      "0.0 0.0\n",
      "0.0 0.0\n",
      "0.0 0.0\n"
     ]
    },
    {
     "name": "stderr",
     "output_type": "stream",
     "text": [
      "/export/scratch1/home/arkadiy/.local/lib/python2.7/site-packages/skimage/io/_io.py:140: UserWarning: ../data/segmentations_with_erosion_try2/Case33_segmentation_4.jpg is a low contrast image\n",
      "  warn('%s is a low contrast image' % fname)\n",
      "/export/scratch1/home/arkadiy/.local/lib/python2.7/site-packages/skimage/io/_io.py:140: UserWarning: ../data/segmentations_with_erosion_try2/Case33_segmentation_5.jpg is a low contrast image\n",
      "  warn('%s is a low contrast image' % fname)\n",
      "/export/scratch1/home/arkadiy/.local/lib/python2.7/site-packages/skimage/io/_io.py:140: UserWarning: ../data/segmentations_with_erosion_try2/Case33_segmentation_6.jpg is a low contrast image\n",
      "  warn('%s is a low contrast image' % fname)\n"
     ]
    },
    {
     "name": "stdout",
     "output_type": "stream",
     "text": [
      "2206.0 1085.0\n",
      "3110.0 2058.0\n",
      "4634.0 3084.0\n",
      "8681.0 5812.0\n",
      "9962.0 7592.0\n",
      "10642.0 8137.0\n",
      "11162.0 7920.0\n",
      "11527.0 9278.0\n",
      "11915.0 8527.0\n",
      "10294.0 8906.0\n",
      "6389.0 4054.0\n",
      "4511.0 3496.0\n",
      "3235.0 2052.0\n",
      "0.0 0.0\n"
     ]
    },
    {
     "name": "stderr",
     "output_type": "stream",
     "text": [
      "/export/scratch1/home/arkadiy/.local/lib/python2.7/site-packages/skimage/io/_io.py:140: UserWarning: ../data/segmentations_with_erosion_try2/Case33_segmentation_17.jpg is a low contrast image\n",
      "  warn('%s is a low contrast image' % fname)\n",
      "/export/scratch1/home/arkadiy/.local/lib/python2.7/site-packages/skimage/io/_io.py:140: UserWarning: ../data/segmentations_with_erosion_try2/Case33_segmentation_18.jpg is a low contrast image\n",
      "  warn('%s is a low contrast image' % fname)\n"
     ]
    },
    {
     "name": "stdout",
     "output_type": "stream",
     "text": [
      "0.0 0.0\n",
      "0.0 0.0\n"
     ]
    },
    {
     "name": "stderr",
     "output_type": "stream",
     "text": [
      "/export/scratch1/home/arkadiy/.local/lib/python2.7/site-packages/skimage/io/_io.py:140: UserWarning: ../data/segmentations_with_erosion_try2/Case33_segmentation_19.jpg is a low contrast image\n",
      "  warn('%s is a low contrast image' % fname)\n",
      "/export/scratch1/home/arkadiy/.local/lib/python2.7/site-packages/skimage/io/_io.py:140: UserWarning: ../data/segmentations_with_erosion_try2/Case33_segmentation_20.jpg is a low contrast image\n",
      "  warn('%s is a low contrast image' % fname)\n"
     ]
    },
    {
     "name": "stdout",
     "output_type": "stream",
     "text": [
      "0.0 0.0\n",
      "0.0 0.0\n",
      "Case34.mhd (28, 384, 384)\n"
     ]
    },
    {
     "name": "stderr",
     "output_type": "stream",
     "text": [
      "/export/scratch1/home/arkadiy/.local/lib/python2.7/site-packages/skimage/io/_io.py:140: UserWarning: ../data/segmentations_with_erosion_try2/Case33_segmentation_21.jpg is a low contrast image\n",
      "  warn('%s is a low contrast image' % fname)\n",
      "/export/scratch1/home/arkadiy/.local/lib/python2.7/site-packages/skimage/io/_io.py:140: UserWarning: ../data/segmentations_with_erosion_try2/Case33_segmentation_22.jpg is a low contrast image\n",
      "  warn('%s is a low contrast image' % fname)\n"
     ]
    },
    {
     "name": "stdout",
     "output_type": "stream",
     "text": [
      "Case34_segmentation.mhd (28, 384, 384)\n",
      "0.0 0.0\n",
      "0.0 0.0\n",
      "0.0 0.0\n",
      "0.0 0.0\n",
      "0.0 0.0\n",
      "0.0 0.0\n"
     ]
    },
    {
     "name": "stderr",
     "output_type": "stream",
     "text": [
      "/export/scratch1/home/arkadiy/.local/lib/python2.7/site-packages/skimage/io/_io.py:140: UserWarning: ../data/segmentations_with_erosion_try2/Case34_segmentation_0.jpg is a low contrast image\n",
      "  warn('%s is a low contrast image' % fname)\n",
      "/export/scratch1/home/arkadiy/.local/lib/python2.7/site-packages/skimage/io/_io.py:140: UserWarning: ../data/segmentations_with_erosion_try2/Case34_segmentation_1.jpg is a low contrast image\n",
      "  warn('%s is a low contrast image' % fname)\n",
      "/export/scratch1/home/arkadiy/.local/lib/python2.7/site-packages/skimage/io/_io.py:140: UserWarning: ../data/segmentations_with_erosion_try2/Case34_segmentation_2.jpg is a low contrast image\n",
      "  warn('%s is a low contrast image' % fname)\n",
      "/export/scratch1/home/arkadiy/.local/lib/python2.7/site-packages/skimage/io/_io.py:140: UserWarning: ../data/segmentations_with_erosion_try2/Case34_segmentation_3.jpg is a low contrast image\n",
      "  warn('%s is a low contrast image' % fname)\n",
      "/export/scratch1/home/arkadiy/.local/lib/python2.7/site-packages/skimage/io/_io.py:140: UserWarning: ../data/segmentations_with_erosion_try2/Case34_segmentation_4.jpg is a low contrast image\n",
      "  warn('%s is a low contrast image' % fname)\n",
      "/export/scratch1/home/arkadiy/.local/lib/python2.7/site-packages/skimage/io/_io.py:140: UserWarning: ../data/segmentations_with_erosion_try2/Case34_segmentation_5.jpg is a low contrast image\n",
      "  warn('%s is a low contrast image' % fname)\n"
     ]
    },
    {
     "name": "stdout",
     "output_type": "stream",
     "text": [
      "994.0 175.0\n",
      "1570.0 761.0\n",
      "2648.0 1635.0\n",
      "3552.0 2224.0\n"
     ]
    },
    {
     "name": "stderr",
     "output_type": "stream",
     "text": [
      "/export/scratch1/home/arkadiy/.local/lib/python2.7/site-packages/skimage/io/_io.py:140: UserWarning: ../data/segmentations_with_erosion_try2/Case34_segmentation_6.jpg is a low contrast image\n",
      "  warn('%s is a low contrast image' % fname)\n",
      "/export/scratch1/home/arkadiy/.local/lib/python2.7/site-packages/skimage/io/_io.py:140: UserWarning: ../data/segmentations_with_erosion_try2/Case34_segmentation_7.jpg is a low contrast image\n",
      "  warn('%s is a low contrast image' % fname)\n"
     ]
    },
    {
     "name": "stdout",
     "output_type": "stream",
     "text": [
      "4877.0 3016.0\n",
      "5763.0 4434.0\n",
      "5733.0 3467.0\n",
      "6021.0 3981.0\n",
      "5497.0 3812.0\n",
      "4642.0 2709.0\n",
      "1051.0 473.0\n",
      "0.0 0.0\n",
      "0.0 0.0\n"
     ]
    },
    {
     "name": "stderr",
     "output_type": "stream",
     "text": [
      "/export/scratch1/home/arkadiy/.local/lib/python2.7/site-packages/skimage/io/_io.py:140: UserWarning: ../data/segmentations_with_erosion_try2/Case34_segmentation_16.jpg is a low contrast image\n",
      "  warn('%s is a low contrast image' % fname)\n",
      "/export/scratch1/home/arkadiy/.local/lib/python2.7/site-packages/skimage/io/_io.py:140: UserWarning: ../data/segmentations_with_erosion_try2/Case34_segmentation_17.jpg is a low contrast image\n",
      "  warn('%s is a low contrast image' % fname)\n",
      "/export/scratch1/home/arkadiy/.local/lib/python2.7/site-packages/skimage/io/_io.py:140: UserWarning: ../data/segmentations_with_erosion_try2/Case34_segmentation_18.jpg is a low contrast image\n",
      "  warn('%s is a low contrast image' % fname)\n",
      "/export/scratch1/home/arkadiy/.local/lib/python2.7/site-packages/skimage/io/_io.py:140: UserWarning: ../data/segmentations_with_erosion_try2/Case34_segmentation_19.jpg is a low contrast image\n",
      "  warn('%s is a low contrast image' % fname)\n",
      "/export/scratch1/home/arkadiy/.local/lib/python2.7/site-packages/skimage/io/_io.py:140: UserWarning: ../data/segmentations_with_erosion_try2/Case34_segmentation_20.jpg is a low contrast image\n",
      "  warn('%s is a low contrast image' % fname)\n"
     ]
    },
    {
     "name": "stdout",
     "output_type": "stream",
     "text": [
      "0.0 0.0\n",
      "0.0 0.0\n",
      "0.0 0.0\n",
      "0.0 0.0\n"
     ]
    },
    {
     "name": "stderr",
     "output_type": "stream",
     "text": [
      "/export/scratch1/home/arkadiy/.local/lib/python2.7/site-packages/skimage/io/_io.py:140: UserWarning: ../data/segmentations_with_erosion_try2/Case34_segmentation_21.jpg is a low contrast image\n",
      "  warn('%s is a low contrast image' % fname)\n",
      "/export/scratch1/home/arkadiy/.local/lib/python2.7/site-packages/skimage/io/_io.py:140: UserWarning: ../data/segmentations_with_erosion_try2/Case34_segmentation_22.jpg is a low contrast image\n",
      "  warn('%s is a low contrast image' % fname)\n",
      "/export/scratch1/home/arkadiy/.local/lib/python2.7/site-packages/skimage/io/_io.py:140: UserWarning: ../data/segmentations_with_erosion_try2/Case34_segmentation_23.jpg is a low contrast image\n",
      "  warn('%s is a low contrast image' % fname)\n"
     ]
    },
    {
     "name": "stdout",
     "output_type": "stream",
     "text": [
      "0.0 0.0\n",
      "0.0 0.0\n"
     ]
    },
    {
     "name": "stderr",
     "output_type": "stream",
     "text": [
      "/export/scratch1/home/arkadiy/.local/lib/python2.7/site-packages/skimage/io/_io.py:140: UserWarning: ../data/segmentations_with_erosion_try2/Case34_segmentation_24.jpg is a low contrast image\n",
      "  warn('%s is a low contrast image' % fname)\n",
      "/export/scratch1/home/arkadiy/.local/lib/python2.7/site-packages/skimage/io/_io.py:140: UserWarning: ../data/segmentations_with_erosion_try2/Case34_segmentation_25.jpg is a low contrast image\n",
      "  warn('%s is a low contrast image' % fname)\n",
      "/export/scratch1/home/arkadiy/.local/lib/python2.7/site-packages/skimage/io/_io.py:140: UserWarning: ../data/segmentations_with_erosion_try2/Case34_segmentation_26.jpg is a low contrast image\n",
      "  warn('%s is a low contrast image' % fname)\n",
      "/export/scratch1/home/arkadiy/.local/lib/python2.7/site-packages/skimage/io/_io.py:140: UserWarning: ../data/segmentations_with_erosion_try2/Case34_segmentation_27.jpg is a low contrast image\n",
      "  warn('%s is a low contrast image' % fname)\n"
     ]
    },
    {
     "name": "stdout",
     "output_type": "stream",
     "text": [
      "0.0 0.0\n",
      "0.0 0.0\n",
      "0.0 0.0\n",
      "Case35.mhd (23, 256, 256)\n",
      "Case35_segmentation.mhd (23, 256, 256)\n",
      "0.0 0.0\n",
      "0.0 0.0\n",
      "0.0 0.0\n",
      "0.0 0.0\n",
      "0.0 0.0\n",
      "622.0 163.0\n",
      "855.0 338.0\n",
      "1425.0 774.0\n"
     ]
    },
    {
     "name": "stderr",
     "output_type": "stream",
     "text": [
      "/export/scratch1/home/arkadiy/.local/lib/python2.7/site-packages/skimage/io/_io.py:140: UserWarning: ../data/segmentations_with_erosion_try2/Case35_segmentation_0.jpg is a low contrast image\n",
      "  warn('%s is a low contrast image' % fname)\n",
      "/export/scratch1/home/arkadiy/.local/lib/python2.7/site-packages/skimage/io/_io.py:140: UserWarning: ../data/segmentations_with_erosion_try2/Case35_segmentation_1.jpg is a low contrast image\n",
      "  warn('%s is a low contrast image' % fname)\n",
      "/export/scratch1/home/arkadiy/.local/lib/python2.7/site-packages/skimage/io/_io.py:140: UserWarning: ../data/segmentations_with_erosion_try2/Case35_segmentation_2.jpg is a low contrast image\n",
      "  warn('%s is a low contrast image' % fname)\n",
      "/export/scratch1/home/arkadiy/.local/lib/python2.7/site-packages/skimage/io/_io.py:140: UserWarning: ../data/segmentations_with_erosion_try2/Case35_segmentation_3.jpg is a low contrast image\n",
      "  warn('%s is a low contrast image' % fname)\n",
      "/export/scratch1/home/arkadiy/.local/lib/python2.7/site-packages/skimage/io/_io.py:140: UserWarning: ../data/segmentations_with_erosion_try2/Case35_segmentation_4.jpg is a low contrast image\n",
      "  warn('%s is a low contrast image' % fname)\n",
      "/export/scratch1/home/arkadiy/.local/lib/python2.7/site-packages/skimage/io/_io.py:140: UserWarning: ../data/segmentations_with_erosion_try2/Case35_segmentation_5.jpg is a low contrast image\n",
      "  warn('%s is a low contrast image' % fname)\n",
      "/export/scratch1/home/arkadiy/.local/lib/python2.7/site-packages/skimage/io/_io.py:140: UserWarning: ../data/segmentations_with_erosion_try2/Case35_segmentation_6.jpg is a low contrast image\n",
      "  warn('%s is a low contrast image' % fname)\n",
      "/export/scratch1/home/arkadiy/.local/lib/python2.7/site-packages/skimage/io/_io.py:140: UserWarning: ../data/segmentations_with_erosion_try2/Case35_segmentation_8.jpg is a low contrast image\n",
      "  warn('%s is a low contrast image' % fname)\n"
     ]
    },
    {
     "name": "stdout",
     "output_type": "stream",
     "text": [
      "1656.0 653.0\n",
      "1877.0 934.0\n",
      "2045.0 1158.0\n",
      "2155.0 1389.0\n",
      "2215.0 804.0\n",
      "2160.0 1383.0\n",
      "2184.0 876.0\n",
      "887.0 306.0\n",
      "964.0 406.0\n"
     ]
    },
    {
     "name": "stderr",
     "output_type": "stream",
     "text": [
      "/export/scratch1/home/arkadiy/.local/lib/python2.7/site-packages/skimage/io/_io.py:140: UserWarning: ../data/segmentations_with_erosion_try2/Case35_segmentation_15.jpg is a low contrast image\n",
      "  warn('%s is a low contrast image' % fname)\n",
      "/export/scratch1/home/arkadiy/.local/lib/python2.7/site-packages/skimage/io/_io.py:140: UserWarning: ../data/segmentations_with_erosion_try2/Case35_segmentation_16.jpg is a low contrast image\n",
      "  warn('%s is a low contrast image' % fname)\n",
      "/export/scratch1/home/arkadiy/.local/lib/python2.7/site-packages/skimage/io/_io.py:140: UserWarning: ../data/segmentations_with_erosion_try2/Case35_segmentation_17.jpg is a low contrast image\n",
      "  warn('%s is a low contrast image' % fname)\n",
      "/export/scratch1/home/arkadiy/.local/lib/python2.7/site-packages/skimage/io/_io.py:140: UserWarning: ../data/segmentations_with_erosion_try2/Case35_segmentation_18.jpg is a low contrast image\n",
      "  warn('%s is a low contrast image' % fname)\n",
      "/export/scratch1/home/arkadiy/.local/lib/python2.7/site-packages/skimage/io/_io.py:140: UserWarning: ../data/segmentations_with_erosion_try2/Case35_segmentation_19.jpg is a low contrast image\n",
      "  warn('%s is a low contrast image' % fname)\n",
      "/export/scratch1/home/arkadiy/.local/lib/python2.7/site-packages/skimage/io/_io.py:140: UserWarning: ../data/segmentations_with_erosion_try2/Case35_segmentation_20.jpg is a low contrast image\n",
      "  warn('%s is a low contrast image' % fname)\n",
      "/export/scratch1/home/arkadiy/.local/lib/python2.7/site-packages/skimage/io/_io.py:140: UserWarning: ../data/segmentations_with_erosion_try2/Case35_segmentation_21.jpg is a low contrast image\n",
      "  warn('%s is a low contrast image' % fname)\n",
      "/export/scratch1/home/arkadiy/.local/lib/python2.7/site-packages/skimage/io/_io.py:140: UserWarning: ../data/segmentations_with_erosion_try2/Case35_segmentation_22.jpg is a low contrast image\n",
      "  warn('%s is a low contrast image' % fname)\n"
     ]
    },
    {
     "name": "stdout",
     "output_type": "stream",
     "text": [
      "255.0 10.0\n",
      "142.0 0.0\n",
      "0.0 0.0\n",
      "0.0 0.0\n",
      "0.0 0.0\n",
      "0.0 0.0\n",
      "Case36.mhd (26, 512, 512)\n",
      "Case36_segmentation.mhd (26, 512, 512)\n",
      "0.0 0.0\n",
      "0.0 0.0\n"
     ]
    },
    {
     "name": "stderr",
     "output_type": "stream",
     "text": [
      "/export/scratch1/home/arkadiy/.local/lib/python2.7/site-packages/skimage/io/_io.py:140: UserWarning: ../data/segmentations_with_erosion_try2/Case36_segmentation_0.jpg is a low contrast image\n",
      "  warn('%s is a low contrast image' % fname)\n",
      "/export/scratch1/home/arkadiy/.local/lib/python2.7/site-packages/skimage/io/_io.py:140: UserWarning: ../data/segmentations_with_erosion_try2/Case36_segmentation_1.jpg is a low contrast image\n",
      "  warn('%s is a low contrast image' % fname)\n",
      "/export/scratch1/home/arkadiy/.local/lib/python2.7/site-packages/skimage/io/_io.py:140: UserWarning: ../data/segmentations_with_erosion_try2/Case36_segmentation_2.jpg is a low contrast image\n",
      "  warn('%s is a low contrast image' % fname)\n"
     ]
    },
    {
     "name": "stdout",
     "output_type": "stream",
     "text": [
      "0.0 0.0\n",
      "0.0 0.0\n",
      "2028.0 1298.0\n"
     ]
    },
    {
     "name": "stderr",
     "output_type": "stream",
     "text": [
      "/export/scratch1/home/arkadiy/.local/lib/python2.7/site-packages/skimage/io/_io.py:140: UserWarning: ../data/segmentations_with_erosion_try2/Case36_segmentation_3.jpg is a low contrast image\n",
      "  warn('%s is a low contrast image' % fname)\n",
      "/export/scratch1/home/arkadiy/.local/lib/python2.7/site-packages/skimage/io/_io.py:140: UserWarning: ../data/segmentations_with_erosion_try2/Case36_segmentation_4.jpg is a low contrast image\n",
      "  warn('%s is a low contrast image' % fname)\n",
      "/export/scratch1/home/arkadiy/.local/lib/python2.7/site-packages/skimage/io/_io.py:140: UserWarning: ../data/segmentations_with_erosion_try2/Case36_segmentation_5.jpg is a low contrast image\n",
      "  warn('%s is a low contrast image' % fname)\n",
      "/export/scratch1/home/arkadiy/.local/lib/python2.7/site-packages/skimage/io/_io.py:140: UserWarning: ../data/segmentations_with_erosion_try2/Case36_segmentation_6.jpg is a low contrast image\n",
      "  warn('%s is a low contrast image' % fname)\n"
     ]
    },
    {
     "name": "stdout",
     "output_type": "stream",
     "text": [
      "2938.0 1719.0\n",
      "3633.0 2575.0\n",
      "6050.0 4383.0\n",
      "6245.0 3854.0\n",
      "7200.0 4908.0\n",
      "7713.0 5856.0\n",
      "8345.0 6115.0\n",
      "8102.0 5277.0\n",
      "8138.0 5638.0\n",
      "7782.0 4976.0\n",
      "4137.0 2758.0\n",
      "0.0 0.0\n",
      "0.0 0.0\n"
     ]
    },
    {
     "name": "stderr",
     "output_type": "stream",
     "text": [
      "/export/scratch1/home/arkadiy/.local/lib/python2.7/site-packages/skimage/io/_io.py:140: UserWarning: ../data/segmentations_with_erosion_try2/Case36_segmentation_16.jpg is a low contrast image\n",
      "  warn('%s is a low contrast image' % fname)\n",
      "/export/scratch1/home/arkadiy/.local/lib/python2.7/site-packages/skimage/io/_io.py:140: UserWarning: ../data/segmentations_with_erosion_try2/Case36_segmentation_17.jpg is a low contrast image\n",
      "  warn('%s is a low contrast image' % fname)\n",
      "/export/scratch1/home/arkadiy/.local/lib/python2.7/site-packages/skimage/io/_io.py:140: UserWarning: ../data/segmentations_with_erosion_try2/Case36_segmentation_18.jpg is a low contrast image\n",
      "  warn('%s is a low contrast image' % fname)\n"
     ]
    },
    {
     "name": "stdout",
     "output_type": "stream",
     "text": [
      "0.0 0.0\n",
      "0.0 0.0\n",
      "0.0 0.0\n",
      "0.0 0.0\n"
     ]
    },
    {
     "name": "stderr",
     "output_type": "stream",
     "text": [
      "/export/scratch1/home/arkadiy/.local/lib/python2.7/site-packages/skimage/io/_io.py:140: UserWarning: ../data/segmentations_with_erosion_try2/Case36_segmentation_19.jpg is a low contrast image\n",
      "  warn('%s is a low contrast image' % fname)\n",
      "/export/scratch1/home/arkadiy/.local/lib/python2.7/site-packages/skimage/io/_io.py:140: UserWarning: ../data/segmentations_with_erosion_try2/Case36_segmentation_20.jpg is a low contrast image\n",
      "  warn('%s is a low contrast image' % fname)\n",
      "/export/scratch1/home/arkadiy/.local/lib/python2.7/site-packages/skimage/io/_io.py:140: UserWarning: ../data/segmentations_with_erosion_try2/Case36_segmentation_21.jpg is a low contrast image\n",
      "  warn('%s is a low contrast image' % fname)\n"
     ]
    },
    {
     "name": "stdout",
     "output_type": "stream",
     "text": [
      "0.0 0.0\n",
      "0.0 0.0\n",
      "0.0 0.0\n",
      "0.0 0.0\n",
      "Case37.mhd (28, 320, 320)\n"
     ]
    },
    {
     "name": "stderr",
     "output_type": "stream",
     "text": [
      "/export/scratch1/home/arkadiy/.local/lib/python2.7/site-packages/skimage/io/_io.py:140: UserWarning: ../data/segmentations_with_erosion_try2/Case36_segmentation_22.jpg is a low contrast image\n",
      "  warn('%s is a low contrast image' % fname)\n",
      "/export/scratch1/home/arkadiy/.local/lib/python2.7/site-packages/skimage/io/_io.py:140: UserWarning: ../data/segmentations_with_erosion_try2/Case36_segmentation_23.jpg is a low contrast image\n",
      "  warn('%s is a low contrast image' % fname)\n",
      "/export/scratch1/home/arkadiy/.local/lib/python2.7/site-packages/skimage/io/_io.py:140: UserWarning: ../data/segmentations_with_erosion_try2/Case36_segmentation_24.jpg is a low contrast image\n",
      "  warn('%s is a low contrast image' % fname)\n",
      "/export/scratch1/home/arkadiy/.local/lib/python2.7/site-packages/skimage/io/_io.py:140: UserWarning: ../data/segmentations_with_erosion_try2/Case36_segmentation_25.jpg is a low contrast image\n",
      "  warn('%s is a low contrast image' % fname)\n"
     ]
    },
    {
     "name": "stdout",
     "output_type": "stream",
     "text": [
      "Case37_segmentation.mhd (28, 320, 320)\n",
      "0.0 0.0\n",
      "0.0 0.0\n",
      "0.0 0.0\n",
      "0.0 0.0\n",
      "0.0 0.0\n",
      "1106.0 522.0\n"
     ]
    },
    {
     "name": "stderr",
     "output_type": "stream",
     "text": [
      "/export/scratch1/home/arkadiy/.local/lib/python2.7/site-packages/skimage/io/_io.py:140: UserWarning: ../data/segmentations_with_erosion_try2/Case37_segmentation_0.jpg is a low contrast image\n",
      "  warn('%s is a low contrast image' % fname)\n",
      "/export/scratch1/home/arkadiy/.local/lib/python2.7/site-packages/skimage/io/_io.py:140: UserWarning: ../data/segmentations_with_erosion_try2/Case37_segmentation_1.jpg is a low contrast image\n",
      "  warn('%s is a low contrast image' % fname)\n",
      "/export/scratch1/home/arkadiy/.local/lib/python2.7/site-packages/skimage/io/_io.py:140: UserWarning: ../data/segmentations_with_erosion_try2/Case37_segmentation_2.jpg is a low contrast image\n",
      "  warn('%s is a low contrast image' % fname)\n",
      "/export/scratch1/home/arkadiy/.local/lib/python2.7/site-packages/skimage/io/_io.py:140: UserWarning: ../data/segmentations_with_erosion_try2/Case37_segmentation_3.jpg is a low contrast image\n",
      "  warn('%s is a low contrast image' % fname)\n",
      "/export/scratch1/home/arkadiy/.local/lib/python2.7/site-packages/skimage/io/_io.py:140: UserWarning: ../data/segmentations_with_erosion_try2/Case37_segmentation_4.jpg is a low contrast image\n",
      "  warn('%s is a low contrast image' % fname)\n",
      "/export/scratch1/home/arkadiy/.local/lib/python2.7/site-packages/skimage/io/_io.py:140: UserWarning: ../data/segmentations_with_erosion_try2/Case37_segmentation_5.jpg is a low contrast image\n",
      "  warn('%s is a low contrast image' % fname)\n"
     ]
    },
    {
     "name": "stdout",
     "output_type": "stream",
     "text": [
      "1877.0 1103.0\n",
      "2140.0 1093.0\n",
      "2173.0 1104.0\n",
      "2696.0 1518.0\n",
      "2884.0 1982.0\n",
      "3137.0 2035.0\n",
      "3423.0 2427.0\n",
      "3646.0 2262.0\n",
      "3625.0 2268.0\n",
      "3137.0 2762.0\n",
      "2978.0 2267.0\n",
      "2283.0 1052.0\n",
      "0.0 0.0\n",
      "0.0 0.0\n",
      "0.0 0.0\n"
     ]
    },
    {
     "name": "stderr",
     "output_type": "stream",
     "text": [
      "/export/scratch1/home/arkadiy/.local/lib/python2.7/site-packages/skimage/io/_io.py:140: UserWarning: ../data/segmentations_with_erosion_try2/Case37_segmentation_18.jpg is a low contrast image\n",
      "  warn('%s is a low contrast image' % fname)\n",
      "/export/scratch1/home/arkadiy/.local/lib/python2.7/site-packages/skimage/io/_io.py:140: UserWarning: ../data/segmentations_with_erosion_try2/Case37_segmentation_19.jpg is a low contrast image\n",
      "  warn('%s is a low contrast image' % fname)\n",
      "/export/scratch1/home/arkadiy/.local/lib/python2.7/site-packages/skimage/io/_io.py:140: UserWarning: ../data/segmentations_with_erosion_try2/Case37_segmentation_20.jpg is a low contrast image\n",
      "  warn('%s is a low contrast image' % fname)\n",
      "/export/scratch1/home/arkadiy/.local/lib/python2.7/site-packages/skimage/io/_io.py:140: UserWarning: ../data/segmentations_with_erosion_try2/Case37_segmentation_21.jpg is a low contrast image\n",
      "  warn('%s is a low contrast image' % fname)\n",
      "/export/scratch1/home/arkadiy/.local/lib/python2.7/site-packages/skimage/io/_io.py:140: UserWarning: ../data/segmentations_with_erosion_try2/Case37_segmentation_22.jpg is a low contrast image\n",
      "  warn('%s is a low contrast image' % fname)\n",
      "/export/scratch1/home/arkadiy/.local/lib/python2.7/site-packages/skimage/io/_io.py:140: UserWarning: ../data/segmentations_with_erosion_try2/Case37_segmentation_23.jpg is a low contrast image\n",
      "  warn('%s is a low contrast image' % fname)\n",
      "/export/scratch1/home/arkadiy/.local/lib/python2.7/site-packages/skimage/io/_io.py:140: UserWarning: ../data/segmentations_with_erosion_try2/Case37_segmentation_24.jpg is a low contrast image\n",
      "  warn('%s is a low contrast image' % fname)\n",
      "/export/scratch1/home/arkadiy/.local/lib/python2.7/site-packages/skimage/io/_io.py:140: UserWarning: ../data/segmentations_with_erosion_try2/Case37_segmentation_25.jpg is a low contrast image\n",
      "  warn('%s is a low contrast image' % fname)\n"
     ]
    },
    {
     "name": "stdout",
     "output_type": "stream",
     "text": [
      "0.0 0.0\n",
      "0.0 0.0\n",
      "0.0 0.0\n",
      "0.0 0.0\n",
      "0.0 0.0\n",
      "0.0 0.0\n",
      "0.0 0.0\n"
     ]
    },
    {
     "name": "stderr",
     "output_type": "stream",
     "text": [
      "/export/scratch1/home/arkadiy/.local/lib/python2.7/site-packages/skimage/io/_io.py:140: UserWarning: ../data/segmentations_with_erosion_try2/Case37_segmentation_26.jpg is a low contrast image\n",
      "  warn('%s is a low contrast image' % fname)\n",
      "/export/scratch1/home/arkadiy/.local/lib/python2.7/site-packages/skimage/io/_io.py:140: UserWarning: ../data/segmentations_with_erosion_try2/Case37_segmentation_27.jpg is a low contrast image\n",
      "  warn('%s is a low contrast image' % fname)\n"
     ]
    },
    {
     "name": "stdout",
     "output_type": "stream",
     "text": [
      "Case38.mhd (24, 320, 320)\n",
      "Case38_segmentation.mhd (24, 320, 320)\n",
      "0.0 0.0\n",
      "0.0 0.0\n",
      "0.0 0.0\n",
      "0.0 0.0\n",
      "0.0 0.0\n",
      "1409.0 704.0\n",
      "1998.0 1028.0\n"
     ]
    },
    {
     "name": "stderr",
     "output_type": "stream",
     "text": [
      "/export/scratch1/home/arkadiy/.local/lib/python2.7/site-packages/skimage/io/_io.py:140: UserWarning: ../data/segmentations_with_erosion_try2/Case38_segmentation_0.jpg is a low contrast image\n",
      "  warn('%s is a low contrast image' % fname)\n",
      "/export/scratch1/home/arkadiy/.local/lib/python2.7/site-packages/skimage/io/_io.py:140: UserWarning: ../data/segmentations_with_erosion_try2/Case38_segmentation_1.jpg is a low contrast image\n",
      "  warn('%s is a low contrast image' % fname)\n",
      "/export/scratch1/home/arkadiy/.local/lib/python2.7/site-packages/skimage/io/_io.py:140: UserWarning: ../data/segmentations_with_erosion_try2/Case38_segmentation_2.jpg is a low contrast image\n",
      "  warn('%s is a low contrast image' % fname)\n",
      "/export/scratch1/home/arkadiy/.local/lib/python2.7/site-packages/skimage/io/_io.py:140: UserWarning: ../data/segmentations_with_erosion_try2/Case38_segmentation_3.jpg is a low contrast image\n",
      "  warn('%s is a low contrast image' % fname)\n",
      "/export/scratch1/home/arkadiy/.local/lib/python2.7/site-packages/skimage/io/_io.py:140: UserWarning: ../data/segmentations_with_erosion_try2/Case38_segmentation_4.jpg is a low contrast image\n",
      "  warn('%s is a low contrast image' % fname)\n",
      "/export/scratch1/home/arkadiy/.local/lib/python2.7/site-packages/skimage/io/_io.py:140: UserWarning: ../data/segmentations_with_erosion_try2/Case38_segmentation_5.jpg is a low contrast image\n",
      "  warn('%s is a low contrast image' % fname)\n"
     ]
    },
    {
     "name": "stdout",
     "output_type": "stream",
     "text": [
      "2880.0 1812.0\n",
      "3532.0 2177.0\n",
      "4030.0 2939.0\n",
      "4776.0 3381.0\n",
      "5215.0 3073.0\n",
      "5486.0 3764.0\n",
      "5975.0 4389.0\n",
      "5916.0 3664.0\n",
      "5464.0 4216.0\n",
      "4706.0 2734.0\n",
      "3633.0 2456.0\n",
      "2563.0 2033.0\n",
      "0.0 0.0\n"
     ]
    },
    {
     "name": "stderr",
     "output_type": "stream",
     "text": [
      "/export/scratch1/home/arkadiy/.local/lib/python2.7/site-packages/skimage/io/_io.py:140: UserWarning: ../data/segmentations_with_erosion_try2/Case38_segmentation_19.jpg is a low contrast image\n",
      "  warn('%s is a low contrast image' % fname)\n",
      "/export/scratch1/home/arkadiy/.local/lib/python2.7/site-packages/skimage/io/_io.py:140: UserWarning: ../data/segmentations_with_erosion_try2/Case38_segmentation_20.jpg is a low contrast image\n",
      "  warn('%s is a low contrast image' % fname)\n",
      "/export/scratch1/home/arkadiy/.local/lib/python2.7/site-packages/skimage/io/_io.py:140: UserWarning: ../data/segmentations_with_erosion_try2/Case38_segmentation_21.jpg is a low contrast image\n",
      "  warn('%s is a low contrast image' % fname)\n",
      "/export/scratch1/home/arkadiy/.local/lib/python2.7/site-packages/skimage/io/_io.py:140: UserWarning: ../data/segmentations_with_erosion_try2/Case38_segmentation_22.jpg is a low contrast image\n",
      "  warn('%s is a low contrast image' % fname)\n",
      "/export/scratch1/home/arkadiy/.local/lib/python2.7/site-packages/skimage/io/_io.py:140: UserWarning: ../data/segmentations_with_erosion_try2/Case38_segmentation_23.jpg is a low contrast image\n",
      "  warn('%s is a low contrast image' % fname)\n"
     ]
    },
    {
     "name": "stdout",
     "output_type": "stream",
     "text": [
      "0.0 0.0\n",
      "0.0 0.0\n",
      "0.0 0.0\n",
      "0.0 0.0\n",
      "Case39.mhd (24, 320, 320)\n",
      "Case39_segmentation.mhd (24, 320, 320)\n",
      "0.0 0.0\n",
      "0.0 0.0\n",
      "0.0 0.0\n",
      "333.0 104.0\n",
      "1021.0 793.0\n",
      "1184.0 201.0\n"
     ]
    },
    {
     "name": "stderr",
     "output_type": "stream",
     "text": [
      "/export/scratch1/home/arkadiy/.local/lib/python2.7/site-packages/skimage/io/_io.py:140: UserWarning: ../data/segmentations_with_erosion_try2/Case39_segmentation_0.jpg is a low contrast image\n",
      "  warn('%s is a low contrast image' % fname)\n",
      "/export/scratch1/home/arkadiy/.local/lib/python2.7/site-packages/skimage/io/_io.py:140: UserWarning: ../data/segmentations_with_erosion_try2/Case39_segmentation_1.jpg is a low contrast image\n",
      "  warn('%s is a low contrast image' % fname)\n",
      "/export/scratch1/home/arkadiy/.local/lib/python2.7/site-packages/skimage/io/_io.py:140: UserWarning: ../data/segmentations_with_erosion_try2/Case39_segmentation_2.jpg is a low contrast image\n",
      "  warn('%s is a low contrast image' % fname)\n",
      "/export/scratch1/home/arkadiy/.local/lib/python2.7/site-packages/skimage/io/_io.py:140: UserWarning: ../data/segmentations_with_erosion_try2/Case39_segmentation_3.jpg is a low contrast image\n",
      "  warn('%s is a low contrast image' % fname)\n",
      "/export/scratch1/home/arkadiy/.local/lib/python2.7/site-packages/skimage/io/_io.py:140: UserWarning: ../data/segmentations_with_erosion_try2/Case39_segmentation_4.jpg is a low contrast image\n",
      "  warn('%s is a low contrast image' % fname)\n",
      "/export/scratch1/home/arkadiy/.local/lib/python2.7/site-packages/skimage/io/_io.py:140: UserWarning: ../data/segmentations_with_erosion_try2/Case39_segmentation_5.jpg is a low contrast image\n",
      "  warn('%s is a low contrast image' % fname)\n",
      "/export/scratch1/home/arkadiy/.local/lib/python2.7/site-packages/skimage/io/_io.py:140: UserWarning: ../data/segmentations_with_erosion_try2/Case39_segmentation_6.jpg is a low contrast image\n",
      "  warn('%s is a low contrast image' % fname)\n"
     ]
    },
    {
     "name": "stdout",
     "output_type": "stream",
     "text": [
      "1666.0 647.0\n",
      "2183.0 806.0\n",
      "2549.0 1520.0\n",
      "3003.0 1566.0\n",
      "3390.0 1817.0\n"
     ]
    },
    {
     "name": "stderr",
     "output_type": "stream",
     "text": [
      "/export/scratch1/home/arkadiy/.local/lib/python2.7/site-packages/skimage/io/_io.py:140: UserWarning: ../data/segmentations_with_erosion_try2/Case39_segmentation_7.jpg is a low contrast image\n",
      "  warn('%s is a low contrast image' % fname)\n"
     ]
    },
    {
     "name": "stdout",
     "output_type": "stream",
     "text": [
      "3735.0 2096.0\n",
      "3803.0 2705.0\n",
      "3641.0 2568.0\n",
      "3911.0 2760.0\n",
      "3641.0 2778.0\n",
      "2857.0 1781.0\n",
      "0.0 0.0\n"
     ]
    },
    {
     "name": "stderr",
     "output_type": "stream",
     "text": [
      "/export/scratch1/home/arkadiy/.local/lib/python2.7/site-packages/skimage/io/_io.py:140: UserWarning: ../data/segmentations_with_erosion_try2/Case39_segmentation_17.jpg is a low contrast image\n",
      "  warn('%s is a low contrast image' % fname)\n",
      "/export/scratch1/home/arkadiy/.local/lib/python2.7/site-packages/skimage/io/_io.py:140: UserWarning: ../data/segmentations_with_erosion_try2/Case39_segmentation_18.jpg is a low contrast image\n",
      "  warn('%s is a low contrast image' % fname)\n",
      "/export/scratch1/home/arkadiy/.local/lib/python2.7/site-packages/skimage/io/_io.py:140: UserWarning: ../data/segmentations_with_erosion_try2/Case39_segmentation_19.jpg is a low contrast image\n",
      "  warn('%s is a low contrast image' % fname)\n",
      "/export/scratch1/home/arkadiy/.local/lib/python2.7/site-packages/skimage/io/_io.py:140: UserWarning: ../data/segmentations_with_erosion_try2/Case39_segmentation_20.jpg is a low contrast image\n",
      "  warn('%s is a low contrast image' % fname)\n",
      "/export/scratch1/home/arkadiy/.local/lib/python2.7/site-packages/skimage/io/_io.py:140: UserWarning: ../data/segmentations_with_erosion_try2/Case39_segmentation_21.jpg is a low contrast image\n",
      "  warn('%s is a low contrast image' % fname)\n"
     ]
    },
    {
     "name": "stdout",
     "output_type": "stream",
     "text": [
      "0.0 0.0\n",
      "0.0 0.0\n",
      "0.0 0.0\n",
      "0.0 0.0\n",
      "0.0 0.0\n",
      "0.0 0.0\n",
      "Case40.mhd (24, 320, 320)\n"
     ]
    },
    {
     "name": "stderr",
     "output_type": "stream",
     "text": [
      "/export/scratch1/home/arkadiy/.local/lib/python2.7/site-packages/skimage/io/_io.py:140: UserWarning: ../data/segmentations_with_erosion_try2/Case39_segmentation_22.jpg is a low contrast image\n",
      "  warn('%s is a low contrast image' % fname)\n",
      "/export/scratch1/home/arkadiy/.local/lib/python2.7/site-packages/skimage/io/_io.py:140: UserWarning: ../data/segmentations_with_erosion_try2/Case39_segmentation_23.jpg is a low contrast image\n",
      "  warn('%s is a low contrast image' % fname)\n"
     ]
    },
    {
     "name": "stdout",
     "output_type": "stream",
     "text": [
      "Case40_segmentation.mhd (24, 320, 320)\n",
      "0.0 0.0\n",
      "0.0 0.0\n",
      "0.0 0.0\n",
      "673.0 126.0\n",
      "778.0 261.0\n"
     ]
    },
    {
     "name": "stderr",
     "output_type": "stream",
     "text": [
      "/export/scratch1/home/arkadiy/.local/lib/python2.7/site-packages/skimage/io/_io.py:140: UserWarning: ../data/segmentations_with_erosion_try2/Case40_segmentation_0.jpg is a low contrast image\n",
      "  warn('%s is a low contrast image' % fname)\n",
      "/export/scratch1/home/arkadiy/.local/lib/python2.7/site-packages/skimage/io/_io.py:140: UserWarning: ../data/segmentations_with_erosion_try2/Case40_segmentation_1.jpg is a low contrast image\n",
      "  warn('%s is a low contrast image' % fname)\n",
      "/export/scratch1/home/arkadiy/.local/lib/python2.7/site-packages/skimage/io/_io.py:140: UserWarning: ../data/segmentations_with_erosion_try2/Case40_segmentation_2.jpg is a low contrast image\n",
      "  warn('%s is a low contrast image' % fname)\n",
      "/export/scratch1/home/arkadiy/.local/lib/python2.7/site-packages/skimage/io/_io.py:140: UserWarning: ../data/segmentations_with_erosion_try2/Case40_segmentation_3.jpg is a low contrast image\n",
      "  warn('%s is a low contrast image' % fname)\n",
      "/export/scratch1/home/arkadiy/.local/lib/python2.7/site-packages/skimage/io/_io.py:140: UserWarning: ../data/segmentations_with_erosion_try2/Case40_segmentation_4.jpg is a low contrast image\n",
      "  warn('%s is a low contrast image' % fname)\n"
     ]
    },
    {
     "name": "stdout",
     "output_type": "stream",
     "text": [
      "833.0 110.0\n",
      "1344.0 155.0\n",
      "1640.0 735.0\n",
      "1995.0 398.0\n"
     ]
    },
    {
     "name": "stderr",
     "output_type": "stream",
     "text": [
      "/export/scratch1/home/arkadiy/.local/lib/python2.7/site-packages/skimage/io/_io.py:140: UserWarning: ../data/segmentations_with_erosion_try2/Case40_segmentation_5.jpg is a low contrast image\n",
      "  warn('%s is a low contrast image' % fname)\n",
      "/export/scratch1/home/arkadiy/.local/lib/python2.7/site-packages/skimage/io/_io.py:140: UserWarning: ../data/segmentations_with_erosion_try2/Case40_segmentation_6.jpg is a low contrast image\n",
      "  warn('%s is a low contrast image' % fname)\n",
      "/export/scratch1/home/arkadiy/.local/lib/python2.7/site-packages/skimage/io/_io.py:140: UserWarning: ../data/segmentations_with_erosion_try2/Case40_segmentation_7.jpg is a low contrast image\n",
      "  warn('%s is a low contrast image' % fname)\n",
      "/export/scratch1/home/arkadiy/.local/lib/python2.7/site-packages/skimage/io/_io.py:140: UserWarning: ../data/segmentations_with_erosion_try2/Case40_segmentation_8.jpg is a low contrast image\n",
      "  warn('%s is a low contrast image' % fname)\n"
     ]
    },
    {
     "name": "stdout",
     "output_type": "stream",
     "text": [
      "2622.0 1095.0\n",
      "2788.0 933.0\n",
      "2921.0 1684.0\n",
      "2695.0 1580.0\n",
      "2492.0 1139.0\n",
      "2264.0 1610.0\n"
     ]
    },
    {
     "name": "stderr",
     "output_type": "stream",
     "text": [
      "/export/scratch1/home/arkadiy/.local/lib/python2.7/site-packages/skimage/io/_io.py:140: UserWarning: ../data/segmentations_with_erosion_try2/Case40_segmentation_10.jpg is a low contrast image\n",
      "  warn('%s is a low contrast image' % fname)\n",
      "/export/scratch1/home/arkadiy/.local/lib/python2.7/site-packages/skimage/io/_io.py:140: UserWarning: ../data/segmentations_with_erosion_try2/Case40_segmentation_15.jpg is a low contrast image\n",
      "  warn('%s is a low contrast image' % fname)\n",
      "/export/scratch1/home/arkadiy/.local/lib/python2.7/site-packages/skimage/io/_io.py:140: UserWarning: ../data/segmentations_with_erosion_try2/Case40_segmentation_16.jpg is a low contrast image\n",
      "  warn('%s is a low contrast image' % fname)\n",
      "/export/scratch1/home/arkadiy/.local/lib/python2.7/site-packages/skimage/io/_io.py:140: UserWarning: ../data/segmentations_with_erosion_try2/Case40_segmentation_17.jpg is a low contrast image\n",
      "  warn('%s is a low contrast image' % fname)\n"
     ]
    },
    {
     "name": "stdout",
     "output_type": "stream",
     "text": [
      "1669.0 938.0\n",
      "658.0 500.0\n",
      "0.0 0.0\n",
      "0.0 0.0\n",
      "0.0 0.0\n",
      "0.0 0.0\n",
      "0.0 0.0\n"
     ]
    },
    {
     "name": "stderr",
     "output_type": "stream",
     "text": [
      "/export/scratch1/home/arkadiy/.local/lib/python2.7/site-packages/skimage/io/_io.py:140: UserWarning: ../data/segmentations_with_erosion_try2/Case40_segmentation_18.jpg is a low contrast image\n",
      "  warn('%s is a low contrast image' % fname)\n",
      "/export/scratch1/home/arkadiy/.local/lib/python2.7/site-packages/skimage/io/_io.py:140: UserWarning: ../data/segmentations_with_erosion_try2/Case40_segmentation_19.jpg is a low contrast image\n",
      "  warn('%s is a low contrast image' % fname)\n",
      "/export/scratch1/home/arkadiy/.local/lib/python2.7/site-packages/skimage/io/_io.py:140: UserWarning: ../data/segmentations_with_erosion_try2/Case40_segmentation_20.jpg is a low contrast image\n",
      "  warn('%s is a low contrast image' % fname)\n",
      "/export/scratch1/home/arkadiy/.local/lib/python2.7/site-packages/skimage/io/_io.py:140: UserWarning: ../data/segmentations_with_erosion_try2/Case40_segmentation_21.jpg is a low contrast image\n",
      "  warn('%s is a low contrast image' % fname)\n",
      "/export/scratch1/home/arkadiy/.local/lib/python2.7/site-packages/skimage/io/_io.py:140: UserWarning: ../data/segmentations_with_erosion_try2/Case40_segmentation_22.jpg is a low contrast image\n",
      "  warn('%s is a low contrast image' % fname)\n",
      "/export/scratch1/home/arkadiy/.local/lib/python2.7/site-packages/skimage/io/_io.py:140: UserWarning: ../data/segmentations_with_erosion_try2/Case40_segmentation_23.jpg is a low contrast image\n",
      "  warn('%s is a low contrast image' % fname)\n"
     ]
    },
    {
     "name": "stdout",
     "output_type": "stream",
     "text": [
      "0.0 0.0\n",
      "0.0 0.0\n",
      "Case41.mhd (24, 320, 320)\n",
      "Case41_segmentation.mhd (24, 320, 320)\n",
      "0.0 0.0\n",
      "0.0 0.0\n",
      "0.0 0.0\n",
      "0.0 0.0\n",
      "0.0 0.0\n"
     ]
    },
    {
     "name": "stderr",
     "output_type": "stream",
     "text": [
      "/export/scratch1/home/arkadiy/.local/lib/python2.7/site-packages/skimage/io/_io.py:140: UserWarning: ../data/segmentations_with_erosion_try2/Case41_segmentation_0.jpg is a low contrast image\n",
      "  warn('%s is a low contrast image' % fname)\n",
      "/export/scratch1/home/arkadiy/.local/lib/python2.7/site-packages/skimage/io/_io.py:140: UserWarning: ../data/segmentations_with_erosion_try2/Case41_segmentation_1.jpg is a low contrast image\n",
      "  warn('%s is a low contrast image' % fname)\n",
      "/export/scratch1/home/arkadiy/.local/lib/python2.7/site-packages/skimage/io/_io.py:140: UserWarning: ../data/segmentations_with_erosion_try2/Case41_segmentation_2.jpg is a low contrast image\n",
      "  warn('%s is a low contrast image' % fname)\n",
      "/export/scratch1/home/arkadiy/.local/lib/python2.7/site-packages/skimage/io/_io.py:140: UserWarning: ../data/segmentations_with_erosion_try2/Case41_segmentation_3.jpg is a low contrast image\n",
      "  warn('%s is a low contrast image' % fname)\n",
      "/export/scratch1/home/arkadiy/.local/lib/python2.7/site-packages/skimage/io/_io.py:140: UserWarning: ../data/segmentations_with_erosion_try2/Case41_segmentation_4.jpg is a low contrast image\n",
      "  warn('%s is a low contrast image' % fname)\n",
      "/export/scratch1/home/arkadiy/.local/lib/python2.7/site-packages/skimage/io/_io.py:140: UserWarning: ../data/segmentations_with_erosion_try2/Case41_segmentation_5.jpg is a low contrast image\n",
      "  warn('%s is a low contrast image' % fname)\n"
     ]
    },
    {
     "name": "stdout",
     "output_type": "stream",
     "text": [
      "0.0 0.0\n",
      "0.0 0.0\n",
      "589.0 230.0\n",
      "894.0 330.0\n",
      "1162.0 350.0\n",
      "1562.0 575.0\n",
      "2002.0 1095.0\n"
     ]
    },
    {
     "name": "stderr",
     "output_type": "stream",
     "text": [
      "/export/scratch1/home/arkadiy/.local/lib/python2.7/site-packages/skimage/io/_io.py:140: UserWarning: ../data/segmentations_with_erosion_try2/Case41_segmentation_6.jpg is a low contrast image\n",
      "  warn('%s is a low contrast image' % fname)\n",
      "/export/scratch1/home/arkadiy/.local/lib/python2.7/site-packages/skimage/io/_io.py:140: UserWarning: ../data/segmentations_with_erosion_try2/Case41_segmentation_7.jpg is a low contrast image\n",
      "  warn('%s is a low contrast image' % fname)\n",
      "/export/scratch1/home/arkadiy/.local/lib/python2.7/site-packages/skimage/io/_io.py:140: UserWarning: ../data/segmentations_with_erosion_try2/Case41_segmentation_8.jpg is a low contrast image\n",
      "  warn('%s is a low contrast image' % fname)\n",
      "/export/scratch1/home/arkadiy/.local/lib/python2.7/site-packages/skimage/io/_io.py:140: UserWarning: ../data/segmentations_with_erosion_try2/Case41_segmentation_9.jpg is a low contrast image\n",
      "  warn('%s is a low contrast image' % fname)\n",
      "/export/scratch1/home/arkadiy/.local/lib/python2.7/site-packages/skimage/io/_io.py:140: UserWarning: ../data/segmentations_with_erosion_try2/Case41_segmentation_10.jpg is a low contrast image\n",
      "  warn('%s is a low contrast image' % fname)\n"
     ]
    },
    {
     "name": "stdout",
     "output_type": "stream",
     "text": [
      "2425.0 1432.0\n",
      "2384.0 1221.0\n",
      "2351.0 914.0\n",
      "1496.0 779.0\n",
      "1196.0 490.0\n"
     ]
    },
    {
     "name": "stderr",
     "output_type": "stream",
     "text": [
      "/export/scratch1/home/arkadiy/.local/lib/python2.7/site-packages/skimage/io/_io.py:140: UserWarning: ../data/segmentations_with_erosion_try2/Case41_segmentation_14.jpg is a low contrast image\n",
      "  warn('%s is a low contrast image' % fname)\n",
      "/export/scratch1/home/arkadiy/.local/lib/python2.7/site-packages/skimage/io/_io.py:140: UserWarning: ../data/segmentations_with_erosion_try2/Case41_segmentation_15.jpg is a low contrast image\n",
      "  warn('%s is a low contrast image' % fname)\n",
      "/export/scratch1/home/arkadiy/.local/lib/python2.7/site-packages/skimage/io/_io.py:140: UserWarning: ../data/segmentations_with_erosion_try2/Case41_segmentation_16.jpg is a low contrast image\n",
      "  warn('%s is a low contrast image' % fname)\n",
      "/export/scratch1/home/arkadiy/.local/lib/python2.7/site-packages/skimage/io/_io.py:140: UserWarning: ../data/segmentations_with_erosion_try2/Case41_segmentation_17.jpg is a low contrast image\n",
      "  warn('%s is a low contrast image' % fname)\n",
      "/export/scratch1/home/arkadiy/.local/lib/python2.7/site-packages/skimage/io/_io.py:140: UserWarning: ../data/segmentations_with_erosion_try2/Case41_segmentation_18.jpg is a low contrast image\n",
      "  warn('%s is a low contrast image' % fname)\n",
      "/export/scratch1/home/arkadiy/.local/lib/python2.7/site-packages/skimage/io/_io.py:140: UserWarning: ../data/segmentations_with_erosion_try2/Case41_segmentation_19.jpg is a low contrast image\n",
      "  warn('%s is a low contrast image' % fname)\n",
      "/export/scratch1/home/arkadiy/.local/lib/python2.7/site-packages/skimage/io/_io.py:140: UserWarning: ../data/segmentations_with_erosion_try2/Case41_segmentation_20.jpg is a low contrast image\n",
      "  warn('%s is a low contrast image' % fname)\n"
     ]
    },
    {
     "name": "stdout",
     "output_type": "stream",
     "text": [
      "621.0 59.0\n",
      "0.0 0.0\n",
      "0.0 0.0\n",
      "0.0 0.0\n",
      "0.0 0.0\n",
      "0.0 0.0\n",
      "0.0 0.0\n",
      "Case42.mhd (24, 320, 320)\n"
     ]
    },
    {
     "name": "stderr",
     "output_type": "stream",
     "text": [
      "/export/scratch1/home/arkadiy/.local/lib/python2.7/site-packages/skimage/io/_io.py:140: UserWarning: ../data/segmentations_with_erosion_try2/Case41_segmentation_21.jpg is a low contrast image\n",
      "  warn('%s is a low contrast image' % fname)\n",
      "/export/scratch1/home/arkadiy/.local/lib/python2.7/site-packages/skimage/io/_io.py:140: UserWarning: ../data/segmentations_with_erosion_try2/Case41_segmentation_22.jpg is a low contrast image\n",
      "  warn('%s is a low contrast image' % fname)\n",
      "/export/scratch1/home/arkadiy/.local/lib/python2.7/site-packages/skimage/io/_io.py:140: UserWarning: ../data/segmentations_with_erosion_try2/Case41_segmentation_23.jpg is a low contrast image\n",
      "  warn('%s is a low contrast image' % fname)\n"
     ]
    },
    {
     "name": "stdout",
     "output_type": "stream",
     "text": [
      "Case42_segmentation.mhd (24, 320, 320)\n",
      "0.0 0.0\n",
      "0.0 0.0\n",
      "556.0 122.0\n",
      "808.0 221.0\n",
      "1264.0 265.0\n",
      "2192.0 1341.0\n",
      "3406.0 2222.0\n"
     ]
    },
    {
     "name": "stderr",
     "output_type": "stream",
     "text": [
      "/export/scratch1/home/arkadiy/.local/lib/python2.7/site-packages/skimage/io/_io.py:140: UserWarning: ../data/segmentations_with_erosion_try2/Case42_segmentation_0.jpg is a low contrast image\n",
      "  warn('%s is a low contrast image' % fname)\n",
      "/export/scratch1/home/arkadiy/.local/lib/python2.7/site-packages/skimage/io/_io.py:140: UserWarning: ../data/segmentations_with_erosion_try2/Case42_segmentation_1.jpg is a low contrast image\n",
      "  warn('%s is a low contrast image' % fname)\n",
      "/export/scratch1/home/arkadiy/.local/lib/python2.7/site-packages/skimage/io/_io.py:140: UserWarning: ../data/segmentations_with_erosion_try2/Case42_segmentation_2.jpg is a low contrast image\n",
      "  warn('%s is a low contrast image' % fname)\n",
      "/export/scratch1/home/arkadiy/.local/lib/python2.7/site-packages/skimage/io/_io.py:140: UserWarning: ../data/segmentations_with_erosion_try2/Case42_segmentation_3.jpg is a low contrast image\n",
      "  warn('%s is a low contrast image' % fname)\n",
      "/export/scratch1/home/arkadiy/.local/lib/python2.7/site-packages/skimage/io/_io.py:140: UserWarning: ../data/segmentations_with_erosion_try2/Case42_segmentation_4.jpg is a low contrast image\n",
      "  warn('%s is a low contrast image' % fname)\n"
     ]
    },
    {
     "name": "stdout",
     "output_type": "stream",
     "text": [
      "4114.0 2816.0\n",
      "4745.0 3137.0\n",
      "5569.0 3124.0\n",
      "5719.0 3706.0\n",
      "5942.0 4378.0\n",
      "6055.0 3571.0\n",
      "6053.0 4748.0\n",
      "5356.0 3267.0\n",
      "5417.0 3782.0\n",
      "4565.0 3264.0\n",
      "4008.0 3162.0\n",
      "3573.0 1895.0\n",
      "3061.0 2703.0\n",
      "2723.0 1725.0\n",
      "2370.0 1459.0\n",
      "1750.0 765.0\n",
      "979.0 496.0\n",
      "Case43.mhd (24, 320, 320)\n"
     ]
    },
    {
     "name": "stderr",
     "output_type": "stream",
     "text": [
      "/export/scratch1/home/arkadiy/.local/lib/python2.7/site-packages/skimage/io/_io.py:140: UserWarning: ../data/segmentations_with_erosion_try2/Case42_segmentation_22.jpg is a low contrast image\n",
      "  warn('%s is a low contrast image' % fname)\n",
      "/export/scratch1/home/arkadiy/.local/lib/python2.7/site-packages/skimage/io/_io.py:140: UserWarning: ../data/segmentations_with_erosion_try2/Case42_segmentation_23.jpg is a low contrast image\n",
      "  warn('%s is a low contrast image' % fname)\n"
     ]
    },
    {
     "name": "stdout",
     "output_type": "stream",
     "text": [
      "Case43_segmentation.mhd (24, 320, 320)\n",
      "0.0 0.0\n",
      "760.0 74.0\n",
      "718.0 0.0\n"
     ]
    },
    {
     "name": "stderr",
     "output_type": "stream",
     "text": [
      "/export/scratch1/home/arkadiy/.local/lib/python2.7/site-packages/skimage/io/_io.py:140: UserWarning: ../data/segmentations_with_erosion_try2/Case43_segmentation_0.jpg is a low contrast image\n",
      "  warn('%s is a low contrast image' % fname)\n",
      "/export/scratch1/home/arkadiy/.local/lib/python2.7/site-packages/skimage/io/_io.py:140: UserWarning: ../data/segmentations_with_erosion_try2/Case43_segmentation_1.jpg is a low contrast image\n",
      "  warn('%s is a low contrast image' % fname)\n",
      "/export/scratch1/home/arkadiy/.local/lib/python2.7/site-packages/skimage/io/_io.py:140: UserWarning: ../data/segmentations_with_erosion_try2/Case43_segmentation_2.jpg is a low contrast image\n",
      "  warn('%s is a low contrast image' % fname)\n",
      "/export/scratch1/home/arkadiy/.local/lib/python2.7/site-packages/skimage/io/_io.py:140: UserWarning: ../data/segmentations_with_erosion_try2/Case43_segmentation_3.jpg is a low contrast image\n",
      "  warn('%s is a low contrast image' % fname)\n"
     ]
    },
    {
     "name": "stdout",
     "output_type": "stream",
     "text": [
      "1024.0 262.0\n",
      "1268.0 619.0\n",
      "2003.0 1001.0\n",
      "2421.0 1090.0\n",
      "3011.0 1182.0\n"
     ]
    },
    {
     "name": "stderr",
     "output_type": "stream",
     "text": [
      "/export/scratch1/home/arkadiy/.local/lib/python2.7/site-packages/skimage/io/_io.py:140: UserWarning: ../data/segmentations_with_erosion_try2/Case43_segmentation_4.jpg is a low contrast image\n",
      "  warn('%s is a low contrast image' % fname)\n",
      "/export/scratch1/home/arkadiy/.local/lib/python2.7/site-packages/skimage/io/_io.py:140: UserWarning: ../data/segmentations_with_erosion_try2/Case43_segmentation_5.jpg is a low contrast image\n",
      "  warn('%s is a low contrast image' % fname)\n"
     ]
    },
    {
     "name": "stdout",
     "output_type": "stream",
     "text": [
      "3684.0 1495.0\n",
      "4183.0 1960.0\n",
      "4150.0 1891.0\n",
      "3780.0 2003.0\n",
      "3892.0 2268.0\n",
      "3348.0 1798.0\n",
      "1784.0 347.0\n",
      "0.0 0.0\n",
      "0.0 0.0\n"
     ]
    },
    {
     "name": "stderr",
     "output_type": "stream",
     "text": [
      "/export/scratch1/home/arkadiy/.local/lib/python2.7/site-packages/skimage/io/_io.py:140: UserWarning: ../data/segmentations_with_erosion_try2/Case43_segmentation_14.jpg is a low contrast image\n",
      "  warn('%s is a low contrast image' % fname)\n",
      "/export/scratch1/home/arkadiy/.local/lib/python2.7/site-packages/skimage/io/_io.py:140: UserWarning: ../data/segmentations_with_erosion_try2/Case43_segmentation_15.jpg is a low contrast image\n",
      "  warn('%s is a low contrast image' % fname)\n",
      "/export/scratch1/home/arkadiy/.local/lib/python2.7/site-packages/skimage/io/_io.py:140: UserWarning: ../data/segmentations_with_erosion_try2/Case43_segmentation_16.jpg is a low contrast image\n",
      "  warn('%s is a low contrast image' % fname)\n",
      "/export/scratch1/home/arkadiy/.local/lib/python2.7/site-packages/skimage/io/_io.py:140: UserWarning: ../data/segmentations_with_erosion_try2/Case43_segmentation_17.jpg is a low contrast image\n",
      "  warn('%s is a low contrast image' % fname)\n",
      "/export/scratch1/home/arkadiy/.local/lib/python2.7/site-packages/skimage/io/_io.py:140: UserWarning: ../data/segmentations_with_erosion_try2/Case43_segmentation_18.jpg is a low contrast image\n",
      "  warn('%s is a low contrast image' % fname)\n"
     ]
    },
    {
     "name": "stdout",
     "output_type": "stream",
     "text": [
      "0.0 0.0\n",
      "0.0 0.0\n",
      "0.0 0.0\n"
     ]
    },
    {
     "name": "stderr",
     "output_type": "stream",
     "text": [
      "/export/scratch1/home/arkadiy/.local/lib/python2.7/site-packages/skimage/io/_io.py:140: UserWarning: ../data/segmentations_with_erosion_try2/Case43_segmentation_19.jpg is a low contrast image\n",
      "  warn('%s is a low contrast image' % fname)\n",
      "/export/scratch1/home/arkadiy/.local/lib/python2.7/site-packages/skimage/io/_io.py:140: UserWarning: ../data/segmentations_with_erosion_try2/Case43_segmentation_20.jpg is a low contrast image\n",
      "  warn('%s is a low contrast image' % fname)\n",
      "/export/scratch1/home/arkadiy/.local/lib/python2.7/site-packages/skimage/io/_io.py:140: UserWarning: ../data/segmentations_with_erosion_try2/Case43_segmentation_21.jpg is a low contrast image\n",
      "  warn('%s is a low contrast image' % fname)\n",
      "/export/scratch1/home/arkadiy/.local/lib/python2.7/site-packages/skimage/io/_io.py:140: UserWarning: ../data/segmentations_with_erosion_try2/Case43_segmentation_22.jpg is a low contrast image\n",
      "  warn('%s is a low contrast image' % fname)\n",
      "/export/scratch1/home/arkadiy/.local/lib/python2.7/site-packages/skimage/io/_io.py:140: UserWarning: ../data/segmentations_with_erosion_try2/Case43_segmentation_23.jpg is a low contrast image\n",
      "  warn('%s is a low contrast image' % fname)\n"
     ]
    },
    {
     "name": "stdout",
     "output_type": "stream",
     "text": [
      "0.0 0.0\n",
      "0.0 0.0\n",
      "0.0 0.0\n",
      "0.0 0.0\n",
      "Case44.mhd (24, 320, 320)\n",
      "Case44_segmentation.mhd (24, 320, 320)\n",
      "0.0 0.0\n",
      "0.0 0.0\n",
      "0.0 0.0\n",
      "0.0 0.0\n",
      "0.0 0.0\n",
      "998.0 168.0\n"
     ]
    },
    {
     "name": "stderr",
     "output_type": "stream",
     "text": [
      "/export/scratch1/home/arkadiy/.local/lib/python2.7/site-packages/skimage/io/_io.py:140: UserWarning: ../data/segmentations_with_erosion_try2/Case44_segmentation_0.jpg is a low contrast image\n",
      "  warn('%s is a low contrast image' % fname)\n",
      "/export/scratch1/home/arkadiy/.local/lib/python2.7/site-packages/skimage/io/_io.py:140: UserWarning: ../data/segmentations_with_erosion_try2/Case44_segmentation_1.jpg is a low contrast image\n",
      "  warn('%s is a low contrast image' % fname)\n",
      "/export/scratch1/home/arkadiy/.local/lib/python2.7/site-packages/skimage/io/_io.py:140: UserWarning: ../data/segmentations_with_erosion_try2/Case44_segmentation_2.jpg is a low contrast image\n",
      "  warn('%s is a low contrast image' % fname)\n",
      "/export/scratch1/home/arkadiy/.local/lib/python2.7/site-packages/skimage/io/_io.py:140: UserWarning: ../data/segmentations_with_erosion_try2/Case44_segmentation_3.jpg is a low contrast image\n",
      "  warn('%s is a low contrast image' % fname)\n",
      "/export/scratch1/home/arkadiy/.local/lib/python2.7/site-packages/skimage/io/_io.py:140: UserWarning: ../data/segmentations_with_erosion_try2/Case44_segmentation_4.jpg is a low contrast image\n",
      "  warn('%s is a low contrast image' % fname)\n",
      "/export/scratch1/home/arkadiy/.local/lib/python2.7/site-packages/skimage/io/_io.py:140: UserWarning: ../data/segmentations_with_erosion_try2/Case44_segmentation_5.jpg is a low contrast image\n",
      "  warn('%s is a low contrast image' % fname)\n",
      "/export/scratch1/home/arkadiy/.local/lib/python2.7/site-packages/skimage/io/_io.py:140: UserWarning: ../data/segmentations_with_erosion_try2/Case44_segmentation_6.jpg is a low contrast image\n",
      "  warn('%s is a low contrast image' % fname)\n",
      "/export/scratch1/home/arkadiy/.local/lib/python2.7/site-packages/skimage/io/_io.py:140: UserWarning: ../data/segmentations_with_erosion_try2/Case44_segmentation_7.jpg is a low contrast image\n",
      "  warn('%s is a low contrast image' % fname)\n"
     ]
    },
    {
     "name": "stdout",
     "output_type": "stream",
     "text": [
      "1071.0 386.0\n",
      "1585.0 803.0\n",
      "2006.0 1066.0\n",
      "2430.0 1271.0\n",
      "2960.0 1998.0\n",
      "3113.0 1141.0\n",
      "3196.0 1502.0\n",
      "3382.0 1574.0\n",
      "3082.0 1877.0\n",
      "2341.0 1066.0\n",
      "0.0 0.0\n",
      "0.0 0.0\n"
     ]
    },
    {
     "name": "stderr",
     "output_type": "stream",
     "text": [
      "/export/scratch1/home/arkadiy/.local/lib/python2.7/site-packages/skimage/io/_io.py:140: UserWarning: ../data/segmentations_with_erosion_try2/Case44_segmentation_16.jpg is a low contrast image\n",
      "  warn('%s is a low contrast image' % fname)\n",
      "/export/scratch1/home/arkadiy/.local/lib/python2.7/site-packages/skimage/io/_io.py:140: UserWarning: ../data/segmentations_with_erosion_try2/Case44_segmentation_17.jpg is a low contrast image\n",
      "  warn('%s is a low contrast image' % fname)\n",
      "/export/scratch1/home/arkadiy/.local/lib/python2.7/site-packages/skimage/io/_io.py:140: UserWarning: ../data/segmentations_with_erosion_try2/Case44_segmentation_18.jpg is a low contrast image\n",
      "  warn('%s is a low contrast image' % fname)\n",
      "/export/scratch1/home/arkadiy/.local/lib/python2.7/site-packages/skimage/io/_io.py:140: UserWarning: ../data/segmentations_with_erosion_try2/Case44_segmentation_19.jpg is a low contrast image\n",
      "  warn('%s is a low contrast image' % fname)\n",
      "/export/scratch1/home/arkadiy/.local/lib/python2.7/site-packages/skimage/io/_io.py:140: UserWarning: ../data/segmentations_with_erosion_try2/Case44_segmentation_20.jpg is a low contrast image\n",
      "  warn('%s is a low contrast image' % fname)\n",
      "/export/scratch1/home/arkadiy/.local/lib/python2.7/site-packages/skimage/io/_io.py:140: UserWarning: ../data/segmentations_with_erosion_try2/Case44_segmentation_21.jpg is a low contrast image\n",
      "  warn('%s is a low contrast image' % fname)\n",
      "/export/scratch1/home/arkadiy/.local/lib/python2.7/site-packages/skimage/io/_io.py:140: UserWarning: ../data/segmentations_with_erosion_try2/Case44_segmentation_22.jpg is a low contrast image\n",
      "  warn('%s is a low contrast image' % fname)\n"
     ]
    },
    {
     "name": "stdout",
     "output_type": "stream",
     "text": [
      "0.0 0.0\n",
      "0.0 0.0\n",
      "0.0 0.0\n",
      "0.0 0.0\n",
      "0.0 0.0\n",
      "0.0 0.0\n",
      "Case45.mhd (24, 320, 320)\n"
     ]
    },
    {
     "name": "stderr",
     "output_type": "stream",
     "text": [
      "/export/scratch1/home/arkadiy/.local/lib/python2.7/site-packages/skimage/io/_io.py:140: UserWarning: ../data/segmentations_with_erosion_try2/Case44_segmentation_23.jpg is a low contrast image\n",
      "  warn('%s is a low contrast image' % fname)\n"
     ]
    },
    {
     "name": "stdout",
     "output_type": "stream",
     "text": [
      "Case45_segmentation.mhd (24, 320, 320)\n",
      "0.0 0.0\n",
      "0.0 0.0\n",
      "0.0 0.0\n",
      "0.0 0.0\n",
      "0.0 0.0\n"
     ]
    },
    {
     "name": "stderr",
     "output_type": "stream",
     "text": [
      "/export/scratch1/home/arkadiy/.local/lib/python2.7/site-packages/skimage/io/_io.py:140: UserWarning: ../data/segmentations_with_erosion_try2/Case45_segmentation_0.jpg is a low contrast image\n",
      "  warn('%s is a low contrast image' % fname)\n",
      "/export/scratch1/home/arkadiy/.local/lib/python2.7/site-packages/skimage/io/_io.py:140: UserWarning: ../data/segmentations_with_erosion_try2/Case45_segmentation_1.jpg is a low contrast image\n",
      "  warn('%s is a low contrast image' % fname)\n",
      "/export/scratch1/home/arkadiy/.local/lib/python2.7/site-packages/skimage/io/_io.py:140: UserWarning: ../data/segmentations_with_erosion_try2/Case45_segmentation_2.jpg is a low contrast image\n",
      "  warn('%s is a low contrast image' % fname)\n",
      "/export/scratch1/home/arkadiy/.local/lib/python2.7/site-packages/skimage/io/_io.py:140: UserWarning: ../data/segmentations_with_erosion_try2/Case45_segmentation_3.jpg is a low contrast image\n",
      "  warn('%s is a low contrast image' % fname)\n",
      "/export/scratch1/home/arkadiy/.local/lib/python2.7/site-packages/skimage/io/_io.py:140: UserWarning: ../data/segmentations_with_erosion_try2/Case45_segmentation_4.jpg is a low contrast image\n",
      "  warn('%s is a low contrast image' % fname)\n",
      "/export/scratch1/home/arkadiy/.local/lib/python2.7/site-packages/skimage/io/_io.py:140: UserWarning: ../data/segmentations_with_erosion_try2/Case45_segmentation_5.jpg is a low contrast image\n",
      "  warn('%s is a low contrast image' % fname)\n"
     ]
    },
    {
     "name": "stdout",
     "output_type": "stream",
     "text": [
      "693.0 103.0\n",
      "668.0 261.0\n",
      "1068.0 404.0\n",
      "1487.0 1339.0\n",
      "1687.0 716.0\n",
      "2125.0 827.0\n",
      "2184.0 1030.0\n"
     ]
    },
    {
     "name": "stderr",
     "output_type": "stream",
     "text": [
      "/export/scratch1/home/arkadiy/.local/lib/python2.7/site-packages/skimage/io/_io.py:140: UserWarning: ../data/segmentations_with_erosion_try2/Case45_segmentation_6.jpg is a low contrast image\n",
      "  warn('%s is a low contrast image' % fname)\n",
      "/export/scratch1/home/arkadiy/.local/lib/python2.7/site-packages/skimage/io/_io.py:140: UserWarning: ../data/segmentations_with_erosion_try2/Case45_segmentation_7.jpg is a low contrast image\n",
      "  warn('%s is a low contrast image' % fname)\n",
      "/export/scratch1/home/arkadiy/.local/lib/python2.7/site-packages/skimage/io/_io.py:140: UserWarning: ../data/segmentations_with_erosion_try2/Case45_segmentation_9.jpg is a low contrast image\n",
      "  warn('%s is a low contrast image' % fname)\n",
      "/export/scratch1/home/arkadiy/.local/lib/python2.7/site-packages/skimage/io/_io.py:140: UserWarning: ../data/segmentations_with_erosion_try2/Case45_segmentation_10.jpg is a low contrast image\n",
      "  warn('%s is a low contrast image' % fname)\n"
     ]
    },
    {
     "name": "stdout",
     "output_type": "stream",
     "text": [
      "2235.0 1185.0\n",
      "2181.0 1310.0\n",
      "1716.0 707.0\n",
      "1023.0 495.0\n",
      "0.0 0.0\n",
      "0.0 0.0\n",
      "0.0 0.0\n"
     ]
    },
    {
     "name": "stderr",
     "output_type": "stream",
     "text": [
      "/export/scratch1/home/arkadiy/.local/lib/python2.7/site-packages/skimage/io/_io.py:140: UserWarning: ../data/segmentations_with_erosion_try2/Case45_segmentation_14.jpg is a low contrast image\n",
      "  warn('%s is a low contrast image' % fname)\n",
      "/export/scratch1/home/arkadiy/.local/lib/python2.7/site-packages/skimage/io/_io.py:140: UserWarning: ../data/segmentations_with_erosion_try2/Case45_segmentation_15.jpg is a low contrast image\n",
      "  warn('%s is a low contrast image' % fname)\n",
      "/export/scratch1/home/arkadiy/.local/lib/python2.7/site-packages/skimage/io/_io.py:140: UserWarning: ../data/segmentations_with_erosion_try2/Case45_segmentation_16.jpg is a low contrast image\n",
      "  warn('%s is a low contrast image' % fname)\n",
      "/export/scratch1/home/arkadiy/.local/lib/python2.7/site-packages/skimage/io/_io.py:140: UserWarning: ../data/segmentations_with_erosion_try2/Case45_segmentation_17.jpg is a low contrast image\n",
      "  warn('%s is a low contrast image' % fname)\n",
      "/export/scratch1/home/arkadiy/.local/lib/python2.7/site-packages/skimage/io/_io.py:140: UserWarning: ../data/segmentations_with_erosion_try2/Case45_segmentation_18.jpg is a low contrast image\n",
      "  warn('%s is a low contrast image' % fname)\n",
      "/export/scratch1/home/arkadiy/.local/lib/python2.7/site-packages/skimage/io/_io.py:140: UserWarning: ../data/segmentations_with_erosion_try2/Case45_segmentation_19.jpg is a low contrast image\n",
      "  warn('%s is a low contrast image' % fname)\n"
     ]
    },
    {
     "name": "stdout",
     "output_type": "stream",
     "text": [
      "0.0 0.0\n",
      "0.0 0.0\n",
      "0.0 0.0\n",
      "0.0 0.0\n"
     ]
    },
    {
     "name": "stderr",
     "output_type": "stream",
     "text": [
      "/export/scratch1/home/arkadiy/.local/lib/python2.7/site-packages/skimage/io/_io.py:140: UserWarning: ../data/segmentations_with_erosion_try2/Case45_segmentation_20.jpg is a low contrast image\n",
      "  warn('%s is a low contrast image' % fname)\n",
      "/export/scratch1/home/arkadiy/.local/lib/python2.7/site-packages/skimage/io/_io.py:140: UserWarning: ../data/segmentations_with_erosion_try2/Case45_segmentation_21.jpg is a low contrast image\n",
      "  warn('%s is a low contrast image' % fname)\n",
      "/export/scratch1/home/arkadiy/.local/lib/python2.7/site-packages/skimage/io/_io.py:140: UserWarning: ../data/segmentations_with_erosion_try2/Case45_segmentation_22.jpg is a low contrast image\n",
      "  warn('%s is a low contrast image' % fname)\n",
      "/export/scratch1/home/arkadiy/.local/lib/python2.7/site-packages/skimage/io/_io.py:140: UserWarning: ../data/segmentations_with_erosion_try2/Case45_segmentation_23.jpg is a low contrast image\n",
      "  warn('%s is a low contrast image' % fname)\n"
     ]
    },
    {
     "name": "stdout",
     "output_type": "stream",
     "text": [
      "0.0 0.0\n",
      "Case46.mhd (24, 320, 320)\n",
      "Case46_segmentation.mhd (24, 320, 320)\n",
      "0.0 0.0\n",
      "0.0 0.0\n",
      "0.0 0.0\n",
      "0.0 0.0\n"
     ]
    },
    {
     "name": "stderr",
     "output_type": "stream",
     "text": [
      "/export/scratch1/home/arkadiy/.local/lib/python2.7/site-packages/skimage/io/_io.py:140: UserWarning: ../data/segmentations_with_erosion_try2/Case46_segmentation_0.jpg is a low contrast image\n",
      "  warn('%s is a low contrast image' % fname)\n",
      "/export/scratch1/home/arkadiy/.local/lib/python2.7/site-packages/skimage/io/_io.py:140: UserWarning: ../data/segmentations_with_erosion_try2/Case46_segmentation_1.jpg is a low contrast image\n",
      "  warn('%s is a low contrast image' % fname)\n",
      "/export/scratch1/home/arkadiy/.local/lib/python2.7/site-packages/skimage/io/_io.py:140: UserWarning: ../data/segmentations_with_erosion_try2/Case46_segmentation_2.jpg is a low contrast image\n",
      "  warn('%s is a low contrast image' % fname)\n",
      "/export/scratch1/home/arkadiy/.local/lib/python2.7/site-packages/skimage/io/_io.py:140: UserWarning: ../data/segmentations_with_erosion_try2/Case46_segmentation_3.jpg is a low contrast image\n",
      "  warn('%s is a low contrast image' % fname)\n",
      "/export/scratch1/home/arkadiy/.local/lib/python2.7/site-packages/skimage/io/_io.py:140: UserWarning: ../data/segmentations_with_erosion_try2/Case46_segmentation_4.jpg is a low contrast image\n",
      "  warn('%s is a low contrast image' % fname)\n"
     ]
    },
    {
     "name": "stdout",
     "output_type": "stream",
     "text": [
      "0.0 0.0\n",
      "0.0 0.0\n",
      "949.0 152.0\n",
      "1338.0 749.0\n",
      "2167.0 992.0\n"
     ]
    },
    {
     "name": "stderr",
     "output_type": "stream",
     "text": [
      "/export/scratch1/home/arkadiy/.local/lib/python2.7/site-packages/skimage/io/_io.py:140: UserWarning: ../data/segmentations_with_erosion_try2/Case46_segmentation_5.jpg is a low contrast image\n",
      "  warn('%s is a low contrast image' % fname)\n",
      "/export/scratch1/home/arkadiy/.local/lib/python2.7/site-packages/skimage/io/_io.py:140: UserWarning: ../data/segmentations_with_erosion_try2/Case46_segmentation_6.jpg is a low contrast image\n",
      "  warn('%s is a low contrast image' % fname)\n",
      "/export/scratch1/home/arkadiy/.local/lib/python2.7/site-packages/skimage/io/_io.py:140: UserWarning: ../data/segmentations_with_erosion_try2/Case46_segmentation_7.jpg is a low contrast image\n",
      "  warn('%s is a low contrast image' % fname)\n",
      "/export/scratch1/home/arkadiy/.local/lib/python2.7/site-packages/skimage/io/_io.py:140: UserWarning: ../data/segmentations_with_erosion_try2/Case46_segmentation_8.jpg is a low contrast image\n",
      "  warn('%s is a low contrast image' % fname)\n"
     ]
    },
    {
     "name": "stdout",
     "output_type": "stream",
     "text": [
      "3085.0 1827.0\n",
      "3583.0 2977.0\n",
      "3764.0 2546.0\n",
      "3996.0 2893.0\n",
      "3527.0 1840.0\n",
      "2744.0 1828.0\n",
      "2252.0 1317.0\n",
      "1361.0 653.0\n",
      "0.0 0.0\n",
      "0.0 0.0\n",
      "0.0 0.0\n",
      "0.0 0.0\n",
      "0.0 0.0\n"
     ]
    },
    {
     "name": "stderr",
     "output_type": "stream",
     "text": [
      "/export/scratch1/home/arkadiy/.local/lib/python2.7/site-packages/skimage/io/_io.py:140: UserWarning: ../data/segmentations_with_erosion_try2/Case46_segmentation_16.jpg is a low contrast image\n",
      "  warn('%s is a low contrast image' % fname)\n",
      "/export/scratch1/home/arkadiy/.local/lib/python2.7/site-packages/skimage/io/_io.py:140: UserWarning: ../data/segmentations_with_erosion_try2/Case46_segmentation_17.jpg is a low contrast image\n",
      "  warn('%s is a low contrast image' % fname)\n",
      "/export/scratch1/home/arkadiy/.local/lib/python2.7/site-packages/skimage/io/_io.py:140: UserWarning: ../data/segmentations_with_erosion_try2/Case46_segmentation_18.jpg is a low contrast image\n",
      "  warn('%s is a low contrast image' % fname)\n",
      "/export/scratch1/home/arkadiy/.local/lib/python2.7/site-packages/skimage/io/_io.py:140: UserWarning: ../data/segmentations_with_erosion_try2/Case46_segmentation_19.jpg is a low contrast image\n",
      "  warn('%s is a low contrast image' % fname)\n",
      "/export/scratch1/home/arkadiy/.local/lib/python2.7/site-packages/skimage/io/_io.py:140: UserWarning: ../data/segmentations_with_erosion_try2/Case46_segmentation_20.jpg is a low contrast image\n",
      "  warn('%s is a low contrast image' % fname)\n",
      "/export/scratch1/home/arkadiy/.local/lib/python2.7/site-packages/skimage/io/_io.py:140: UserWarning: ../data/segmentations_with_erosion_try2/Case46_segmentation_21.jpg is a low contrast image\n",
      "  warn('%s is a low contrast image' % fname)\n"
     ]
    },
    {
     "name": "stdout",
     "output_type": "stream",
     "text": [
      "0.0 0.0\n",
      "0.0 0.0\n",
      "Case47.mhd (24, 320, 320)\n"
     ]
    },
    {
     "name": "stderr",
     "output_type": "stream",
     "text": [
      "/export/scratch1/home/arkadiy/.local/lib/python2.7/site-packages/skimage/io/_io.py:140: UserWarning: ../data/segmentations_with_erosion_try2/Case46_segmentation_22.jpg is a low contrast image\n",
      "  warn('%s is a low contrast image' % fname)\n",
      "/export/scratch1/home/arkadiy/.local/lib/python2.7/site-packages/skimage/io/_io.py:140: UserWarning: ../data/segmentations_with_erosion_try2/Case46_segmentation_23.jpg is a low contrast image\n",
      "  warn('%s is a low contrast image' % fname)\n"
     ]
    },
    {
     "name": "stdout",
     "output_type": "stream",
     "text": [
      "Case47_segmentation.mhd (24, 320, 320)\n",
      "0.0 0.0\n",
      "0.0 0.0\n",
      "0.0 0.0\n",
      "0.0 0.0\n",
      "0.0 0.0\n"
     ]
    },
    {
     "name": "stderr",
     "output_type": "stream",
     "text": [
      "/export/scratch1/home/arkadiy/.local/lib/python2.7/site-packages/skimage/io/_io.py:140: UserWarning: ../data/segmentations_with_erosion_try2/Case47_segmentation_0.jpg is a low contrast image\n",
      "  warn('%s is a low contrast image' % fname)\n",
      "/export/scratch1/home/arkadiy/.local/lib/python2.7/site-packages/skimage/io/_io.py:140: UserWarning: ../data/segmentations_with_erosion_try2/Case47_segmentation_1.jpg is a low contrast image\n",
      "  warn('%s is a low contrast image' % fname)\n",
      "/export/scratch1/home/arkadiy/.local/lib/python2.7/site-packages/skimage/io/_io.py:140: UserWarning: ../data/segmentations_with_erosion_try2/Case47_segmentation_2.jpg is a low contrast image\n",
      "  warn('%s is a low contrast image' % fname)\n",
      "/export/scratch1/home/arkadiy/.local/lib/python2.7/site-packages/skimage/io/_io.py:140: UserWarning: ../data/segmentations_with_erosion_try2/Case47_segmentation_3.jpg is a low contrast image\n",
      "  warn('%s is a low contrast image' % fname)\n",
      "/export/scratch1/home/arkadiy/.local/lib/python2.7/site-packages/skimage/io/_io.py:140: UserWarning: ../data/segmentations_with_erosion_try2/Case47_segmentation_4.jpg is a low contrast image\n",
      "  warn('%s is a low contrast image' % fname)\n",
      "/export/scratch1/home/arkadiy/.local/lib/python2.7/site-packages/skimage/io/_io.py:140: UserWarning: ../data/segmentations_with_erosion_try2/Case47_segmentation_5.jpg is a low contrast image\n",
      "  warn('%s is a low contrast image' % fname)\n",
      "/export/scratch1/home/arkadiy/.local/lib/python2.7/site-packages/skimage/io/_io.py:140: UserWarning: ../data/segmentations_with_erosion_try2/Case47_segmentation_6.jpg is a low contrast image\n",
      "  warn('%s is a low contrast image' % fname)\n"
     ]
    },
    {
     "name": "stdout",
     "output_type": "stream",
     "text": [
      "0.0 0.0\n",
      "1070.0 854.0\n",
      "1295.0 1059.0\n",
      "1914.0 1198.0\n",
      "2521.0 723.0\n",
      "2808.0 1567.0\n",
      "2943.0 2012.0\n"
     ]
    },
    {
     "name": "stderr",
     "output_type": "stream",
     "text": [
      "/export/scratch1/home/arkadiy/.local/lib/python2.7/site-packages/skimage/io/_io.py:140: UserWarning: ../data/segmentations_with_erosion_try2/Case47_segmentation_9.jpg is a low contrast image\n",
      "  warn('%s is a low contrast image' % fname)\n"
     ]
    },
    {
     "name": "stdout",
     "output_type": "stream",
     "text": [
      "3119.0 1328.0\n",
      "2807.0 1586.0\n",
      "2730.0 2018.0\n",
      "1827.0 1008.0\n",
      "805.0 540.0\n",
      "395.0 29.0\n"
     ]
    },
    {
     "name": "stderr",
     "output_type": "stream",
     "text": [
      "/export/scratch1/home/arkadiy/.local/lib/python2.7/site-packages/skimage/io/_io.py:140: UserWarning: ../data/segmentations_with_erosion_try2/Case47_segmentation_15.jpg is a low contrast image\n",
      "  warn('%s is a low contrast image' % fname)\n",
      "/export/scratch1/home/arkadiy/.local/lib/python2.7/site-packages/skimage/io/_io.py:140: UserWarning: ../data/segmentations_with_erosion_try2/Case47_segmentation_16.jpg is a low contrast image\n",
      "  warn('%s is a low contrast image' % fname)\n",
      "/export/scratch1/home/arkadiy/.local/lib/python2.7/site-packages/skimage/io/_io.py:140: UserWarning: ../data/segmentations_with_erosion_try2/Case47_segmentation_17.jpg is a low contrast image\n",
      "  warn('%s is a low contrast image' % fname)\n",
      "/export/scratch1/home/arkadiy/.local/lib/python2.7/site-packages/skimage/io/_io.py:140: UserWarning: ../data/segmentations_with_erosion_try2/Case47_segmentation_18.jpg is a low contrast image\n",
      "  warn('%s is a low contrast image' % fname)\n",
      "/export/scratch1/home/arkadiy/.local/lib/python2.7/site-packages/skimage/io/_io.py:140: UserWarning: ../data/segmentations_with_erosion_try2/Case47_segmentation_19.jpg is a low contrast image\n",
      "  warn('%s is a low contrast image' % fname)\n"
     ]
    },
    {
     "name": "stdout",
     "output_type": "stream",
     "text": [
      "0.0 0.0\n",
      "0.0 0.0\n",
      "0.0 0.0\n",
      "0.0 0.0\n",
      "0.0 0.0\n",
      "0.0 0.0\n",
      "Case48.mhd (24, 320, 320)\n"
     ]
    },
    {
     "name": "stderr",
     "output_type": "stream",
     "text": [
      "/export/scratch1/home/arkadiy/.local/lib/python2.7/site-packages/skimage/io/_io.py:140: UserWarning: ../data/segmentations_with_erosion_try2/Case47_segmentation_20.jpg is a low contrast image\n",
      "  warn('%s is a low contrast image' % fname)\n",
      "/export/scratch1/home/arkadiy/.local/lib/python2.7/site-packages/skimage/io/_io.py:140: UserWarning: ../data/segmentations_with_erosion_try2/Case47_segmentation_21.jpg is a low contrast image\n",
      "  warn('%s is a low contrast image' % fname)\n",
      "/export/scratch1/home/arkadiy/.local/lib/python2.7/site-packages/skimage/io/_io.py:140: UserWarning: ../data/segmentations_with_erosion_try2/Case47_segmentation_22.jpg is a low contrast image\n",
      "  warn('%s is a low contrast image' % fname)\n",
      "/export/scratch1/home/arkadiy/.local/lib/python2.7/site-packages/skimage/io/_io.py:140: UserWarning: ../data/segmentations_with_erosion_try2/Case47_segmentation_23.jpg is a low contrast image\n",
      "  warn('%s is a low contrast image' % fname)\n"
     ]
    },
    {
     "name": "stdout",
     "output_type": "stream",
     "text": [
      "Case48_segmentation.mhd (24, 320, 320)\n",
      "0.0 0.0\n",
      "0.0 0.0\n",
      "0.0 0.0\n",
      "0.0 0.0\n",
      "0.0 0.0\n"
     ]
    },
    {
     "name": "stderr",
     "output_type": "stream",
     "text": [
      "/export/scratch1/home/arkadiy/.local/lib/python2.7/site-packages/skimage/io/_io.py:140: UserWarning: ../data/segmentations_with_erosion_try2/Case48_segmentation_0.jpg is a low contrast image\n",
      "  warn('%s is a low contrast image' % fname)\n",
      "/export/scratch1/home/arkadiy/.local/lib/python2.7/site-packages/skimage/io/_io.py:140: UserWarning: ../data/segmentations_with_erosion_try2/Case48_segmentation_1.jpg is a low contrast image\n",
      "  warn('%s is a low contrast image' % fname)\n",
      "/export/scratch1/home/arkadiy/.local/lib/python2.7/site-packages/skimage/io/_io.py:140: UserWarning: ../data/segmentations_with_erosion_try2/Case48_segmentation_2.jpg is a low contrast image\n",
      "  warn('%s is a low contrast image' % fname)\n",
      "/export/scratch1/home/arkadiy/.local/lib/python2.7/site-packages/skimage/io/_io.py:140: UserWarning: ../data/segmentations_with_erosion_try2/Case48_segmentation_3.jpg is a low contrast image\n",
      "  warn('%s is a low contrast image' % fname)\n",
      "/export/scratch1/home/arkadiy/.local/lib/python2.7/site-packages/skimage/io/_io.py:140: UserWarning: ../data/segmentations_with_erosion_try2/Case48_segmentation_4.jpg is a low contrast image\n",
      "  warn('%s is a low contrast image' % fname)\n"
     ]
    },
    {
     "name": "stdout",
     "output_type": "stream",
     "text": [
      "0.0 0.0\n",
      "0.0 0.0\n",
      "728.0 133.0\n",
      "1059.0 471.0\n",
      "2003.0 1081.0\n",
      "2335.0 1458.0\n",
      "3122.0 1379.0\n"
     ]
    },
    {
     "name": "stderr",
     "output_type": "stream",
     "text": [
      "/export/scratch1/home/arkadiy/.local/lib/python2.7/site-packages/skimage/io/_io.py:140: UserWarning: ../data/segmentations_with_erosion_try2/Case48_segmentation_5.jpg is a low contrast image\n",
      "  warn('%s is a low contrast image' % fname)\n",
      "/export/scratch1/home/arkadiy/.local/lib/python2.7/site-packages/skimage/io/_io.py:140: UserWarning: ../data/segmentations_with_erosion_try2/Case48_segmentation_6.jpg is a low contrast image\n",
      "  warn('%s is a low contrast image' % fname)\n",
      "/export/scratch1/home/arkadiy/.local/lib/python2.7/site-packages/skimage/io/_io.py:140: UserWarning: ../data/segmentations_with_erosion_try2/Case48_segmentation_7.jpg is a low contrast image\n",
      "  warn('%s is a low contrast image' % fname)\n",
      "/export/scratch1/home/arkadiy/.local/lib/python2.7/site-packages/skimage/io/_io.py:140: UserWarning: ../data/segmentations_with_erosion_try2/Case48_segmentation_8.jpg is a low contrast image\n",
      "  warn('%s is a low contrast image' % fname)\n"
     ]
    },
    {
     "name": "stdout",
     "output_type": "stream",
     "text": [
      "3295.0 2254.0\n",
      "3589.0 2346.0\n",
      "3771.0 2307.0\n",
      "3934.0 2849.0\n",
      "3632.0 2411.0\n",
      "3200.0 1332.0\n",
      "2734.0 1726.0\n",
      "403.0 274.0\n",
      "0.0 0.0\n",
      "0.0 0.0\n",
      "0.0 0.0\n",
      "0.0 0.0\n"
     ]
    },
    {
     "name": "stderr",
     "output_type": "stream",
     "text": [
      "/export/scratch1/home/arkadiy/.local/lib/python2.7/site-packages/skimage/io/_io.py:140: UserWarning: ../data/segmentations_with_erosion_try2/Case48_segmentation_19.jpg is a low contrast image\n",
      "  warn('%s is a low contrast image' % fname)\n",
      "/export/scratch1/home/arkadiy/.local/lib/python2.7/site-packages/skimage/io/_io.py:140: UserWarning: ../data/segmentations_with_erosion_try2/Case48_segmentation_20.jpg is a low contrast image\n",
      "  warn('%s is a low contrast image' % fname)\n",
      "/export/scratch1/home/arkadiy/.local/lib/python2.7/site-packages/skimage/io/_io.py:140: UserWarning: ../data/segmentations_with_erosion_try2/Case48_segmentation_21.jpg is a low contrast image\n",
      "  warn('%s is a low contrast image' % fname)\n",
      "/export/scratch1/home/arkadiy/.local/lib/python2.7/site-packages/skimage/io/_io.py:140: UserWarning: ../data/segmentations_with_erosion_try2/Case48_segmentation_22.jpg is a low contrast image\n",
      "  warn('%s is a low contrast image' % fname)\n",
      "/export/scratch1/home/arkadiy/.local/lib/python2.7/site-packages/skimage/io/_io.py:140: UserWarning: ../data/segmentations_with_erosion_try2/Case48_segmentation_23.jpg is a low contrast image\n",
      "  warn('%s is a low contrast image' % fname)\n"
     ]
    },
    {
     "name": "stdout",
     "output_type": "stream",
     "text": [
      "Case49.mhd (24, 320, 320)\n",
      "Case49_segmentation.mhd (24, 320, 320)\n",
      "0.0 0.0\n",
      "0.0 0.0\n",
      "0.0 0.0\n",
      "0.0 0.0\n",
      "992.0 398.0\n"
     ]
    },
    {
     "name": "stderr",
     "output_type": "stream",
     "text": [
      "/export/scratch1/home/arkadiy/.local/lib/python2.7/site-packages/skimage/io/_io.py:140: UserWarning: ../data/segmentations_with_erosion_try2/Case49_segmentation_0.jpg is a low contrast image\n",
      "  warn('%s is a low contrast image' % fname)\n",
      "/export/scratch1/home/arkadiy/.local/lib/python2.7/site-packages/skimage/io/_io.py:140: UserWarning: ../data/segmentations_with_erosion_try2/Case49_segmentation_1.jpg is a low contrast image\n",
      "  warn('%s is a low contrast image' % fname)\n",
      "/export/scratch1/home/arkadiy/.local/lib/python2.7/site-packages/skimage/io/_io.py:140: UserWarning: ../data/segmentations_with_erosion_try2/Case49_segmentation_2.jpg is a low contrast image\n",
      "  warn('%s is a low contrast image' % fname)\n",
      "/export/scratch1/home/arkadiy/.local/lib/python2.7/site-packages/skimage/io/_io.py:140: UserWarning: ../data/segmentations_with_erosion_try2/Case49_segmentation_3.jpg is a low contrast image\n",
      "  warn('%s is a low contrast image' % fname)\n",
      "/export/scratch1/home/arkadiy/.local/lib/python2.7/site-packages/skimage/io/_io.py:140: UserWarning: ../data/segmentations_with_erosion_try2/Case49_segmentation_4.jpg is a low contrast image\n",
      "  warn('%s is a low contrast image' % fname)\n"
     ]
    },
    {
     "name": "stdout",
     "output_type": "stream",
     "text": [
      "1449.0 602.0\n",
      "1804.0 908.0\n",
      "1857.0 638.0\n",
      "2367.0 1109.0\n",
      "2688.0 1338.0\n"
     ]
    },
    {
     "name": "stderr",
     "output_type": "stream",
     "text": [
      "/export/scratch1/home/arkadiy/.local/lib/python2.7/site-packages/skimage/io/_io.py:140: UserWarning: ../data/segmentations_with_erosion_try2/Case49_segmentation_5.jpg is a low contrast image\n",
      "  warn('%s is a low contrast image' % fname)\n",
      "/export/scratch1/home/arkadiy/.local/lib/python2.7/site-packages/skimage/io/_io.py:140: UserWarning: ../data/segmentations_with_erosion_try2/Case49_segmentation_6.jpg is a low contrast image\n",
      "  warn('%s is a low contrast image' % fname)\n",
      "/export/scratch1/home/arkadiy/.local/lib/python2.7/site-packages/skimage/io/_io.py:140: UserWarning: ../data/segmentations_with_erosion_try2/Case49_segmentation_7.jpg is a low contrast image\n",
      "  warn('%s is a low contrast image' % fname)\n"
     ]
    },
    {
     "name": "stdout",
     "output_type": "stream",
     "text": [
      "3366.0 2046.0\n",
      "3725.0 2306.0\n",
      "3829.0 2584.0\n",
      "3349.0 2136.0\n",
      "2671.0 1232.0\n",
      "0.0 0.0\n",
      "0.0 0.0\n"
     ]
    },
    {
     "name": "stderr",
     "output_type": "stream",
     "text": [
      "/export/scratch1/home/arkadiy/.local/lib/python2.7/site-packages/skimage/io/_io.py:140: UserWarning: ../data/segmentations_with_erosion_try2/Case49_segmentation_15.jpg is a low contrast image\n",
      "  warn('%s is a low contrast image' % fname)\n",
      "/export/scratch1/home/arkadiy/.local/lib/python2.7/site-packages/skimage/io/_io.py:140: UserWarning: ../data/segmentations_with_erosion_try2/Case49_segmentation_16.jpg is a low contrast image\n",
      "  warn('%s is a low contrast image' % fname)\n",
      "/export/scratch1/home/arkadiy/.local/lib/python2.7/site-packages/skimage/io/_io.py:140: UserWarning: ../data/segmentations_with_erosion_try2/Case49_segmentation_17.jpg is a low contrast image\n",
      "  warn('%s is a low contrast image' % fname)\n",
      "/export/scratch1/home/arkadiy/.local/lib/python2.7/site-packages/skimage/io/_io.py:140: UserWarning: ../data/segmentations_with_erosion_try2/Case49_segmentation_18.jpg is a low contrast image\n",
      "  warn('%s is a low contrast image' % fname)\n",
      "/export/scratch1/home/arkadiy/.local/lib/python2.7/site-packages/skimage/io/_io.py:140: UserWarning: ../data/segmentations_with_erosion_try2/Case49_segmentation_19.jpg is a low contrast image\n",
      "  warn('%s is a low contrast image' % fname)\n",
      "/export/scratch1/home/arkadiy/.local/lib/python2.7/site-packages/skimage/io/_io.py:140: UserWarning: ../data/segmentations_with_erosion_try2/Case49_segmentation_20.jpg is a low contrast image\n",
      "  warn('%s is a low contrast image' % fname)\n"
     ]
    },
    {
     "name": "stdout",
     "output_type": "stream",
     "text": [
      "0.0 0.0\n",
      "0.0 0.0\n",
      "0.0 0.0\n",
      "0.0 0.0\n",
      "0.0 0.0\n",
      "0.0 0.0\n",
      "0.0 0.0\n"
     ]
    },
    {
     "name": "stderr",
     "output_type": "stream",
     "text": [
      "/export/scratch1/home/arkadiy/.local/lib/python2.7/site-packages/skimage/io/_io.py:140: UserWarning: ../data/segmentations_with_erosion_try2/Case49_segmentation_21.jpg is a low contrast image\n",
      "  warn('%s is a low contrast image' % fname)\n",
      "/export/scratch1/home/arkadiy/.local/lib/python2.7/site-packages/skimage/io/_io.py:140: UserWarning: ../data/segmentations_with_erosion_try2/Case49_segmentation_22.jpg is a low contrast image\n",
      "  warn('%s is a low contrast image' % fname)\n",
      "/export/scratch1/home/arkadiy/.local/lib/python2.7/site-packages/skimage/io/_io.py:140: UserWarning: ../data/segmentations_with_erosion_try2/Case49_segmentation_23.jpg is a low contrast image\n",
      "  warn('%s is a low contrast image' % fname)\n"
     ]
    }
   ],
   "source": [
    "from skimage.morphology import dilation, erosion, disk\n",
    "\n",
    "folder = '../data/raw_data/'\n",
    "output_folder_images = '../data/images'\n",
    "output_folder_segmentations = '../data/segmentations_with_erosion_all'\n",
    "\n",
    "def variate_image(img, type, verbose):\n",
    "    \n",
    "    img_backup = np.copy(img)\n",
    "\n",
    "    if type == 0: #dilation\n",
    "        #dilation_factor = int(np.clip(np.random.normal(3,1.5), 0, 6)) #small erosion/dilation\n",
    "        dilation_factor = int(np.clip(np.random.normal(7,2), 0, 14)) #large erosion/dilation   \n",
    "        img = dilation(img, disk(dilation_factor))\n",
    "    elif type == 1: #erosion\n",
    "        #erosion_factor = int(np.clip(np.random.normal(3,1.5), 0, 6)) #small erosion/dilation\n",
    "        erosion_factor = int(np.clip(np.random.normal(7,2), 0, 14)) #large erosion/dilation\n",
    "        img = erosion(img, disk(erosion_factor))\n",
    "    \n",
    "    print np.sum(img_backup), np.sum(img)\n",
    "    if verbose:\n",
    "        plt.imshow(img_backup-img)\n",
    "        plt.show()\n",
    "        \n",
    "    return img\n",
    "\n",
    "files = os.listdir(folder)\n",
    "files = sorted([file for file in files if 'mhd' in file])\n",
    "for file in files:\n",
    "    img = io.imread(os.path.join(folder,file), plugin='simpleitk')\n",
    "    img = img.astype(np.float64)\n",
    "    img /= img.max()\n",
    "    print file, img.shape\n",
    "    \n",
    "    if 'segmentation' not in file:\n",
    "        for i in range(img.shape[0]):\n",
    "            img[i] = exposure.rescale_intensity(img[i], out_range=(0,1))\n",
    "            img[i] = exposure.equalize_adapthist(img[i])\n",
    "            io.imsave(os.path.join(output_folder_images, file.replace('.mhd','')+'_'+str(i)+'.jpg'), img[i])\n",
    "    else:\n",
    "        case_number = int(file[4:6])\n",
    "        \n",
    "        for i in range(img.shape[0]):\n",
    "            img[i] = variate_image(img[i], type = 1, verbose = 0)\n",
    "                \n",
    "            #print file,img[i].min(), img[i].max(), img[i].mean()\n",
    "            io.imsave(os.path.join(output_folder_segmentations, file.replace('.mhd','')+'_'+str(i)+'.jpg'), img[i])\n",
    "        "
   ]
  },
  {
   "cell_type": "code",
   "execution_count": 163,
   "metadata": {},
   "outputs": [],
   "source": [
    "folder1 = '../data/segmentations_with_erosion_all'\n",
    "files1 = sorted(os.listdir(folder1))\n",
    "\n",
    "folder2 = '../data/segmentations_with_dilation_all'\n",
    "files2 = sorted(os.listdir(folder2))\n"
   ]
  },
  {
   "cell_type": "code",
   "execution_count": 161,
   "metadata": {},
   "outputs": [],
   "source": [
    "from shutil import copyfile\n",
    "\n",
    "for file in files1:\n",
    "    case = int(file[4:6])\n",
    "    if case % 2 == 0:\n",
    "        copyfile(os.path.join(folder1,file),os.path.join('../data/segmentations_with_variation_mixed',file))\n",
    "    else:\n",
    "        copyfile(os.path.join(folder2,file),os.path.join('../data/segmentations_with_variation_mixed',file))\n",
    "     "
   ]
  },
  {
   "cell_type": "code",
   "execution_count": 164,
   "metadata": {},
   "outputs": [],
   "source": [
    "from shutil import copyfile\n",
    "\n",
    "for file in files1:\n",
    "    case = int(file[4:6])\n",
    "    if case % 3 == 0:\n",
    "        copyfile(os.path.join(folder1,file),os.path.join('../data/segmentations_with_variation_mixed3',file))\n",
    "    else:\n",
    "        copyfile(os.path.join(folder2,file),os.path.join('../data/segmentations_with_variation_mixed3',file))\n",
    "     "
   ]
  },
  {
   "cell_type": "code",
   "execution_count": 165,
   "metadata": {},
   "outputs": [],
   "source": [
    "from shutil import copyfile\n",
    "\n",
    "for file in files1:\n",
    "    case = int(file[4:6])\n",
    "    if case % 4 == 0:\n",
    "        copyfile(os.path.join(folder1,file),os.path.join('../data/segmentations_with_variation_mixed4',file))\n",
    "    else:\n",
    "        copyfile(os.path.join(folder2,file),os.path.join('../data/segmentations_with_variation_mixed4',file))\n",
    "     "
   ]
  },
  {
   "cell_type": "code",
   "execution_count": 166,
   "metadata": {},
   "outputs": [],
   "source": [
    "from shutil import copyfile\n",
    "\n",
    "for file in files1:\n",
    "    case = int(file[4:6])\n",
    "    if case % 5 == 0:\n",
    "        copyfile(os.path.join(folder1,file),os.path.join('../data/segmentations_with_variation_mixed5',file))\n",
    "    else:\n",
    "        copyfile(os.path.join(folder2,file),os.path.join('../data/segmentations_with_variation_mixed5',file))\n",
    "     "
   ]
  },
  {
   "cell_type": "code",
   "execution_count": null,
   "metadata": {},
   "outputs": [],
   "source": []
  }
 ],
 "metadata": {
  "kernelspec": {
   "display_name": "Python 2",
   "language": "python",
   "name": "python2"
  },
  "language_info": {
   "codemirror_mode": {
    "name": "ipython",
    "version": 2
   },
   "file_extension": ".py",
   "mimetype": "text/x-python",
   "name": "python",
   "nbconvert_exporter": "python",
   "pygments_lexer": "ipython2",
   "version": "2.7.15"
  }
 },
 "nbformat": 4,
 "nbformat_minor": 2
}
