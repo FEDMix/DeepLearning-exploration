{
 "cells": [
  {
   "cell_type": "code",
   "execution_count": 16,
   "metadata": {},
   "outputs": [],
   "source": [
    "from torch import nn\n",
    "import torch"
   ]
  },
  {
   "cell_type": "code",
   "execution_count": 17,
   "metadata": {},
   "outputs": [],
   "source": [
    "from PIL import Image as im\n",
    "import torchvision\n",
    "import os\n",
    "to_tensor = torchvision.transforms.ToTensor()\n",
    "xl = to_tensor(im.open(os.path.join('../data/segmentations_with_erosion_all', 'Case00_segmentation_21.jpg')))\n",
    "yl = to_tensor(im.open(os.path.join('../data/segmentations_with_erosion_all', 'Case02_segmentation_32.jpg')))"
   ]
  },
  {
   "cell_type": "code",
   "execution_count": 18,
   "metadata": {},
   "outputs": [],
   "source": [
    "import matplotlib.pyplot as plt\n",
    "%matplotlib inline"
   ]
  },
  {
   "cell_type": "code",
   "execution_count": 19,
   "metadata": {},
   "outputs": [
    {
     "data": {
      "text/plain": [
       "<matplotlib.image.AxesImage at 0x7f26dba8dfd0>"
      ]
     },
     "execution_count": 19,
     "metadata": {},
     "output_type": "execute_result"
    },
    {
     "data": {
      "image/png": "[encoded data removed]",
      "text/plain": [
       "<Figure size 432x288 with 2 Axes>"
      ]
     },
     "metadata": {
      "needs_background": "light"
     },
     "output_type": "display_data"
    }
   ],
   "source": [
    "plt.subplot(1,2,1)\n",
    "plt.imshow(xl[0].detach(), cmap='gray')\n",
    "plt.subplot(1,2,2)\n",
    "plt.imshow(yl[0].detach(), cmap='gray')"
   ]
  },
  {
   "cell_type": "markdown",
   "metadata": {},
   "source": [
    "## Constructing an edge map\n",
    "\n",
    "We want to weight the output of the segmentation method in such a way that areas around the edges of the segmentation are weighted heavier. The approach here is to first do a simple edge detection. We (probably) want to blur the the resulting map to also make areas near, but not on an edge weighted a more than areas not near a border at all.\n",
    "\n",
    "Construction of the Gaussian kernel is not written in Torch as we don't need to calculate any gradient of this process. \n",
    "\n",
    "Two methods are implemented for combining horizontal and vertical edges. One is taking the sum of the abs while the other is taking the square root of the sum of the squares. Below I try to see what are the differences in the resulting weight maps. It seems the differences between the two are negligible."
   ]
  },
  {
   "cell_type": "code",
   "execution_count": 20,
   "metadata": {},
   "outputs": [],
   "source": [
    "from scipy import stats as st\n",
    "\n",
    "def edges(x):\n",
    "    xx = torch.zeros_like(x)\n",
    "    xy = torch.zeros_like(x)\n",
    "    xx[:,:-1,:] = x[:,1:, :] - x[:,:-1, :]\n",
    "    xy[:,:,:-1] = x[:,:, 1:] - x[:,:, :-1]\n",
    "    return xx, xy\n",
    "\n",
    "def all_edges(x):\n",
    "    xx, xy = edges(x)\n",
    "    return torch.sqrt((xx * xx) + (xy * xy))\n",
    "\n",
    "def all_edges_abs(x):\n",
    "    xx, xy = edges(x)    \n",
    "    return torch.abs(xx) + torch.abs(xy)\n",
    "\n",
    "def gkern(kernlen=5, nsig=3):\n",
    "    \"\"\"Returns a 2D Gaussian kernel array. Taken from https://stackoverflow.com/a/29731818\"\"\"\n",
    "    interval = (2*nsig+1.)/(kernlen)\n",
    "    x = np.linspace(-nsig-interval/2., nsig+interval/2., kernlen+1)\n",
    "    kern1d = np.diff(st.norm.cdf(x))\n",
    "    kernel_raw = np.sqrt(np.outer(kern1d, kern1d))\n",
    "    kernel = kernel_raw/kernel_raw.sum()\n",
    "    return np.array(kernel, dtype=np.float)\n",
    "\n",
    "from torch.nn import Conv2d\n",
    "from scipy.ndimage.filters import gaussian_filter\n",
    "conv = Conv2d(1,1,15, padding=7)\n",
    "\n",
    "def smoothed_edges(x):\n",
    "    xcombined = all_edges(x)\n",
    "    array = [[gkern(15)]]\n",
    "    kernel = torch.tensor(array, dtype=torch.float)\n",
    "    conv.weight = torch.nn.Parameter(data=kernel)\n",
    "    return conv.forward(xcombined.view([1,1,512,512]))\n",
    "\n",
    "def smoothed_edges_abs(x):\n",
    "    xcombined = all_edges_abs(x)\n",
    "    array = [[gkern(15)]]\n",
    "    kernel = torch.tensor(array, dtype=torch.float)\n",
    "    conv.weight = torch.nn.Parameter(data=kernel)\n",
    "    return conv.forward(xcombined.view([1,1,512,512]))"
   ]
  },
  {
   "cell_type": "markdown",
   "metadata": {},
   "source": [
    "## Jpeg artifacts\n",
    "I first tried to load the segmentations as jpegs but ran into trouble caused by jpeg artifacts. Because of them, it was impossible (or hard at least) to analyse the methods well."
   ]
  },
  {
   "cell_type": "code",
   "execution_count": 21,
   "metadata": {},
   "outputs": [],
   "source": [
    "import numpy as np\n",
    "\n",
    "def describe(im, name=None):\n",
    "    if name is not None:\n",
    "        print(name)\n",
    "    print('shape:',im.shape)\n",
    "    print('min:', np.min(im))\n",
    "    print('max', np.max(im))\n",
    "    print('mean', np.mean(im))"
   ]
  },
  {
   "cell_type": "code",
   "execution_count": 30,
   "metadata": {},
   "outputs": [
    {
     "name": "stdout",
     "output_type": "stream",
     "text": [
      "im1\n",
      "shape: (150, 200)\n",
      "min: -1.0\n",
      "max 1.0\n",
      "mean 0.0\n",
      "im2\n",
      "shape: (150, 200)\n",
      "min: -1.0\n",
      "max 1.0\n",
      "mean 0.00073333335\n"
     ]
    },
    {
     "data": {
      "text/plain": [
       "<matplotlib.image.AxesImage at 0x7f26db4f3b00>"
      ]
     },
     "execution_count": 30,
     "metadata": {},
     "output_type": "execute_result"
    },
    {
     "data": {
      "image/png": "[encoded data removed]",
      "text/plain": [
       "<Figure size 1440x720 with 3 Axes>"
      ]
     },
     "metadata": {
      "needs_background": "light"
     },
     "output_type": "display_data"
    }
   ],
   "source": [
    "plt.figure(figsize=(20,10))\n",
    "plt.subplot(1,3,1)\n",
    "im1 = edges(xl)[0].view(512,512).detach().numpy()[150:300,150:350]\n",
    "describe(im1, name='im1')\n",
    "plt.imshow(im1, cmap='gray', vmin=-1, vmax=1)\n",
    "\n",
    "plt.subplot(1,3,2)\n",
    "im2 = edges(xl)[1].view(512,512).detach().numpy()[150:300,150:350]\n",
    "describe(im2, name='im2')\n",
    "plt.imshow(im2, cmap='gray', vmin=-1, vmax=1)\n",
    "\n",
    "\n",
    "plt.subplot(1,3,3)\n",
    "mask = im1 == im2\n",
    "plt.imshow(mask, cmap='gray', vmin=0, vmax=1)\n",
    "\n",
    "# plt.figure()\n",
    "# plt.hist(im1.flatten())\n",
    "# plt.figure()\n",
    "# plt.hist(im2.flatten())"
   ]
  },
  {
   "cell_type": "markdown",
   "metadata": {},
   "source": [
    "From here on, I'm working with segmentation loaded from the raw data. In the plots below we see there are no artifacts anymore."
   ]
  },
  {
   "cell_type": "code",
   "execution_count": 23,
   "metadata": {},
   "outputs": [],
   "source": [
    "import skimage.io as io\n",
    "def imload(file_path):\n",
    "    img = io.imread(os.path.join(file_path), plugin='simpleitk')\n",
    "    img = img.astype(np.float32)\n",
    "    img /= img.max()\n",
    "    return img"
   ]
  },
  {
   "cell_type": "code",
   "execution_count": 27,
   "metadata": {},
   "outputs": [
    {
     "name": "stdout",
     "output_type": "stream",
     "text": [
      "torch.Size([1, 512, 512])\n",
      "im1\n",
      "shape: (150, 200)\n",
      "min: 0.0\n",
      "max 1.4142135\n",
      "mean 0.018476956\n",
      "im2\n",
      "shape: (150, 200)\n",
      "min: 0.0\n",
      "max 2.0\n",
      "mean 0.02\n"
     ]
    },
    {
     "data": {
      "text/plain": [
       "<matplotlib.image.AxesImage at 0x7f26db884d68>"
      ]
     },
     "execution_count": 27,
     "metadata": {},
     "output_type": "execute_result"
    },
    {
     "data": {
      "image/png": "[encoded data removed]",
      "text/plain": [
       "<Figure size 1440x720 with 3 Axes>"
      ]
     },
     "metadata": {
      "needs_background": "light"
     },
     "output_type": "display_data"
    }
   ],
   "source": [
    "data_folder = '../data/raw_data/'\n",
    "segmentation_file_name = 'Case{}_segmentation.mhd'\n",
    "xl = torch.from_numpy(imload(os.path.join(data_folder,segmentation_file_name.format('00'))))[21:22]\n",
    "print(xl.shape)\n",
    "\n",
    "\n",
    "plt.figure(figsize=(20,10))\n",
    "plt.subplot(1,3,1)\n",
    "im1 = all_edges(xl).view(512,512).detach().numpy()[150:300,150:350]\n",
    "describe(im1, name='im1')\n",
    "plt.imshow(im1, cmap='gray', vmin=0, vmax=1)\n",
    "\n",
    "plt.subplot(1,3,2)\n",
    "im2 = all_edges_abs(xl).view(512,512).detach().numpy()[150:300,150:350]\n",
    "describe(im2, name='im2')\n",
    "plt.imshow(im2, cmap='gray', vmin=0, vmax=1)\n",
    "\n",
    "plt.subplot(1,3,3)\n",
    "mask = im1 ==im2\n",
    "plt.imshow(mask, cmap='gray', vmin=0, vmax=1)"
   ]
  },
  {
   "cell_type": "markdown",
   "metadata": {},
   "source": [
    "## Comparing two edge combination methods\n",
    "\n",
    "Below the effects of the two implementations for combining horizontal and vertical edges are shown. They look the same to me. Based on these images we could choose either one to work with. \n",
    "\n",
    "On the right, the difference between the two results are shown. Apparently there is some difference between the two methods for edges that are a bit in the direction of y=x. I don't see why this is the case yet. The effect seems quite small though so maybe we shouldn't care too much about it."
   ]
  },
  {
   "cell_type": "code",
   "execution_count": 31,
   "metadata": {},
   "outputs": [
    {
     "name": "stdout",
     "output_type": "stream",
     "text": [
      "im1\n",
      "shape: (150, 200)\n",
      "min: -0.032936662\n",
      "max 0.14342386\n",
      "mean -0.014352909\n",
      "im2\n",
      "shape: (150, 200)\n",
      "min: -0.032936662\n",
      "max 0.14572686\n",
      "mean -0.012834979\n"
     ]
    },
    {
     "data": {
      "text/plain": [
       "<matplotlib.image.AxesImage at 0x7f26db395a90>"
      ]
     },
     "execution_count": 31,
     "metadata": {},
     "output_type": "execute_result"
    },
    {
     "data": {
      "image/png": "[encoded data removed]",
      "text/plain": [
       "<Figure size 1440x720 with 3 Axes>"
      ]
     },
     "metadata": {
      "needs_background": "light"
     },
     "output_type": "display_data"
    }
   ],
   "source": [
    "plt.figure(figsize=(20,10))\n",
    "plt.subplot(1,3,1)\n",
    "im1 = smoothed_edges(xl).view(512,512).detach().numpy()[150:300,150:350]\n",
    "describe(im1, name='im1')\n",
    "plt.imshow(im1, cmap='gray', vmin=0, vmax=0.15)\n",
    "\n",
    "plt.subplot(1,3,2)\n",
    "im2 = smoothed_edges_abs(xl).view(512,512).detach().numpy()[150:300,150:350]\n",
    "describe(im2, name='im2')\n",
    "plt.imshow(im2, cmap='gray', vmin=0, vmax=0.15)\n",
    "\n",
    "plt.subplot(1,3,3)\n",
    "mask = im1 - im2\n",
    "plt.imshow(mask, cmap='gray')"
   ]
  },
  {
   "cell_type": "code",
   "execution_count": 26,
   "metadata": {},
   "outputs": [
    {
     "data": {
      "text/plain": [
       "507.0"
      ]
     },
     "execution_count": 26,
     "metadata": {},
     "output_type": "execute_result"
    }
   ],
   "source": [
    "np.sqrt(257049)"
   ]
  },
  {
   "cell_type": "code",
   "execution_count": null,
   "metadata": {},
   "outputs": [],
   "source": []
  },
  {
   "cell_type": "code",
   "execution_count": null,
   "metadata": {},
   "outputs": [],
   "source": []
  },
  {
   "cell_type": "code",
   "execution_count": null,
   "metadata": {},
   "outputs": [],
   "source": []
  },
  {
   "cell_type": "code",
   "execution_count": null,
   "metadata": {},
   "outputs": [],
   "source": []
  },
  {
   "cell_type": "code",
   "execution_count": null,
   "metadata": {},
   "outputs": [],
   "source": []
  },
  {
   "cell_type": "code",
   "execution_count": null,
   "metadata": {},
   "outputs": [],
   "source": []
  },
  {
   "cell_type": "code",
   "execution_count": null,
   "metadata": {},
   "outputs": [],
   "source": []
  },
  {
   "cell_type": "code",
   "execution_count": null,
   "metadata": {},
   "outputs": [],
   "source": []
  },
  {
   "cell_type": "code",
   "execution_count": null,
   "metadata": {},
   "outputs": [],
   "source": []
  },
  {
   "cell_type": "code",
   "execution_count": null,
   "metadata": {},
   "outputs": [],
   "source": []
  },
  {
   "cell_type": "code",
   "execution_count": null,
   "metadata": {},
   "outputs": [],
   "source": []
  },
  {
   "cell_type": "code",
   "execution_count": null,
   "metadata": {},
   "outputs": [],
   "source": []
  },
  {
   "cell_type": "code",
   "execution_count": null,
   "metadata": {},
   "outputs": [],
   "source": []
  }
 ],
 "metadata": {
  "kernelspec": {
   "display_name": "Python 3",
   "language": "python",
   "name": "python3"
  },
  "language_info": {
   "codemirror_mode": {
    "name": "ipython",
    "version": 3
   },
   "file_extension": ".py",
   "mimetype": "text/x-python",
   "name": "python",
   "nbconvert_exporter": "python",
   "pygments_lexer": "ipython3",
   "version": "3.6.8"
  }
 },
 "nbformat": 4,
 "nbformat_minor": 1
}
